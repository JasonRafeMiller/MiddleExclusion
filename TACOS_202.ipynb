{
 "cells": [
  {
   "cell_type": "markdown",
   "id": "93d92fc1",
   "metadata": {},
   "source": [
    "# TACOS\n",
    "In notebook TACOS_201, we generated files for upload to TACOS. Here, we analyze the results. Each file was uploaded manually to the TACOS server, and the corresponding cell line was selected from the pull-down menu. Each generated CSV file was saved to disk. The 10 results files contained three fields per line: FASTA defline, predicted localization (either ‘Nucleus’ or ‘Cytoplasm’), and a probability (between 0 and 1). We considered ‘Nucleus’ to be a correct prediction if the true CNRCI was zero or below, and ‘Cytoplasm’ to be a correct prediction if the true CNRCI was zero or above.\n",
    "\n",
    "Use the TACOS [web server](https://balalab-skku.org/TACOS/).\n",
    "Assume the TACOS_output directory was populated with 10 csv files from the TACOS server.   \n",
    "This notebook generates performance statistics.    "
   ]
  },
  {
   "cell_type": "code",
   "execution_count": 1,
   "id": "99deb5bd",
   "metadata": {},
   "outputs": [],
   "source": [
    "import numpy as np\n",
    "np.random.seed(seed=1234)\n",
    "FASTA_SIZE = 100\n",
    "RESULTS='TACOS_output/'\n",
    "# The lncATLAS database has data for 15 cell lines. \n",
    "# TACOS supports 10 of those. \n",
    "TACOS_CELL_LINES=['A549','GM12878','HELA','HEPG','HESC','HT1080','HUVEC','NHEK','SKMEL','SKNS']\n",
    "ATLAS_CELL_LINES=['A549','GM12878','HeLa.S3','HepG2','H1.hESC','HT1080','HUVEC','NHEK','SK.MEL.5','SK.N.SH']\n",
    "# Labels returned by TACOS server\n",
    "nuc_label = 'Nucleus'\n",
    "cyto_label = 'Cytoplasm'"
   ]
  },
  {
   "cell_type": "markdown",
   "id": "0aff2957-e5f4-44b3-af20-fb7323069a09",
   "metadata": {},
   "source": [
    "## Processing\n",
    "Process the files returned by TACOS. \n",
    "Each file is in FASTA format with extra information in the deflines.\n",
    "A typical defline contains TID, GID, CNRCI truth, predicted class, predicted probability.\n",
    "For example:\n",
    "\n",
    "    ENST00000607222 ENSG00000272106 -0.524915,Nucleus,0.487"
   ]
  },
  {
   "cell_type": "code",
   "execution_count": 2,
   "id": "db45f02b-a7b2-425a-a20b-ed73a1062868",
   "metadata": {},
   "outputs": [
    {
     "name": "stdout",
     "output_type": "stream",
     "text": [
      "Processing cell line: A549 A549\n",
      "Average probability: 0.496537\n",
      "Correct / Incorrect: 59/36\n",
      "Cell line: A549 Accuracy: 62%\n",
      "\n",
      "Processing cell line: GM12878 GM12878\n",
      "Average probability: 0.463760\n",
      "Correct / Incorrect: 47/49\n",
      "Cell line: GM12878 Accuracy: 49%\n",
      "\n",
      "Processing cell line: HeLa.S3 HELA\n",
      "Average probability: 0.376287\n",
      "Correct / Incorrect: 47/40\n",
      "Cell line: HELA Accuracy: 54%\n",
      "\n",
      "Processing cell line: HepG2 HEPG\n",
      "Average probability: 0.487021\n",
      "Correct / Incorrect: 53/42\n",
      "Cell line: HEPG Accuracy: 56%\n",
      "\n",
      "Processing cell line: H1.hESC HESC\n",
      "Average probability: 0.480206\n",
      "Correct / Incorrect: 65/32\n",
      "Cell line: HESC Accuracy: 67%\n",
      "\n",
      "Processing cell line: HT1080 HT1080\n",
      "Average probability: 0.642303\n",
      "Correct / Incorrect: 50/39\n",
      "Cell line: HT1080 Accuracy: 56%\n",
      "\n",
      "Processing cell line: HUVEC HUVEC\n",
      "Average probability: 0.410225\n",
      "Correct / Incorrect: 55/34\n",
      "Cell line: HUVEC Accuracy: 62%\n",
      "\n",
      "Processing cell line: NHEK NHEK\n",
      "Average probability: 0.479372\n",
      "Correct / Incorrect: 49/45\n",
      "Cell line: NHEK Accuracy: 52%\n",
      "\n",
      "Processing cell line: SK.MEL.5 SKMEL\n",
      "Average probability: 0.377747\n",
      "Correct / Incorrect: 43/40\n",
      "Cell line: SKMEL Accuracy: 52%\n",
      "\n",
      "Processing cell line: SK.N.SH SKNS\n",
      "Average probability: 0.465617\n",
      "Correct / Incorrect: 48/46\n",
      "Cell line: SKNS Accuracy: 51%\n",
      "\n"
     ]
    }
   ],
   "source": [
    "# For each of 10 cell lines:\n",
    "# parse the FASTA file returned by TACOS.\n",
    "# From each defline, extract CNRCI (ground truth), predicted class (TACOS), \n",
    "# and predicted probability (TACOS).\n",
    "# Count prediction as correct if CNRCI<=0 and prediction==nucleus\n",
    "# or CNRCI>0 and prediction==cytoplasm, incorrect otherwise.\n",
    "# Show statistics per cell line.\n",
    "\n",
    "accucacy_per_cell_line = list()\n",
    "total_correct = 0\n",
    "total_incorrect = 0\n",
    "for i in range(len(TACOS_CELL_LINES)):\n",
    "    cell_line = TACOS_CELL_LINES[i]\n",
    "    real_name = ATLAS_CELL_LINES[i]\n",
    "    print('Processing cell line:', real_name, cell_line)\n",
    "    correct = 0\n",
    "    incorrect = 0\n",
    "    total = 0\n",
    "    probabilities = list()\n",
    "    outfn = RESULTS+cell_line+'.csv'         # match saved web server results\n",
    "    try:\n",
    "        with open (outfn, 'r') as fin:\n",
    "            header = None\n",
    "            for line in fin:\n",
    "                if header is None:\n",
    "                    header = line\n",
    "                    continue\n",
    "                # expect text like this:\n",
    "                # ENST00000607222 ENSG00000272106 -0.524915,Nucleus,0.487\n",
    "                line = line.strip()\n",
    "                inputs,prediction,prob = line.split(',')\n",
    "                prob = float(prob)\n",
    "                tid,gid,rci = inputs.split(' ')\n",
    "                rci = float(rci)\n",
    "                # Give benefit of doubt if rci is exactly zero!\n",
    "                if rci <= 0 and prediction==nuc_label:\n",
    "                    correct += 1\n",
    "                elif rci >= 0 and prediction==cyto_label:\n",
    "                    correct += 1\n",
    "                else:\n",
    "                    incorrect +=1\n",
    "                total += 1\n",
    "                probabilities.append(prob)\n",
    "        rounded_accuracy_percent = int(0.5+100*correct/(total))\n",
    "        accucacy_per_cell_line.append(rounded_accuracy_percent)\n",
    "        total_correct += correct\n",
    "        total_incorrect += incorrect\n",
    "        print('Average probability: %f' % np.mean(probabilities))\n",
    "        print('Correct / Incorrect: %d/%d' % (correct,incorrect))\n",
    "        print('Cell line: %s Accuracy: %d%%' % (cell_line,rounded_accuracy_percent))\n",
    "        print()\n",
    "    except:\n",
    "        print('File not found:', outfn)\n",
    "        print()\n"
   ]
  },
  {
   "cell_type": "code",
   "execution_count": 10,
   "id": "e0e59f0e",
   "metadata": {},
   "outputs": [
    {
     "name": "stdout",
     "output_type": "stream",
     "text": [
      "Accuracy per cell line:\n",
      "A549 62\n",
      "GM12878 49\n",
      "HELA 54\n",
      "HEPG 56\n",
      "HESC 67\n",
      "HT1080 56\n",
      "HUVEC 62\n",
      "NHEK 52\n",
      "SKMEL 52\n",
      "SKNS 51\n",
      "Mean: 56.1\n",
      "Standard deviation: 5.503635162326805\n"
     ]
    }
   ],
   "source": [
    "# For each cell line,\n",
    "# show the accuracy.\n",
    "# Also show overall accuracy with standard deviation across cell lines.\n",
    "\n",
    "print('Accuracy per cell line:')\n",
    "for i in range(len(TACOS_CELL_LINES)):\n",
    "    print(TACOS_CELL_LINES[i], accucacy_per_cell_line[i])\n",
    "print('Mean:', np.mean(accucacy_per_cell_line))\n",
    "print('Standard deviation:', np.std(accucacy_per_cell_line))"
   ]
  },
  {
   "cell_type": "code",
   "execution_count": 8,
   "id": "1099a3e3-64e3-4b46-9990-f4df70e4393b",
   "metadata": {},
   "outputs": [
    {
     "name": "stdout",
     "output_type": "stream",
     "text": [
      "Overall accuracy of 10*100=1000 genes: 56.147987%\n"
     ]
    }
   ],
   "source": [
    "overall = 100.0*total_correct/(total_correct+total_incorrect)\n",
    "print('Overall accuracy of 10*100=1000 genes: %f%%' % overall)"
   ]
  },
  {
   "cell_type": "code",
   "execution_count": 9,
   "id": "428a2ed2",
   "metadata": {},
   "outputs": [
    {
     "name": "stdout",
     "output_type": "stream",
     "text": [
      "done\n"
     ]
    }
   ],
   "source": [
    "print('done')"
   ]
  },
  {
   "cell_type": "code",
   "execution_count": null,
   "id": "1e24f232-9d4d-402e-817a-b5070f1665ed",
   "metadata": {},
   "outputs": [],
   "source": []
  }
 ],
 "metadata": {
  "kernelspec": {
   "display_name": "Python 3 (ipykernel)",
   "language": "python",
   "name": "python3"
  },
  "language_info": {
   "codemirror_mode": {
    "name": "ipython",
    "version": 3
   },
   "file_extension": ".py",
   "mimetype": "text/x-python",
   "name": "python",
   "nbconvert_exporter": "python",
   "pygments_lexer": "ipython3",
   "version": "3.11.6"
  }
 },
 "nbformat": 4,
 "nbformat_minor": 5
}
