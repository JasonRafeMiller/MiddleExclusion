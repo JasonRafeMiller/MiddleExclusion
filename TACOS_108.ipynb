{
 "cells": [
  {
   "cell_type": "markdown",
   "id": "93d92fc1",
   "metadata": {},
   "source": [
    "# TACOS\n",
    "TACOS [web server](https://balalab-skku.org/TACOS/)\n",
    "\n",
    "20 random genes per category from cell line NHEK"
   ]
  },
  {
   "cell_type": "code",
   "execution_count": 1,
   "id": "99deb5bd",
   "metadata": {},
   "outputs": [],
   "source": [
    "import numpy as np\n",
    "np.random.seed(seed=1234)\n",
    "FASTA_SIZE = 20\n",
    "PREFIX='TACOS_input/NHEK'  # for output fasta files\n",
    "RESULTS='TACOS_output/NHEK' # for csv files from TACOS\n",
    "CELL_LINE='NHEK'   # for searching input lncATLAS file"
   ]
  },
  {
   "cell_type": "code",
   "execution_count": 2,
   "id": "1b8813a5",
   "metadata": {},
   "outputs": [],
   "source": [
    "# Assume these files or links are in the current directory.\n",
    "# This is from GenCode downloads\n",
    "GENCODE = 'gencode.v44.lncRNA_transcripts.fa'\n",
    "# This is from lncATLAS downloads\n",
    "LNCATLAS = 'lncATLAS_all_data_RCI.csv'\n",
    "# Extract canonical IDs from the GenCode GFF file.\n",
    "CANONICAL = 'gencode.v44.long_noncoding_RNAs.canonical_transcripts.txt'"
   ]
  },
  {
   "cell_type": "code",
   "execution_count": 3,
   "id": "6272b9d9",
   "metadata": {},
   "outputs": [],
   "source": [
    "def load_transcripts(seq_file,ids_file):\n",
    "    good_tids = dict()\n",
    "    with open (ids_file,'r') as fin:\n",
    "        for line in fin:\n",
    "            line = line.strip()\n",
    "            good_tids[line]=1\n",
    "    gid_to_index = dict()\n",
    "    sequences = list()\n",
    "    one_seq = ''\n",
    "    with open (seq_file,'r') as fin:\n",
    "        loading_sequence = False\n",
    "        for line in fin:\n",
    "            line = line.strip()\n",
    "            if line.startswith('>'):\n",
    "                if loading_sequence:\n",
    "                    sequences.append(one_seq)\n",
    "                    loading_sequence = False\n",
    "                    one_seq = ''\n",
    "                fields = line[1:].split('|')\n",
    "                tid = fields[0].split('.')[0]\n",
    "                gid = fields[1].split('.')[0]\n",
    "                if tid in good_tids.keys():\n",
    "                    gid_to_index[gid] = len(sequences)\n",
    "                    loading_sequence = True\n",
    "            elif loading_sequence:\n",
    "                one_seq += line\n",
    "    if loading_sequence:\n",
    "        sequences.append(one_seq)    \n",
    "    return gid_to_index,sequences    "
   ]
  },
  {
   "cell_type": "code",
   "execution_count": 4,
   "id": "164db3a5",
   "metadata": {},
   "outputs": [
    {
     "name": "stdout",
     "output_type": "stream",
     "text": [
      "We have 19922 gene ids.\n",
      "We have 19922 transcript sequences.\n"
     ]
    }
   ],
   "source": [
    "gid_to_index,sequences = load_transcripts(GENCODE,CANONICAL)\n",
    "print('We have %d gene ids.' % len(gid_to_index.keys()))\n",
    "print('We have %d transcript sequences.' % len(sequences))"
   ]
  },
  {
   "cell_type": "code",
   "execution_count": 5,
   "id": "def132ab",
   "metadata": {},
   "outputs": [],
   "source": [
    "def load_rci_truth(filename,cell_line):\n",
    "    all_rci = dict()\n",
    "    with open (filename, 'r') as fin:\n",
    "        header = None\n",
    "        for line in fin:\n",
    "            try:\n",
    "                fields = line.strip().split(',')\n",
    "                if header is None:\n",
    "                    header = fields\n",
    "                    continue\n",
    "                gid = fields[0]\n",
    "                cell_type = fields[1]\n",
    "                rci_type = fields[2]\n",
    "                rci_value = fields[3]\n",
    "                gene_type = fields[6]\n",
    "                if gene_type=='nc' and\\\n",
    "                    cell_type==cell_line and\\\n",
    "                    rci_type=='CNRCI' and\\\n",
    "                    rci_value!='NA':\n",
    "                    rci_value=float(rci_value)\n",
    "                    if gid in all_rci.keys():\n",
    "                        raise Exception('Another value for gene',gid)\n",
    "                    all_rci[gid]=rci_value\n",
    "            except Exception as e:\n",
    "                print(line)\n",
    "                traceback.print_exc()\n",
    "                raise(e)\n",
    "    return all_rci"
   ]
  },
  {
   "cell_type": "code",
   "execution_count": 6,
   "id": "59621bbe",
   "metadata": {},
   "outputs": [
    {
     "name": "stdout",
     "output_type": "stream",
     "text": [
      "We have an RCI for 1588 genes.\n"
     ]
    }
   ],
   "source": [
    "all_rci = load_rci_truth(LNCATLAS,CELL_LINE)\n",
    "print('We have an RCI for %d genes.' % len(all_rci.keys()))"
   ]
  },
  {
   "cell_type": "code",
   "execution_count": 7,
   "id": "02453176",
   "metadata": {},
   "outputs": [],
   "source": [
    "def split_rci(gene_to_rci):\n",
    "    low_rci = dict()\n",
    "    middle_rci = dict()\n",
    "    high_rci = dict()\n",
    "    for gene in gene_to_rci.keys():\n",
    "        value = gene_to_rci[gene]\n",
    "        if value < -1:\n",
    "            low_rci[gene]=value\n",
    "        elif value > 1:\n",
    "            high_rci[gene]=value\n",
    "        else:\n",
    "            middle_rci[gene]=value\n",
    "    return low_rci,middle_rci,high_rci"
   ]
  },
  {
   "cell_type": "code",
   "execution_count": 8,
   "id": "58165535",
   "metadata": {},
   "outputs": [],
   "source": [
    "low_rci,middle_rci,high_rci = split_rci(all_rci)"
   ]
  },
  {
   "cell_type": "code",
   "execution_count": 9,
   "id": "c55c0c12",
   "metadata": {},
   "outputs": [
    {
     "name": "stdout",
     "output_type": "stream",
     "text": [
      "Loaded gene RCI values for cell line NHEK.\n",
      "Total : 1588\n",
      "High  : 185\n",
      "Middle: 620\n",
      "Low   : 783\n"
     ]
    }
   ],
   "source": [
    "print('Loaded gene RCI values for cell line %s.'%CELL_LINE)\n",
    "print('Total :',len(all_rci.keys()))\n",
    "print('High  :',len(high_rci.keys()))\n",
    "print('Middle:',len(middle_rci.keys()))\n",
    "print('Low   :',len(low_rci.keys()))"
   ]
  },
  {
   "cell_type": "code",
   "execution_count": 10,
   "id": "b20b0104",
   "metadata": {},
   "outputs": [],
   "source": [
    "def randomize_genes(rci_values):\n",
    "    gene_list = list(rci_values.keys())\n",
    "    np.random.shuffle(gene_list)\n",
    "    return gene_list"
   ]
  },
  {
   "cell_type": "code",
   "execution_count": 11,
   "id": "1b442695",
   "metadata": {},
   "outputs": [],
   "source": [
    "def write_fasta(output_filename, gene_list, max_seqs,\n",
    "               gid_to_index, sequences):\n",
    "    with open (output_filename,'w') as fout:\n",
    "        writing_sequence = False\n",
    "        num_seqs = 0\n",
    "        for gene in gene_list:\n",
    "            if gene in gid_to_index.keys():\n",
    "                seq_ndx = gid_to_index[gene]\n",
    "                sequence = sequences[seq_ndx]\n",
    "                print('>'+gene, file=fout)\n",
    "                print(sequence, file=fout)\n",
    "                num_seqs += 1\n",
    "                if num_seqs >= max_seqs:\n",
    "                    break"
   ]
  },
  {
   "cell_type": "code",
   "execution_count": 12,
   "id": "4ad847ca",
   "metadata": {},
   "outputs": [],
   "source": [
    "random_low = randomize_genes(low_rci)\n",
    "fn=PREFIX+'.nega.fasta'\n",
    "write_fasta(fn,random_low,FASTA_SIZE,gid_to_index, sequences)"
   ]
  },
  {
   "cell_type": "code",
   "execution_count": 13,
   "id": "b57b4533",
   "metadata": {},
   "outputs": [],
   "source": [
    "random_middle = randomize_genes(middle_rci)\n",
    "fn=PREFIX+'.zero.fasta'\n",
    "write_fasta(fn,random_middle,FASTA_SIZE,gid_to_index, sequences)"
   ]
  },
  {
   "cell_type": "code",
   "execution_count": 14,
   "id": "bac541c2",
   "metadata": {},
   "outputs": [],
   "source": [
    "random_high = randomize_genes(high_rci)\n",
    "fn=PREFIX+'.posi.fasta'\n",
    "write_fasta(fn,random_high,FASTA_SIZE,gid_to_index, sequences)"
   ]
  },
  {
   "cell_type": "markdown",
   "id": "7c09ba8a",
   "metadata": {},
   "source": [
    "## Process results from TACOS web server¶"
   ]
  },
  {
   "cell_type": "code",
   "execution_count": 15,
   "id": "5ba0478f",
   "metadata": {},
   "outputs": [],
   "source": [
    "nuc_label = 'Nucleus'\n",
    "cyto_label = 'Cytoplasm'\n",
    "def parse_tacos_output(filename,truth,gene_to_rci=None):\n",
    "    # If truth is string, make it nuc_label or cyto_label, and gene_to_rci is None.\n",
    "    # If truth is float, make it the threshold, and provide gene_to_rci.\n",
    "    probabilities = []\n",
    "    correct = 0\n",
    "    incorrect = 0\n",
    "    with open (filename, 'r') as fin:\n",
    "        header = None\n",
    "        for line in fin:\n",
    "            line = line.strip()\n",
    "            fields = line.split(',')\n",
    "            if header is None:\n",
    "                header = fields\n",
    "                continue\n",
    "            gene_id=fields[0]\n",
    "            category = fields[1]\n",
    "            prob = float(fields[2])\n",
    "            probabilities.append(prob)\n",
    "            if gene_to_rci is not None: \n",
    "                # If truth is a threshold, convert it to string.\n",
    "                threshold = float(truth)\n",
    "                this_rci = gene_to_rci[gene_id]\n",
    "                if this_rci < threshold:\n",
    "                    right_label = nuc_label\n",
    "                else:\n",
    "                    right_label = cyto_label\n",
    "            else:\n",
    "                right_label = truth\n",
    "            if category == right_label:\n",
    "                correct += 1\n",
    "            else:\n",
    "                incorrect += 1\n",
    "    print(filename)\n",
    "    print('Average score: %f' % np.mean(probabilities))\n",
    "    print('Correct / Incorrect: %d/%d' % (correct,incorrect))\n",
    "    print('Accuracy: %d%%' % (int(0.5+100*correct/(correct+incorrect))))"
   ]
  },
  {
   "cell_type": "code",
   "execution_count": 16,
   "id": "57530258",
   "metadata": {},
   "outputs": [
    {
     "name": "stdout",
     "output_type": "stream",
     "text": [
      "negative\n",
      "TACOS_output/NHEK.nega.csv\n",
      "Average score: 0.465750\n",
      "Correct / Incorrect: 16/4\n",
      "Accuracy: 80%\n",
      "zero -1.0\n",
      "TACOS_output/NHEK.zero.csv\n",
      "Average score: 0.468300\n",
      "Correct / Incorrect: 4/16\n",
      "Accuracy: 20%\n",
      "zero -0.5\n",
      "TACOS_output/NHEK.zero.csv\n",
      "Average score: 0.468300\n",
      "Correct / Incorrect: 9/11\n",
      "Accuracy: 45%\n",
      "zero 0.0\n",
      "TACOS_output/NHEK.zero.csv\n",
      "Average score: 0.468300\n",
      "Correct / Incorrect: 9/11\n",
      "Accuracy: 45%\n",
      "zero 0.5\n",
      "TACOS_output/NHEK.zero.csv\n",
      "Average score: 0.468300\n",
      "Correct / Incorrect: 14/6\n",
      "Accuracy: 70%\n",
      "zero 1.0\n",
      "TACOS_output/NHEK.zero.csv\n",
      "Average score: 0.468300\n",
      "Correct / Incorrect: 16/4\n",
      "Accuracy: 80%\n",
      "positive\n",
      "TACOS_output/NHEK.posi.csv\n",
      "Average score: 0.568100\n",
      "Correct / Incorrect: 18/2\n",
      "Accuracy: 90%\n"
     ]
    }
   ],
   "source": [
    "print('negative')\n",
    "fn=RESULTS+'.nega.csv'\n",
    "parse_tacos_output(fn,nuc_label)\n",
    "print('zero -1.0')\n",
    "fn=RESULTS+'.zero.csv'\n",
    "parse_tacos_output(fn,-1,all_rci)\n",
    "print('zero -0.5')\n",
    "fn=RESULTS+'.zero.csv'\n",
    "parse_tacos_output(fn,-0.5,all_rci)\n",
    "print('zero 0.0')\n",
    "fn=RESULTS+'.zero.csv'\n",
    "parse_tacos_output(fn,0,all_rci)\n",
    "print('zero 0.5')\n",
    "fn=RESULTS+'.zero.csv'\n",
    "parse_tacos_output(fn,0.5,all_rci)\n",
    "print('zero 1.0')\n",
    "fn=RESULTS+'.zero.csv'\n",
    "parse_tacos_output(fn,1,all_rci)\n",
    "print('positive')\n",
    "fn=RESULTS+'.posi.csv'\n",
    "parse_tacos_output(fn,cyto_label)"
   ]
  },
  {
   "cell_type": "code",
   "execution_count": 17,
   "id": "428a2ed2",
   "metadata": {},
   "outputs": [
    {
     "name": "stdout",
     "output_type": "stream",
     "text": [
      "done\n"
     ]
    }
   ],
   "source": [
    "print('done')"
   ]
  },
  {
   "cell_type": "code",
   "execution_count": null,
   "id": "421b7e25",
   "metadata": {},
   "outputs": [],
   "source": []
  }
 ],
 "metadata": {
  "kernelspec": {
   "display_name": "Python 3 (ipykernel)",
   "language": "python",
   "name": "python3"
  },
  "language_info": {
   "codemirror_mode": {
    "name": "ipython",
    "version": 3
   },
   "file_extension": ".py",
   "mimetype": "text/x-python",
   "name": "python",
   "nbconvert_exporter": "python",
   "pygments_lexer": "ipython3",
   "version": "3.10.0"
  }
 },
 "nbformat": 4,
 "nbformat_minor": 5
}
