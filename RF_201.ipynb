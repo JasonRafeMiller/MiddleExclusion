{
  "cells": [
    {
      "cell_type": "markdown",
      "id": "ace02a34-7d06-4e75-a244-cf1b915a9471",
      "metadata": {
        "id": "ace02a34-7d06-4e75-a244-cf1b915a9471"
      },
      "source": [
        "# Random Forest\n",
        "Test code same as RNAlight and LightGBM\n",
        "\n",
        "See RNAlight_127"
      ]
    },
    {
      "cell_type": "code",
      "execution_count": 1,
      "id": "1849059a-b4a8-4b24-b3b4-5ef3f15d5a2f",
      "metadata": {
        "colab": {
          "base_uri": "https://localhost:8080/"
        },
        "id": "1849059a-b4a8-4b24-b3b4-5ef3f15d5a2f",
        "outputId": "2555505f-4ab7-4bd3-c58f-1d7d985c55d1"
      },
      "outputs": [
        {
          "output_type": "stream",
          "name": "stdout",
          "text": [
            "2024-03-21 12:26:23.063050\n"
          ]
        }
      ],
      "source": [
        "import time\n",
        "from datetime import datetime\n",
        "print(datetime.now())"
      ]
    },
    {
      "cell_type": "code",
      "execution_count": 2,
      "id": "86f0998f-216d-441d-9dc5-5cf2827fe98c",
      "metadata": {
        "colab": {
          "base_uri": "https://localhost:8080/"
        },
        "id": "86f0998f-216d-441d-9dc5-5cf2827fe98c",
        "outputId": "4fa01e46-83e6-41ce-8567-01137c64c000"
      },
      "outputs": [
        {
          "output_type": "stream",
          "name": "stdout",
          "text": [
            "Done\n"
          ]
        }
      ],
      "source": [
        "import os\n",
        "import copy\n",
        "import random\n",
        "import collections\n",
        "import itertools\n",
        "import numpy as np\n",
        "import pandas as pd\n",
        "import warnings\n",
        "from sklearn import svm\n",
        "import joblib\n",
        "from sklearn.ensemble import RandomForestClassifier\n",
        "from sklearn.model_selection import train_test_split,RandomizedSearchCV\n",
        "print('Done')"
      ]
    },
    {
      "cell_type": "code",
      "execution_count": 3,
      "id": "5bb7b34a-6cb1-4162-9c13-8d64163e98ae",
      "metadata": {
        "colab": {
          "base_uri": "https://localhost:8080/"
        },
        "id": "5bb7b34a-6cb1-4162-9c13-8d64163e98ae",
        "outputId": "5516dbac-fcb5-4ee2-ffc6-5e3cd1973ece"
      },
      "outputs": [
        {
          "output_type": "stream",
          "name": "stdout",
          "text": [
            "Done\n"
          ]
        }
      ],
      "source": [
        "from sklearn.metrics import accuracy_score\n",
        "from sklearn.metrics import precision_score\n",
        "from sklearn.metrics import recall_score\n",
        "from sklearn.metrics import f1_score\n",
        "from sklearn.metrics import precision_recall_curve\n",
        "from sklearn.metrics import roc_curve\n",
        "from sklearn.metrics import roc_auc_score\n",
        "from sklearn.metrics import auc\n",
        "from sklearn.metrics import matthews_corrcoef\n",
        "from sklearn.metrics import confusion_matrix\n",
        "\n",
        "from sklearn.model_selection import train_test_split\n",
        "from sklearn.model_selection import KFold\n",
        "print('Done')"
      ]
    },
    {
      "cell_type": "code",
      "execution_count": 4,
      "id": "06a3c204-1130-447c-a654-c8bff965a3a8",
      "metadata": {
        "colab": {
          "base_uri": "https://localhost:8080/"
        },
        "id": "06a3c204-1130-447c-a654-c8bff965a3a8",
        "outputId": "13725e94-2e82-4fe4-8a17-0a06840ff1f2"
      },
      "outputs": [
        {
          "output_type": "stream",
          "name": "stdout",
          "text": [
            "Running on CoLab\n",
            "Mounted at /content/drive/\n",
            "DATA DIR /content/drive/My Drive/data/Localization/RNAlight/\n"
          ]
        }
      ],
      "source": [
        "try:\n",
        "    from google.colab import drive\n",
        "    IN_COLAB = True\n",
        "    print('Running on CoLab')\n",
        "    PATH='/content/drive/'\n",
        "    drive.mount(PATH)\n",
        "    DATA_DIR=PATH+'My Drive/data/Localization/RNAlight/'  # must end in \"/\"\n",
        "    MODEL_DIR=PATH+'My Drive/data/Localization/RNAlight/'  # must end in \"/\"\n",
        "    output_dir=PATH+'My Drive/data/Localization/RNAlight/'\n",
        "except:\n",
        "    IN_COLAB = False\n",
        "    DATA_DIR = './'    # Mac\n",
        "    MODEL_DIR = './'    # Mac\n",
        "    output_dir = './'\n",
        "print('DATA DIR', DATA_DIR)"
      ]
    },
    {
      "cell_type": "code",
      "execution_count": 5,
      "id": "295a8797-dd52-4b92-969a-0655f5e62310",
      "metadata": {
        "colab": {
          "base_uri": "https://localhost:8080/"
        },
        "id": "295a8797-dd52-4b92-969a-0655f5e62310",
        "outputId": "79f59ea7-de8c-40bd-8f37-4d52f07b73e7"
      },
      "outputs": [
        {
          "output_type": "stream",
          "name": "stdout",
          "text": [
            "100\n"
          ]
        }
      ],
      "source": [
        "SEED = 100\n",
        "random.seed(SEED)\n",
        "np.random.seed(SEED)\n",
        "print(SEED)"
      ]
    },
    {
      "cell_type": "code",
      "execution_count": 6,
      "id": "4c1ce357-cdc1-422e-aba2-8c8a995f73f8",
      "metadata": {
        "id": "4c1ce357-cdc1-422e-aba2-8c8a995f73f8"
      },
      "outputs": [],
      "source": [
        "def build_model():\n",
        "    new_model = RandomForestClassifier()\n",
        "    return new_model"
      ]
    },
    {
      "cell_type": "code",
      "execution_count": 7,
      "id": "da9eb695-32e6-4527-b54c-a1afd03bcdff",
      "metadata": {
        "colab": {
          "base_uri": "https://localhost:8080/"
        },
        "id": "da9eb695-32e6-4527-b54c-a1afd03bcdff",
        "outputId": "f16c9287-8ad7-46a0-f624-8838b787eb53"
      },
      "outputs": [
        {
          "output_type": "stream",
          "name": "stdout",
          "text": [
            "RandomForestClassifier()\n"
          ]
        }
      ],
      "source": [
        "test = build_model()\n",
        "print(test)\n",
        "test = None"
      ]
    },
    {
      "cell_type": "code",
      "execution_count": 8,
      "id": "dea5888f-521c-418b-ad28-437df4507c44",
      "metadata": {
        "id": "dea5888f-521c-418b-ad28-437df4507c44"
      },
      "outputs": [],
      "source": [
        "class stats_collector:\n",
        "    def __init__(self):\n",
        "        self.reset_statistics()\n",
        "    def reset_statistics(self):\n",
        "        self.cv_accuracy=[]\n",
        "        self.cv_precision=[]\n",
        "        self.cv_recall=[]\n",
        "        self.cv_f1=[]\n",
        "        self.cv_mcc=[]\n",
        "        self.cv_auprc=[]\n",
        "        self.cv_auroc=[]\n",
        "    def _append_statistics(self,accuracy,precision,recall,f1,mcc,auprc,auroc):\n",
        "        self.cv_accuracy.append(accuracy)\n",
        "        self.cv_precision.append(precision)\n",
        "        self.cv_recall.append(recall)\n",
        "        self.cv_f1.append(f1)\n",
        "        self.cv_mcc.append(mcc)\n",
        "        self.cv_auprc.append(auprc)\n",
        "        self.cv_auroc.append(auroc)\n",
        "    def compute_performance(self,y_test,yhat_pred,yhat_classes,verbose=False):\n",
        "        accuracy = accuracy_score(y_test, yhat_classes)*100.\n",
        "        precision = precision_score(y_test, yhat_classes)*100.\n",
        "        recall = recall_score(y_test, yhat_classes)*100.\n",
        "        f1 = f1_score(y_test, yhat_classes)*100.\n",
        "        mcc = matthews_corrcoef(y_test, yhat_classes)\n",
        "        prc_Y, prc_X, prc_bins = precision_recall_curve(y_test, yhat_pred)\n",
        "        auprc = auc(prc_X,prc_Y)*100.\n",
        "        auroc = roc_auc_score(y_test, yhat_pred)*100.\n",
        "        self._append_statistics(accuracy,precision,recall,f1,mcc,auprc,auroc)\n",
        "        if verbose:\n",
        "            self._show_confusion(y_test,yhat_pred,yhat_classes)\n",
        "            self._show_statistics(accuracy,precision,recall,f1,mcc,auprc,auroc)\n",
        "    def _show_confusion(self,y_test,yhat_pred,yhat_classes):\n",
        "            print('Distrib of scores:',np.mean(yhat_pred),'mean',np.std(yhat_pred),'std')\n",
        "            print('Range of scores:',np.min(yhat_pred),'to',np.max(yhat_pred))\n",
        "            cm1 = confusion_matrix(y_test,yhat_classes)\n",
        "            print('Confusion matrix\\n',cm1)\n",
        "            cm2 = confusion_matrix(y_test,yhat_classes,normalize='all')\n",
        "            print('Normalized matrix\\n',cm2)\n",
        "    def _show_statistics(self,accuracy,precision,recall,f1,mcc,auprc,auroc):\n",
        "            print('accuracy:',accuracy,'precision:',precision,'recall:',recall,\\\n",
        "                  'F1:',f1,'MCC:',mcc,'AUPRC:',auprc,'AUROC:',auroc)\n",
        "    def _show_variance(self, name, stats_list):\n",
        "        if name=='MCC':\n",
        "            print('%10s %5.3f mean, %6.3f stdev' % (name,np.mean(stats_list),np.std(stats_list) ) )\n",
        "        else:\n",
        "            print('%10s %5.2f mean, %6.3f stdev' % (name,np.mean(stats_list),np.std(stats_list) ) )\n",
        "        print(stats_list)\n",
        "    def dump_all(self):\n",
        "        self._show_variance('accuracy', self.cv_accuracy)\n",
        "        self._show_variance('precision',self.cv_precision)\n",
        "        self._show_variance('recall',   self.cv_recall)\n",
        "        self._show_variance('F1',       self.cv_f1)\n",
        "        self._show_variance('MCC',      self.cv_mcc)\n",
        "        self._show_variance('AUPRC',    self.cv_auprc)\n",
        "        self._show_variance('AUROC',    self.cv_auroc)"
      ]
    },
    {
      "cell_type": "code",
      "execution_count": 9,
      "id": "2c0fe64b-d172-4167-bc2b-d9f617fbb1a1",
      "metadata": {
        "id": "2c0fe64b-d172-4167-bc2b-d9f617fbb1a1"
      },
      "outputs": [],
      "source": [
        "# From RNAlight notebook\n",
        "def _count_kmer(Dataset,k): # k = 3,4,5\n",
        "\n",
        "    # copy dataset\n",
        "    dataset = copy.deepcopy(Dataset)\n",
        "    # alphbet of nucleotide\n",
        "    nucleotide = ['A','C','G','T']\n",
        "\n",
        "    # generate k-mers\n",
        "    #  k == 5:\n",
        "    five = list(itertools.product(nucleotide,repeat=5))\n",
        "    pentamer = []\n",
        "    for n in five:\n",
        "        pentamer.append(\"\".join(n))\n",
        "\n",
        "    #  k == 4:\n",
        "    four = list(itertools.product(nucleotide,repeat=4))\n",
        "    tetramer = []\n",
        "    for n in four:\n",
        "        tetramer.append(\"\".join(n))\n",
        "\n",
        "    # k == 3:\n",
        "    three = list(itertools.product(nucleotide,repeat=3))\n",
        "    threemer = []\n",
        "    for n in three:\n",
        "        threemer.append(\"\".join(n))\n",
        "\n",
        "    # input features can be combinations of diffrent k values\n",
        "    if k == 34:\n",
        "        table_kmer = dict.fromkeys(threemer,0)\n",
        "        table_kmer.update(dict.fromkeys(tetramer,0))\n",
        "    if k == 45:\n",
        "        table_kmer = dict.fromkeys(tetramer,0)\n",
        "        table_kmer.update(dict.fromkeys(pentamer,0))\n",
        "    if k == 345:\n",
        "        table_kmer = dict.fromkeys(threemer,0)\n",
        "        table_kmer.update(dict.fromkeys(tetramer,0))\n",
        "        table_kmer.update(dict.fromkeys(pentamer,0))\n",
        "\n",
        "    # count k-mer for each sequence\n",
        "    for mer in table_kmer.keys():\n",
        "        table_kmer[mer] = dataset[\"cdna\"].apply(lambda x : x.count(mer))\n",
        "\n",
        "    # for k-mer raw count without normalization, index: nuc:1 or cyto:0\n",
        "    rawcount_kmer_df = pd.DataFrame(table_kmer)\n",
        "    df1_rawcount = pd.concat([rawcount_kmer_df,dataset[\"ensembl_transcript_id\"]],axis = 1)\n",
        "    df1_rawcount.index = dataset[\"tag\"]\n",
        "\n",
        "    # for k-mer frequency with normalization , index: nuc:1 or cyto:0\n",
        "    freq_kmer_df = rawcount_kmer_df.apply(lambda x: x/x.sum(),axis=1)\n",
        "    df1 = pd.concat([freq_kmer_df,dataset[\"ensembl_transcript_id\"]],axis = 1)\n",
        "    df1.index = dataset[\"tag\"]\n",
        "\n",
        "    return df1  # ,df1_rawcount"
      ]
    },
    {
      "cell_type": "code",
      "execution_count": 10,
      "id": "9e70228e-003b-4b4e-895f-b5d642270490",
      "metadata": {
        "id": "9e70228e-003b-4b4e-895f-b5d642270490"
      },
      "outputs": [],
      "source": [
        "# From RNAlight notebook\n",
        "def load_dataframe(cyto_f,nuc_f):\n",
        "    print('load dataframe')\n",
        "    dataset_cyto = pd.read_csv(cyto_f,sep='\\t',index_col = False)    #1806\n",
        "    dataset_nuc = pd.read_csv(nuc_f,sep='\\t',index_col = False)    #1986\n",
        "    print( len(dataset_cyto), 'cytoplasmic samples')\n",
        "    print( len(dataset_nuc),  'nuclear samples')\n",
        "    return dataset_cyto,dataset_nuc"
      ]
    },
    {
      "cell_type": "code",
      "execution_count": 11,
      "id": "449b9c12-3a7d-4e97-9816-43db7ea0caa8",
      "metadata": {
        "id": "449b9c12-3a7d-4e97-9816-43db7ea0caa8"
      },
      "outputs": [],
      "source": [
        "# Added\n",
        "def rebalance(dataset_cyto,dataset_nuc):\n",
        "    print('sample down to balance classes')\n",
        "    min_size = min(len(dataset_cyto),len(dataset_nuc))\n",
        "    # random sampling without replacement\n",
        "    dataset_cyto = dataset_cyto.sample(min_size, random_state=SEED)\n",
        "    dataset_nuc  = dataset_nuc.sample(min_size,  random_state=SEED)\n",
        "    print( len(dataset_cyto), 'cytoplasmic samples')\n",
        "    print( len(dataset_nuc),  'nuclear samples')\n",
        "    return dataset_cyto,dataset_nuc"
      ]
    },
    {
      "cell_type": "code",
      "execution_count": 12,
      "id": "4ef1e58c-07a6-47f0-9fef-c439c298b3ff",
      "metadata": {
        "id": "4ef1e58c-07a6-47f0-9fef-c439c298b3ff"
      },
      "outputs": [],
      "source": [
        "# From RNAlight notebook\n",
        "def extract_features_and_split(dataset_cyto,dataset_nuc):\n",
        "    print('add labels, concatenate')\n",
        "    # Set the tag of RCI(log2FC): nuclear 1 / cytosol 0\n",
        "    dataset_nuc['tag'] = 1;dataset_cyto['tag'] = 0\n",
        "    # merge the nuc and cyto dataset\n",
        "    dataset = pd.concat([dataset_nuc,dataset_cyto]) # 3792\n",
        "\n",
        "    print('dedupe (probably not necessary)')\n",
        "    # remove duplications(actually,each lncRNA is unique in its class)\n",
        "    dataset.drop_duplicates(keep=\"first\",subset=[\"ensembl_transcript_id\",\"name\",\"cdna\"],inplace=True) # 3792\n",
        "\n",
        "    print('count kmers')\n",
        "    # k = 3,4,5 count the normalized and raw count of kmer\n",
        "    df_kmer_345 = _count_kmer(dataset,345)   # df_kmer_345,df_kmer_345_rawcount =\n",
        "\n",
        "    # We commented this out. No need to save the tsv.\n",
        "    # df_kmer_345.to_csv(os.path.join(output_dir,\"df_kmer345_freq.tsv\"),sep='\\t')\n",
        "    # This was commented out in the original. Seems they reran using saved kmers. Should test if file exists.\n",
        "    # load kmer file\n",
        "    # df_kmer_345 = pd.read_csv(os.path.join(output_dir,\"df_kmer345_freq.tsv\"),sep='\\t',index_col= 0)\n",
        "\n",
        "    # convert to x:kmer-freq , y:label\n",
        "    del df_kmer_345['ensembl_transcript_id']\n",
        "    x_kmer = df_kmer_345.values\n",
        "    y_kmer = y_kmer = np.array(df_kmer_345.index)\n",
        "\n",
        "    # split into training and test sets (9:1)\n",
        "    print('train/test split')\n",
        "    x_train, x_test, y_train, y_test = train_test_split(x_kmer, y_kmer, test_size = 0.1, random_state = SEED)\n",
        "\n",
        "    #print('Apply cross-validation to all the data (no test set withheld)')\n",
        "    #x_train, x_test, y_train, y_test = train_test_split(x_kmer, y_kmer, test_size = None, random_state = SEED)\n",
        "    print('train set shape',x_train.shape)\n",
        "    # Added\n",
        "    labels,counts = np.unique(y_train,return_counts=True)\n",
        "    print('train set labels', labels, 'counts',counts)\n",
        "    labels,counts = np.unique(y_test,return_counts=True)\n",
        "    print('test set labels', labels, 'counts',counts)\n",
        "    return x_train, x_test, y_train, y_test"
      ]
    },
    {
      "cell_type": "code",
      "execution_count": 13,
      "id": "18b66e70-43ab-4a04-95ec-8d74064d8b65",
      "metadata": {
        "id": "18b66e70-43ab-4a04-95ec-8d74064d8b65"
      },
      "outputs": [],
      "source": [
        "def do_cv(x_train, y_train):\n",
        "    stats = stats_collector()\n",
        "    for round in range(1,3):\n",
        "        fold=0\n",
        "        splitter = KFold(n_splits=5)\n",
        "        for train_index, valid_index in splitter.split(x_train):\n",
        "            fold += 1\n",
        "            print('Round', round, 'Fold', fold)\n",
        "            print('Num samples in train and valid sets:', len(train_index), len(valid_index))\n",
        "            print('Train')\n",
        "            lgb = build_model()\n",
        "            history = lgb.fit(x_train[train_index], y_train[train_index])\n",
        "            print('Validate')\n",
        "            x_valid = x_train[valid_index]\n",
        "            y_valid = y_train[valid_index]\n",
        "            yhat_classes= lgb.predict(x_valid)  # get 0 or 1\n",
        "            yhat_pairs=   lgb.predict_proba(x_valid)  # get [ prob of 0, prob of 1 ]\n",
        "            yhat_pred=    [pair[1] for pair in yhat_pairs]\n",
        "            stats.compute_performance(y_valid,yhat_pred,yhat_classes,verbose=False)\n",
        "    return stats"
      ]
    },
    {
      "cell_type": "code",
      "execution_count": 14,
      "id": "37daf14d-0c14-49c8-b9c0-1590df839c3d",
      "metadata": {
        "colab": {
          "base_uri": "https://localhost:8080/"
        },
        "id": "37daf14d-0c14-49c8-b9c0-1590df839c3d",
        "outputId": "1f49f433-c60f-463f-af2c-c1de426e66ba"
      },
      "outputs": [
        {
          "output_type": "stream",
          "name": "stdout",
          "text": [
            "Use the RNAlight training set (already has middle excluded)\n",
            "Data files:\n",
            "/content/drive/My Drive/data/Localization/RNAlight/02_lncRNA_info_cyto_transcript.tsv \n",
            " /content/drive/My Drive/data/Localization/RNAlight/02_lncRNA_info_nuc_transcript.tsv\n",
            "load dataframe\n",
            "1806 cytoplasmic samples\n",
            "1986 nuclear samples\n",
            "add labels, concatenate\n",
            "dedupe (probably not necessary)\n",
            "count kmers\n",
            "train/test split\n",
            "train set shape (3412, 1344)\n",
            "train set labels [0 1] counts [1622 1790]\n",
            "test set labels [0 1] counts [184 196]\n",
            "Round 1 Fold 1\n",
            "Num samples in train and valid sets: 2729 683\n",
            "Train\n",
            "Validate\n",
            "Round 1 Fold 2\n",
            "Num samples in train and valid sets: 2729 683\n",
            "Train\n",
            "Validate\n",
            "Round 1 Fold 3\n",
            "Num samples in train and valid sets: 2730 682\n",
            "Train\n",
            "Validate\n",
            "Round 1 Fold 4\n",
            "Num samples in train and valid sets: 2730 682\n",
            "Train\n",
            "Validate\n",
            "Round 1 Fold 5\n",
            "Num samples in train and valid sets: 2730 682\n",
            "Train\n",
            "Validate\n",
            "Round 2 Fold 1\n",
            "Num samples in train and valid sets: 2729 683\n",
            "Train\n",
            "Validate\n",
            "Round 2 Fold 2\n",
            "Num samples in train and valid sets: 2729 683\n",
            "Train\n",
            "Validate\n",
            "Round 2 Fold 3\n",
            "Num samples in train and valid sets: 2730 682\n",
            "Train\n",
            "Validate\n",
            "Round 2 Fold 4\n",
            "Num samples in train and valid sets: 2730 682\n",
            "Train\n",
            "Validate\n",
            "Round 2 Fold 5\n",
            "Num samples in train and valid sets: 2730 682\n",
            "Train\n",
            "Validate\n",
            "\n",
            "Cross validation results\n",
            "  accuracy 66.05 mean,  1.355 stdev\n",
            "[67.64275256222547, 65.15373352855052, 64.66275659824046, 68.03519061583577, 65.10263929618768, 67.20351390922401, 64.12884333821376, 64.80938416422288, 67.30205278592375, 66.42228739002933]\n",
            " precision 68.02 mean,  3.108 stdev\n",
            "[73.29192546583852, 63.01020408163265, 68.25842696629213, 67.76859504132231, 68.80733944954129, 72.07207207207207, 62.94277929155313, 67.94520547945206, 67.41573033707866, 68.64406779661016]\n",
            "    recall 67.09 mean,  3.059 stdev\n",
            "[63.61185983827493, 72.6470588235294, 65.49865229110512, 70.89337175792507, 62.32686980609419, 64.6900269541779, 67.94117647058823, 66.84636118598382, 69.164265129683, 67.31301939058172]\n",
            "        F1 67.43 mean,  1.196 stdev\n",
            "[68.1096681096681, 67.48633879781421, 66.8500687757909, 69.29577464788733, 65.40697674418604, 68.18181818181817, 65.34653465346534, 67.3913043478261, 68.27880512091039, 67.97202797202797]\n",
            "       MCC 0.322 mean,  0.028 stdev\n",
            "[0.3597170019184336, 0.3071035037980613, 0.2907931153603654, 0.3603750866342972, 0.3052431277910079, 0.3476271253473078, 0.28369959450621346, 0.291848343427821, 0.34565510512547565, 0.3270100287853604]\n",
            "     AUPRC 73.25 mean,  1.568 stdev\n",
            "[75.89156865505517, 72.99601824159765, 72.49136267341476, 73.75841123024306, 71.58085105246569, 75.36253847747923, 71.13704976117361, 73.51672035470503, 74.4021686854542, 71.35335216085474]\n",
            "     AUROC 72.01 mean,  1.393 stdev\n",
            "[72.7322206095791, 72.97118847539015, 70.2060997911268, 73.96705234633748, 70.09000612697508, 72.66526712281429, 71.36768993311613, 70.82188575242024, 74.06856208869198, 71.17042483237115]\n"
          ]
        }
      ],
      "source": [
        "if True:\n",
        "    print('Use the RNAlight training set (already has middle excluded)')\n",
        "    cyto_f = DATA_DIR+'02_lncRNA_info_cyto_transcript.tsv'\n",
        "    nuc_f  = DATA_DIR+'02_lncRNA_info_nuc_transcript.tsv'\n",
        "    print('Data files:')\n",
        "    print(cyto_f,'\\n',nuc_f)\n",
        "    dataset_cyto,dataset_nuc = load_dataframe(cyto_f,nuc_f)\n",
        "    x_train, x_test, y_train, y_test = extract_features_and_split(dataset_cyto,dataset_nuc)\n",
        "    stats = do_cv(x_train, y_train)\n",
        "    print('\\nCross validation results')\n",
        "    stats.dump_all()"
      ]
    },
    {
      "cell_type": "code",
      "execution_count": 15,
      "id": "c05c7485-5917-446b-9207-74fa17bcf5eb",
      "metadata": {
        "colab": {
          "base_uri": "https://localhost:8080/"
        },
        "id": "c05c7485-5917-446b-9207-74fa17bcf5eb",
        "outputId": "e2d300f5-258f-46f5-c454-81aefcaf8a59"
      },
      "outputs": [
        {
          "output_type": "stream",
          "name": "stdout",
          "text": [
            "Rebalance (sample down the majority class) and repeat\n",
            "sample down to balance classes\n",
            "1806 cytoplasmic samples\n",
            "1806 nuclear samples\n",
            "add labels, concatenate\n",
            "dedupe (probably not necessary)\n",
            "count kmers\n",
            "train/test split\n",
            "train set shape (3250, 1344)\n",
            "train set labels [0 1] counts [1632 1618]\n",
            "test set labels [0 1] counts [174 188]\n",
            "Round 1 Fold 1\n",
            "Num samples in train and valid sets: 2600 650\n",
            "Train\n",
            "Validate\n",
            "Round 1 Fold 2\n",
            "Num samples in train and valid sets: 2600 650\n",
            "Train\n",
            "Validate\n",
            "Round 1 Fold 3\n",
            "Num samples in train and valid sets: 2600 650\n",
            "Train\n",
            "Validate\n",
            "Round 1 Fold 4\n",
            "Num samples in train and valid sets: 2600 650\n",
            "Train\n",
            "Validate\n",
            "Round 1 Fold 5\n",
            "Num samples in train and valid sets: 2600 650\n",
            "Train\n",
            "Validate\n",
            "Round 2 Fold 1\n",
            "Num samples in train and valid sets: 2600 650\n",
            "Train\n",
            "Validate\n",
            "Round 2 Fold 2\n",
            "Num samples in train and valid sets: 2600 650\n",
            "Train\n",
            "Validate\n",
            "Round 2 Fold 3\n",
            "Num samples in train and valid sets: 2600 650\n",
            "Train\n",
            "Validate\n",
            "Round 2 Fold 4\n",
            "Num samples in train and valid sets: 2600 650\n",
            "Train\n",
            "Validate\n",
            "Round 2 Fold 5\n",
            "Num samples in train and valid sets: 2600 650\n",
            "Train\n",
            "Validate\n",
            "\n",
            "Cross validation results\n",
            "  accuracy 67.83 mean,  1.687 stdev\n",
            "[70.46153846153847, 68.3076923076923, 66.46153846153847, 67.23076923076923, 70.46153846153847, 69.07692307692308, 66.46153846153847, 65.23076923076923, 66.46153846153847, 68.15384615384616]\n",
            " precision 69.27 mean,  2.439 stdev\n",
            "[74.13793103448276, 69.18238993710692, 69.79166666666666, 67.14285714285714, 69.3498452012384, 72.82229965156795, 68.21192052980133, 68.27586206896552, 65.31986531986533, 68.45637583892618]\n",
            "    recall 63.64 mean,  3.134 stdev\n",
            "[64.7590361445783, 67.07317073170732, 60.54216867469879, 60.84142394822006, 70.66246056782335, 62.951807228915655, 62.80487804878049, 59.63855421686747, 62.7831715210356, 64.35331230283911]\n",
            "        F1 66.29 mean,  2.182 stdev\n",
            "[69.13183279742765, 68.11145510835914, 64.83870967741936, 63.83701188455008, 70.0, 67.52827140549273, 65.39682539682539, 63.665594855305464, 64.02640264026404, 66.34146341463413]\n",
            "       MCC 0.358 mean,  0.034 stdev\n",
            "[0.41405381359262394, 0.36645328131810484, 0.33393088975476326, 0.34149829427010414, 0.4092110288182294, 0.3867989830504343, 0.33072730649528126, 0.3088020390308918, 0.32659824256863906, 0.3623941267964417]\n",
            "     AUPRC 72.40 mean,  3.636 stdev\n",
            "[77.69143283010894, 73.76061042472689, 70.87461121488016, 66.25856510813864, 71.98655377998942, 77.43641963755591, 74.44261874980346, 72.7714413230374, 66.71206265299374, 72.06526528807646]\n",
            "     AUROC 73.27 mean,  2.171 stdev\n",
            "[75.27326286277184, 74.58434328132101, 69.80184890505419, 70.58764911881103, 75.7893540227925, 75.3281995908161, 73.70663535827906, 72.0656209744639, 70.62039119665175, 74.98034311914438]\n"
          ]
        }
      ],
      "source": [
        "if True:\n",
        "    print('Rebalance (sample down the majority class) and repeat')\n",
        "    dataset_cyto,dataset_nuc = rebalance(dataset_cyto,dataset_nuc)\n",
        "    x_train, x_test, y_train, y_test = extract_features_and_split(dataset_cyto,dataset_nuc)\n",
        "    stats = do_cv(x_train, y_train)\n",
        "    print('\\nCross validation results')\n",
        "    stats.dump_all()"
      ]
    },
    {
      "cell_type": "code",
      "execution_count": 16,
      "id": "cf916e9f-18b0-4892-8f78-4ea810f7bfe1",
      "metadata": {
        "colab": {
          "base_uri": "https://localhost:8080/"
        },
        "id": "cf916e9f-18b0-4892-8f78-4ea810f7bfe1",
        "outputId": "1ef5a0d0-273c-4ae0-9080-10a12dc07666"
      },
      "outputs": [
        {
          "output_type": "stream",
          "name": "stdout",
          "text": [
            "Use our lncATLAS training set \"middle exclusion\" (CN-RCI < -2 or CN-RCI > 0)\n",
            "Data files:\n",
            "/content/drive/My Drive/data/Localization/RNAlight/ForRNAlight.lncRNA_RCIgt0.canonical.tsv \n",
            " /content/drive/My Drive/data/Localization/RNAlight/ForRNAlight.lncRNA_RCIlt-2.canonical.tsv\n",
            "load dataframe\n",
            "1703 cytoplasmic samples\n",
            "706 nuclear samples\n",
            "add labels, concatenate\n",
            "dedupe (probably not necessary)\n",
            "count kmers\n",
            "train/test split\n",
            "train set shape (2168, 1344)\n",
            "train set labels [0 1] counts [1524  644]\n",
            "test set labels [0 1] counts [179  62]\n",
            "Round 1 Fold 1\n",
            "Num samples in train and valid sets: 1734 434\n",
            "Train\n",
            "Validate\n",
            "Round 1 Fold 2\n",
            "Num samples in train and valid sets: 1734 434\n",
            "Train\n",
            "Validate\n",
            "Round 1 Fold 3\n",
            "Num samples in train and valid sets: 1734 434\n",
            "Train\n",
            "Validate\n",
            "Round 1 Fold 4\n",
            "Num samples in train and valid sets: 1735 433\n",
            "Train\n",
            "Validate\n",
            "Round 1 Fold 5\n",
            "Num samples in train and valid sets: 1735 433\n",
            "Train\n",
            "Validate\n",
            "Round 2 Fold 1\n",
            "Num samples in train and valid sets: 1734 434\n",
            "Train\n",
            "Validate\n",
            "Round 2 Fold 2\n",
            "Num samples in train and valid sets: 1734 434\n",
            "Train\n",
            "Validate\n",
            "Round 2 Fold 3\n",
            "Num samples in train and valid sets: 1734 434\n",
            "Train\n",
            "Validate\n",
            "Round 2 Fold 4\n",
            "Num samples in train and valid sets: 1735 433\n",
            "Train\n",
            "Validate\n",
            "Round 2 Fold 5\n",
            "Num samples in train and valid sets: 1735 433\n",
            "Train\n",
            "Validate\n",
            "\n",
            "Cross validation results\n",
            "  accuracy 75.88 mean,  2.654 stdev\n",
            "[72.11981566820278, 72.81105990783409, 76.49769585253456, 78.75288683602771, 77.59815242494227, 73.27188940092167, 72.81105990783409, 78.57142857142857, 78.9838337182448, 77.36720554272517]\n",
            " precision 71.56 mean,  8.304 stdev\n",
            "[78.57142857142857, 57.377049180327866, 65.45454545454545, 73.4375, 75.0, 83.63636363636363, 57.377049180327866, 75.0, 73.13432835820896, 76.59574468085107]\n",
            "    recall 31.66 mean,  4.159 stdev\n",
            "[28.75816993464052, 27.559055118110237, 30.252100840336134, 38.52459016393443, 31.70731707317073, 30.065359477124183, 27.559055118110237, 32.773109243697476, 40.16393442622951, 29.268292682926827]\n",
            "        F1 43.71 mean,  4.596 stdev\n",
            "[42.10526315789473, 37.234042553191486, 41.37931034482758, 50.53763440860214, 44.57142857142857, 44.23076923076923, 37.234042553191486, 45.6140350877193, 51.85185185185185, 42.35294117647058]\n",
            "       MCC 0.355 mean,  0.060 stdev\n",
            "[0.3489852626708855, 0.24989504067617402, 0.3247942325582295, 0.4190232706191533, 0.38169750814937065, 0.3857843060157478, 0.24989504067617402, 0.39351499757210057, 0.42760171696673016, 0.37287235987771405]\n",
            "     AUPRC 61.69 mean,  5.524 stdev\n",
            "[67.14881867203, 52.34999850101916, 59.74789949587749, 64.0998653423709, 63.33902928403303, 68.10148907329435, 51.20468495692791, 60.75031027760131, 64.52696226196605, 65.671813279794]\n",
            "     AUROC 75.13 mean,  3.422 stdev\n",
            "[73.37589840206546, 69.4760060529893, 76.27851140456183, 77.37994834220653, 78.2690794649882, 74.01786337310726, 68.92969811998256, 76.75336801387222, 77.46296979600442, 79.38237608182534]\n"
          ]
        }
      ],
      "source": [
        "if True:\n",
        "    print('Use our lncATLAS training set \"middle exclusion\" (CN-RCI < -2 or CN-RCI > 0)')\n",
        "    cyto_f = DATA_DIR+'ForRNAlight.lncRNA_RCIgt0.canonical.tsv'\n",
        "    nuc_f  = DATA_DIR+'ForRNAlight.lncRNA_RCIlt-2.canonical.tsv'\n",
        "    print('Data files:')\n",
        "    print(cyto_f,'\\n',nuc_f)\n",
        "    dataset_cyto,dataset_nuc = load_dataframe(cyto_f,nuc_f)\n",
        "    x_train, x_test, y_train, y_test = extract_features_and_split(dataset_cyto,dataset_nuc)\n",
        "    stats = do_cv(x_train, y_train)\n",
        "    print('\\nCross validation results')\n",
        "    stats.dump_all()"
      ]
    },
    {
      "cell_type": "code",
      "execution_count": 17,
      "id": "c636039b-3223-4bed-9975-aa712353a1a5",
      "metadata": {
        "colab": {
          "base_uri": "https://localhost:8080/"
        },
        "id": "c636039b-3223-4bed-9975-aa712353a1a5",
        "outputId": "9d5fc60d-3153-4d54-9389-7614fe12cfce"
      },
      "outputs": [
        {
          "output_type": "stream",
          "name": "stdout",
          "text": [
            "Rebalance (sample down the majority class) and repeat\n",
            "sample down to balance classes\n",
            "706 cytoplasmic samples\n",
            "706 nuclear samples\n",
            "add labels, concatenate\n",
            "dedupe (probably not necessary)\n",
            "count kmers\n",
            "train/test split\n",
            "train set shape (1270, 1344)\n",
            "train set labels [0 1] counts [639 631]\n",
            "test set labels [0 1] counts [67 75]\n",
            "Round 1 Fold 1\n",
            "Num samples in train and valid sets: 1016 254\n",
            "Train\n",
            "Validate\n",
            "Round 1 Fold 2\n",
            "Num samples in train and valid sets: 1016 254\n",
            "Train\n",
            "Validate\n",
            "Round 1 Fold 3\n",
            "Num samples in train and valid sets: 1016 254\n",
            "Train\n",
            "Validate\n",
            "Round 1 Fold 4\n",
            "Num samples in train and valid sets: 1016 254\n",
            "Train\n",
            "Validate\n",
            "Round 1 Fold 5\n",
            "Num samples in train and valid sets: 1016 254\n",
            "Train\n",
            "Validate\n",
            "Round 2 Fold 1\n",
            "Num samples in train and valid sets: 1016 254\n",
            "Train\n",
            "Validate\n",
            "Round 2 Fold 2\n",
            "Num samples in train and valid sets: 1016 254\n",
            "Train\n",
            "Validate\n",
            "Round 2 Fold 3\n",
            "Num samples in train and valid sets: 1016 254\n",
            "Train\n",
            "Validate\n",
            "Round 2 Fold 4\n",
            "Num samples in train and valid sets: 1016 254\n",
            "Train\n",
            "Validate\n",
            "Round 2 Fold 5\n",
            "Num samples in train and valid sets: 1016 254\n",
            "Train\n",
            "Validate\n",
            "\n",
            "Cross validation results\n",
            "  accuracy 69.49 mean,  2.222 stdev\n",
            "[69.29133858267717, 70.07874015748031, 71.65354330708661, 64.56692913385827, 68.89763779527559, 68.50393700787401, 72.04724409448819, 72.04724409448819, 67.32283464566929, 70.47244094488188]\n",
            " precision 71.29 mean,  1.912 stdev\n",
            "[74.31192660550458, 69.74789915966386, 72.72727272727273, 67.56756756756756, 69.74789915966386, 72.97297297297297, 72.41379310344827, 71.7948717948718, 69.82758620689656, 71.7948717948718]\n",
            "    recall 64.73 mean,  3.271 stdev\n",
            "[61.832061068702295, 67.47967479674797, 65.57377049180327, 58.139534883720934, 65.87301587301587, 61.832061068702295, 68.29268292682927, 68.85245901639344, 62.7906976744186, 66.66666666666666]\n",
            "        F1 67.81 mean,  2.189 stdev\n",
            "[67.5, 68.59504132231406, 68.9655172413793, 62.500000000000014, 67.75510204081631, 66.94214876033057, 70.2928870292887, 70.2928870292887, 66.12244897959184, 69.1358024691358]\n",
            "       MCC 0.392 mean,  0.043 stdev\n",
            "[0.3944666399511984, 0.4005846957947567, 0.43202076457010186, 0.29571515239234547, 0.3782195916792054, 0.3772381563097619, 0.44008827641415854, 0.43954932537940933, 0.3491760612643, 0.41011482721507797]\n",
            "     AUPRC 75.89 mean,  1.416 stdev\n",
            "[75.56540412179146, 75.40945769060164, 76.71084370209704, 76.27848274093121, 76.79367893393977, 73.88133090850624, 73.70277248747598, 78.47815292250552, 74.93972517865642, 77.17620252312369]\n",
            "     AUROC 75.20 mean,  1.581 stdev\n",
            "[74.17923415875379, 77.127164401415, 76.37853949329359, 73.43565891472869, 74.3985615079365, 73.03109290634892, 76.214857568423, 77.71050670640834, 73.6, 75.90525793650794]\n"
          ]
        }
      ],
      "source": [
        "if True:   # just to be sure\n",
        "    print('Rebalance (sample down the majority class) and repeat')\n",
        "    dataset_cyto,dataset_nuc = rebalance(dataset_cyto,dataset_nuc)\n",
        "    x_train, x_test, y_train, y_test = extract_features_and_split(dataset_cyto,dataset_nuc)\n",
        "    stats = do_cv(x_train, y_train)\n",
        "    print('\\nCross validation results')\n",
        "    stats.dump_all()"
      ]
    },
    {
      "cell_type": "code",
      "execution_count": 18,
      "id": "1830d712-20a6-4f94-9ddb-e21be989c4d6",
      "metadata": {
        "colab": {
          "base_uri": "https://localhost:8080/"
        },
        "id": "1830d712-20a6-4f94-9ddb-e21be989c4d6",
        "outputId": "a266e4d7-255e-4c8e-dc99-65aaee96dbab"
      },
      "outputs": [
        {
          "output_type": "stream",
          "name": "stdout",
          "text": [
            "Use our lncATLAS training set \"all\" (-inf <= CN-RCI <= +inf)\n",
            "/content/drive/My Drive/data/Localization/RNAlight/ForRNAlight.lncRNA_RCIgt-1.canonical.tsv \n",
            " /content/drive/My Drive/data/Localization/RNAlight/ForRNAlight.lncRNA_RCIlt-1.canonical.tsv\n",
            "load dataframe\n",
            "2887 cytoplasmic samples\n",
            "1548 nuclear samples\n",
            "add labels, concatenate\n",
            "dedupe (probably not necessary)\n",
            "count kmers\n",
            "train/test split\n",
            "train set shape (3991, 1344)\n",
            "train set labels [0 1] counts [2606 1385]\n",
            "test set labels [0 1] counts [281 163]\n",
            "Round 1 Fold 1\n",
            "Num samples in train and valid sets: 3192 799\n",
            "Train\n",
            "Validate\n",
            "Round 1 Fold 2\n",
            "Num samples in train and valid sets: 3193 798\n",
            "Train\n",
            "Validate\n",
            "Round 1 Fold 3\n",
            "Num samples in train and valid sets: 3193 798\n",
            "Train\n",
            "Validate\n",
            "Round 1 Fold 4\n",
            "Num samples in train and valid sets: 3193 798\n",
            "Train\n",
            "Validate\n",
            "Round 1 Fold 5\n",
            "Num samples in train and valid sets: 3193 798\n",
            "Train\n",
            "Validate\n",
            "Round 2 Fold 1\n",
            "Num samples in train and valid sets: 3192 799\n",
            "Train\n",
            "Validate\n",
            "Round 2 Fold 2\n",
            "Num samples in train and valid sets: 3193 798\n",
            "Train\n",
            "Validate\n",
            "Round 2 Fold 3\n",
            "Num samples in train and valid sets: 3193 798\n",
            "Train\n",
            "Validate\n",
            "Round 2 Fold 4\n",
            "Num samples in train and valid sets: 3193 798\n",
            "Train\n",
            "Validate\n",
            "Round 2 Fold 5\n",
            "Num samples in train and valid sets: 3193 798\n",
            "Train\n",
            "Validate\n",
            "\n",
            "Cross validation results\n",
            "  accuracy 68.55 mean,  1.990 stdev\n",
            "[69.71214017521903, 67.41854636591479, 66.66666666666666, 71.17794486215539, 67.29323308270678, 69.71214017521903, 67.16791979949875, 66.54135338345864, 72.55639097744361, 67.29323308270678]\n",
            " precision 62.17 mean,  3.628 stdev\n",
            "[65.64885496183206, 64.83516483516483, 59.80392156862745, 59.813084112149525, 57.26495726495726, 66.94214876033058, 64.70588235294117, 59.79381443298969, 66.0, 56.91056910569105]\n",
            "    recall 24.14 mean,  3.565 stdev\n",
            "[30.3886925795053, 20.557491289198605, 21.328671328671327, 25.49800796812749, 24.100719424460433, 28.621908127208478, 19.16376306620209, 20.27972027972028, 26.294820717131472, 25.179856115107913]\n",
            "        F1 34.64 mean,  3.933 stdev\n",
            "[41.54589371980676, 31.216931216931222, 31.443298969072163, 35.754189944134076, 33.92405063291138, 40.0990099009901, 29.56989247311828, 30.287206266318535, 37.60683760683761, 34.912718204488776]\n",
            "       MCC 0.227 mean,  0.037 stdev\n",
            "[0.2799034510410905, 0.21583062345342707, 0.19131345600423597, 0.24033832878831576, 0.19511296144462148, 0.2784404738895801, 0.20678432439530806, 0.1858205339057094, 0.28160932063942695, 0.1977653612400322]\n",
            "     AUPRC 53.96 mean,  2.993 stdev\n",
            "[57.44155931152335, 55.86489678632155, 52.9215040572585, 48.00873203546539, 51.18531970189449, 58.33850540554069, 56.62004553939516, 53.82579802868705, 52.3729715673604, 53.02503242272814]\n",
            "     AUROC 66.97 mean,  1.398 stdev\n",
            "[68.30299668556717, 66.973618715779, 66.87745847902097, 63.52323794401917, 65.6260376314333, 68.46906072807954, 68.2036997893043, 67.37871503496503, 67.33395485698887, 67.04793857221915]\n"
          ]
        }
      ],
      "source": [
        "if True:\n",
        "    print('Use our lncATLAS training set \"all\" (-inf <= CN-RCI <= +inf)')\n",
        "    cyto_f = DATA_DIR+'ForRNAlight.lncRNA_RCIgt-1.canonical.tsv'\n",
        "    nuc_f  = DATA_DIR+'ForRNAlight.lncRNA_RCIlt-1.canonical.tsv'\n",
        "    print(cyto_f,'\\n',nuc_f)\n",
        "    dataset_cyto,dataset_nuc = load_dataframe(cyto_f,nuc_f)\n",
        "    x_train, x_test, y_train, y_test = extract_features_and_split(dataset_cyto,dataset_nuc)\n",
        "    stats = do_cv(x_train, y_train)\n",
        "    print('\\nCross validation results')\n",
        "    stats.dump_all()"
      ]
    },
    {
      "cell_type": "code",
      "execution_count": 19,
      "id": "44560340-f786-4111-a3de-242d9b2aeb17",
      "metadata": {
        "colab": {
          "base_uri": "https://localhost:8080/"
        },
        "id": "44560340-f786-4111-a3de-242d9b2aeb17",
        "outputId": "403a2761-dab0-4547-f373-31d68c59c3d1"
      },
      "outputs": [
        {
          "output_type": "stream",
          "name": "stdout",
          "text": [
            "Rebalance (sample down the majority class) and repeat\n",
            "sample down to balance classes\n",
            "1548 cytoplasmic samples\n",
            "1548 nuclear samples\n",
            "add labels, concatenate\n",
            "dedupe (probably not necessary)\n",
            "count kmers\n",
            "train/test split\n",
            "train set shape (2786, 1344)\n",
            "train set labels [0 1] counts [1397 1389]\n",
            "test set labels [0 1] counts [151 159]\n",
            "Round 1 Fold 1\n",
            "Num samples in train and valid sets: 2228 558\n",
            "Train\n",
            "Validate\n",
            "Round 1 Fold 2\n",
            "Num samples in train and valid sets: 2229 557\n",
            "Train\n",
            "Validate\n",
            "Round 1 Fold 3\n",
            "Num samples in train and valid sets: 2229 557\n",
            "Train\n",
            "Validate\n",
            "Round 1 Fold 4\n",
            "Num samples in train and valid sets: 2229 557\n",
            "Train\n",
            "Validate\n",
            "Round 1 Fold 5\n",
            "Num samples in train and valid sets: 2229 557\n",
            "Train\n",
            "Validate\n",
            "Round 2 Fold 1\n",
            "Num samples in train and valid sets: 2228 558\n",
            "Train\n",
            "Validate\n",
            "Round 2 Fold 2\n",
            "Num samples in train and valid sets: 2229 557\n",
            "Train\n",
            "Validate\n",
            "Round 2 Fold 3\n",
            "Num samples in train and valid sets: 2229 557\n",
            "Train\n",
            "Validate\n",
            "Round 2 Fold 4\n",
            "Num samples in train and valid sets: 2229 557\n",
            "Train\n",
            "Validate\n",
            "Round 2 Fold 5\n",
            "Num samples in train and valid sets: 2229 557\n",
            "Train\n",
            "Validate\n",
            "\n",
            "Cross validation results\n",
            "  accuracy 61.77 mean,  2.090 stdev\n",
            "[62.18637992831542, 58.16876122082585, 61.57989228007181, 64.63195691202873, 61.759425493716336, 63.08243727598566, 60.14362657091562, 59.245960502692995, 65.1705565529623, 61.759425493716336]\n",
            " precision 63.38 mean,  3.011 stdev\n",
            "[66.14173228346458, 65.48672566371681, 61.702127659574465, 61.68582375478927, 61.18143459915611, 67.75510204081633, 67.68558951965066, 58.536585365853654, 62.8, 60.816326530612244]\n",
            "    recall 55.52 mean,  3.897 stdev\n",
            "[57.33788395904437, 48.84488448844885, 53.90334572490706, 62.4031007751938, 54.51127819548872, 56.655290102389074, 51.15511551155115, 53.53159851301115, 60.85271317829457, 56.015037593984964]\n",
            "        F1 59.06 mean,  2.325 stdev\n",
            "[61.425959780621575, 55.954631379962194, 57.53968253968254, 62.04238921001925, 57.654075546719675, 61.71003717472118, 58.27067669172932, 55.92233009708737, 61.81102362204726, 58.31702544031311]\n",
            "       MCC 0.239 mean,  0.037 stdev\n",
            "[0.24954086749305424, 0.18395720609171923, 0.22921491299863078, 0.28936911215430855, 0.23131338418212186, 0.27011473154259186, 0.22290798176920187, 0.18228936842546098, 0.298249089646308, 0.23170379931196325]\n",
            "     AUPRC 66.60 mean,  3.794 stdev\n",
            "[71.01300272134993, 70.79015007967169, 64.04831971407465, 66.58693637812982, 60.65757290306618, 70.42326074210932, 70.5676098761485, 62.84501576781074, 66.94834794156286, 62.07500304420288]\n",
            "     AUROC 66.33 mean,  2.253 stdev\n",
            "[68.4596561272458, 64.74428938956889, 64.78340561751342, 68.64159601773353, 64.32576286076015, 68.84796187777705, 65.33808892700293, 63.36353779429987, 69.98716652407249, 64.76565124150584]\n"
          ]
        }
      ],
      "source": [
        "if True:\n",
        "    print('Rebalance (sample down the majority class) and repeat')\n",
        "    dataset_cyto,dataset_nuc = rebalance(dataset_cyto,dataset_nuc)\n",
        "    x_train, x_test, y_train, y_test = extract_features_and_split(dataset_cyto,dataset_nuc)\n",
        "    stats = do_cv(x_train, y_train)\n",
        "    print('\\nCross validation results')\n",
        "    stats.dump_all()"
      ]
    },
    {
      "cell_type": "code",
      "execution_count": 20,
      "id": "35cf8437-c2c6-41d2-8b1f-70cc7ba25672",
      "metadata": {
        "colab": {
          "base_uri": "https://localhost:8080/"
        },
        "id": "35cf8437-c2c6-41d2-8b1f-70cc7ba25672",
        "outputId": "699ecd42-0ec1-4ee5-fc52-f4b3aa19be47"
      },
      "outputs": [
        {
          "output_type": "stream",
          "name": "stdout",
          "text": [
            "2024-03-21 12:33:05.640317\n",
            "Done\n"
          ]
        }
      ],
      "source": [
        "print(datetime.now())\n",
        "print('Done')"
      ]
    }
  ],
  "metadata": {
    "colab": {
      "machine_shape": "hm",
      "provenance": []
    },
    "kernelspec": {
      "display_name": "Python 3 (ipykernel)",
      "language": "python",
      "name": "python3"
    },
    "language_info": {
      "codemirror_mode": {
        "name": "ipython",
        "version": 3
      },
      "file_extension": ".py",
      "mimetype": "text/x-python",
      "name": "python",
      "nbconvert_exporter": "python",
      "pygments_lexer": "ipython3",
      "version": "3.11.6"
    }
  },
  "nbformat": 4,
  "nbformat_minor": 5
}