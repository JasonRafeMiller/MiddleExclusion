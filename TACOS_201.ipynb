{
 "cells": [
  {
   "cell_type": "markdown",
   "id": "93d92fc1",
   "metadata": {},
   "source": [
    "# TACOS\n",
    "Use the TACOS [web server](https://balalab-skku.org/TACOS/).   \n",
    "Use cell line: A549.\n",
    "This notebook is part 1 of 2. See notebook 202.   \n",
    "Assume the TACOS_input directory exists.   \n",
    "The notebook generates 100 random genes with CNRCI between -1 and +1, for each of the 10 TACOS cell lines.    \n",
    "The result is 10 FASTA files.    "
   ]
  },
  {
   "cell_type": "code",
   "execution_count": 1,
   "id": "99deb5bd",
   "metadata": {},
   "outputs": [],
   "source": [
    "import numpy as np\n",
    "np.random.seed(seed=1234)\n",
    "FASTA_SIZE = 100\n",
    "PREFIX='TACOS_input/' # must end in /\n",
    "TACOS_CELL_LINES=['A549','GM12878','HELA','HEPG','HESC','HT1080','HUVEC','NHEK','SKMEL','SKNS']\n",
    "ATLAS_CELL_LINES=['A549','GM12878','HeLa.S3','HepG2','H1.hESC','HT1080','HUVEC','NHEK','SK.MEL.5','SK.N.SH']"
   ]
  },
  {
   "cell_type": "code",
   "execution_count": 2,
   "id": "1b8813a5",
   "metadata": {},
   "outputs": [],
   "source": [
    "# Assume these files or links are in the current directory.\n",
    "# This is from GenCode downloads\n",
    "GENCODE = 'gencode.v45.lncRNA_transcripts.fa'\n",
    "# This is from GenCode downloads\n",
    "GFF_FILE='gencode.v45.long_noncoding_RNAs.gff3'\n",
    "# This is from lncATLAS downloads\n",
    "LNCATLAS = 'lncATLAS_all_data_RCI.csv'"
   ]
  },
  {
   "cell_type": "markdown",
   "id": "1d028d3c-c5db-45eb-856b-6554207ef30c",
   "metadata": {},
   "source": [
    "Load canonical transcript IDs fron GenCode annotations file"
   ]
  },
  {
   "cell_type": "code",
   "execution_count": 3,
   "id": "de4bec60-61df-4d9a-a6ba-6f1504a2036d",
   "metadata": {},
   "outputs": [],
   "source": [
    "def get_canonical_ids(gff_file):\n",
    "    ids = set()\n",
    "    with open(gff_file,'r') as fin:\n",
    "        for line in fin:\n",
    "            if line.startswith('#'):\n",
    "                continue\n",
    "            fields = line.strip().split('\\t')\n",
    "            if fields[2] != 'transcript':\n",
    "                continue\n",
    "            if 'Ensembl_canonical' not in fields[8]:\n",
    "                continue\n",
    "            tag_value_pairs = fields[8].split(';')\n",
    "            for pair in tag_value_pairs:\n",
    "                if pair.startswith('ID='):\n",
    "                    ID_plus_ver = pair[3:]\n",
    "                    just_ID = ID_plus_ver.split('.')[0]\n",
    "                    ids.add(just_ID)\n",
    "                    break\n",
    "    return ids"
   ]
  },
  {
   "cell_type": "markdown",
   "id": "a91c2aec-b75d-4da0-9928-af6970ff6650",
   "metadata": {},
   "source": [
    "From lncATLAS file, load all gene IDs with mid-range CNRCI for this cell line"
   ]
  },
  {
   "cell_type": "code",
   "execution_count": 4,
   "id": "def132ab",
   "metadata": {},
   "outputs": [],
   "source": [
    "def load_rci_truth(filename,cell_line):\n",
    "    gene_to_rci = dict()\n",
    "    with open (filename, 'r') as fin:\n",
    "        header = None\n",
    "        for line in fin:\n",
    "            try:\n",
    "                fields = line.strip().split(',')\n",
    "                if header is None:\n",
    "                    header = fields\n",
    "                    continue\n",
    "                gid = fields[0]\n",
    "                cell_type = fields[1]\n",
    "                rci_type = fields[2]\n",
    "                rci_value = fields[3]\n",
    "                gene_type = fields[6]\n",
    "                # check for numeric CNRCI in desired range, non-coding gene, desired cell line\n",
    "                if gene_type=='nc' and\\\n",
    "                    cell_type==cell_line and\\\n",
    "                    rci_type=='CNRCI' and\\\n",
    "                    rci_value!='NA':\n",
    "                    rci_value=float(rci_value)\n",
    "                    if gid in gene_to_rci.keys():\n",
    "                        raise Exception('Unexpected second value for gene',gid)\n",
    "                    if rci_value >= -1 and rci_value <= 1:\n",
    "                        gene_to_rci[gid]=rci_value\n",
    "            except Exception as e:\n",
    "                print(line)\n",
    "                traceback.print_exc()\n",
    "                raise(e)\n",
    "    return gene_to_rci"
   ]
  },
  {
   "cell_type": "markdown",
   "id": "f8662515-8bdd-41fe-9c86-4430246ce694",
   "metadata": {},
   "source": [
    "From GenCode, get canonical transcript sequences for the selected genes"
   ]
  },
  {
   "cell_type": "code",
   "execution_count": 5,
   "id": "26365974-0538-4a40-b583-efa788647e47",
   "metadata": {},
   "outputs": [],
   "source": [
    "def load_transcripts(seq_file,good_gids,good_tids):\n",
    "    sequences = list()  # list of tuple\n",
    "    seq = ''\n",
    "    with open (seq_file,'r') as fin:\n",
    "        loading_sequence = False\n",
    "        for line in fin:\n",
    "            line = line.strip()\n",
    "            if line.startswith('>'):\n",
    "                # Save the previous sequence\n",
    "                if loading_sequence:\n",
    "                    tup = (tid,gid,seq)\n",
    "                    sequences.append(tup)\n",
    "                    loading_sequence = False\n",
    "                # Parse the defline like\n",
    "                # >ENST00000456328.2|ENSG00000290825.1|-|OTTHUMT00000362751.1|DDX11L2-202|DDX11L2|1657|\n",
    "                fields = line[1:].split('|')\n",
    "                tid = fields[0].split('.')[0]\n",
    "                gid = fields[1].split('.')[0]\n",
    "                seq = ''\n",
    "                if tid in good_tids and gid in good_gids:\n",
    "                    loading_sequence = True\n",
    "            elif loading_sequence:\n",
    "                # Continuation of multi-line sequence\n",
    "                seq += line\n",
    "    if loading_sequence:\n",
    "        # Save the last sequence\n",
    "        tup = (tid,gid,seq)\n",
    "        sequences.append(tup)    \n",
    "    return sequences        "
   ]
  },
  {
   "cell_type": "markdown",
   "id": "3e60e59a-365b-4475-be38-464b944508cc",
   "metadata": {},
   "source": [
    "Sample down from the available sequences"
   ]
  },
  {
   "cell_type": "code",
   "execution_count": 6,
   "id": "1b442695",
   "metadata": {},
   "outputs": [],
   "source": [
    "def write_fasta(output_filename, tuples, lookup):\n",
    "    num_seqs = 0\n",
    "    with open (output_filename,'w') as fout:\n",
    "        for (tid,gid,seq) in tuples:\n",
    "            rci = lookup[gid]\n",
    "            defline = '>' + tid + ' ' + gid + ' ' + str(rci)\n",
    "            print(defline, file=fout)\n",
    "            print(seq, file=fout)\n",
    "            num_seqs += 1\n",
    "    return num_seqs"
   ]
  },
  {
   "cell_type": "markdown",
   "id": "f5e0db80-0e01-4c96-b778-c6abf2f6bca0",
   "metadata": {},
   "source": [
    "## Loop over TACOS cell lines, writing files"
   ]
  },
  {
   "cell_type": "code",
   "execution_count": 7,
   "id": "d579843b-29d1-4fa1-b29f-9dd0f3490ed1",
   "metadata": {},
   "outputs": [
    {
     "name": "stdout",
     "output_type": "stream",
     "text": [
      "20424 canonical lncRNA IDs\n",
      "\n",
      "Processing cell line: A549 A549\n",
      "997 gene-to-rci values for thiscell line\n",
      "914 canonical sequences loaded\n",
      "100 sequences selected\n",
      "100 sequences written to TACOS_input/A549.middle.fasta\n",
      "\n",
      "Processing cell line: GM12878 GM12878\n",
      "1042 gene-to-rci values for thiscell line\n",
      "962 canonical sequences loaded\n",
      "100 sequences selected\n",
      "100 sequences written to TACOS_input/GM12878.middle.fasta\n",
      "\n",
      "Processing cell line: HeLa.S3 HELA\n",
      "385 gene-to-rci values for thiscell line\n",
      "346 canonical sequences loaded\n",
      "100 sequences selected\n",
      "100 sequences written to TACOS_input/HELA.middle.fasta\n",
      "\n",
      "Processing cell line: HepG2 HEPG\n",
      "702 gene-to-rci values for thiscell line\n",
      "648 canonical sequences loaded\n",
      "100 sequences selected\n",
      "100 sequences written to TACOS_input/HEPG.middle.fasta\n",
      "\n",
      "Processing cell line: H1.hESC HESC\n",
      "2476 gene-to-rci values for thiscell line\n",
      "2298 canonical sequences loaded\n",
      "100 sequences selected\n",
      "100 sequences written to TACOS_input/HESC.middle.fasta\n",
      "\n",
      "Processing cell line: HT1080 HT1080\n",
      "583 gene-to-rci values for thiscell line\n",
      "527 canonical sequences loaded\n",
      "100 sequences selected\n",
      "100 sequences written to TACOS_input/HT1080.middle.fasta\n",
      "\n",
      "Processing cell line: HUVEC HUVEC\n",
      "748 gene-to-rci values for thiscell line\n",
      "687 canonical sequences loaded\n",
      "100 sequences selected\n",
      "100 sequences written to TACOS_input/HUVEC.middle.fasta\n",
      "\n",
      "Processing cell line: NHEK NHEK\n",
      "620 gene-to-rci values for thiscell line\n",
      "574 canonical sequences loaded\n",
      "100 sequences selected\n",
      "100 sequences written to TACOS_input/NHEK.middle.fasta\n",
      "\n",
      "Processing cell line: SK.MEL.5 SKMEL\n",
      "250 gene-to-rci values for thiscell line\n",
      "222 canonical sequences loaded\n",
      "100 sequences selected\n",
      "100 sequences written to TACOS_input/SKMEL.middle.fasta\n",
      "\n",
      "Processing cell line: SK.N.SH SKNS\n",
      "793 gene-to-rci values for thiscell line\n",
      "731 canonical sequences loaded\n",
      "100 sequences selected\n",
      "100 sequences written to TACOS_input/SKNS.middle.fasta\n",
      "\n"
     ]
    }
   ],
   "source": [
    "canon_ids = get_canonical_ids(GFF_FILE)\n",
    "print( len(canon_ids), 'canonical lncRNA IDs\\n')\n",
    "for i in range(len(TACOS_CELL_LINES)):\n",
    "    cell_line = TACOS_CELL_LINES[i]\n",
    "    real_name = ATLAS_CELL_LINES[i]\n",
    "    print('Processing cell line:', real_name, cell_line)\n",
    "    # From lncATLAS file, load all gene IDs with mid-range CNRCI for this cell line    \n",
    "    rci_dict = load_rci_truth(LNCATLAS,real_name)\n",
    "    print(len(rci_dict.keys()), 'gene-to-rci values for thiscell line')\n",
    "    # From GenCode, get canonical transcript sequences for the selected genes\n",
    "    gene_ids = list(rci_dict.keys())\n",
    "    canonical_sequences = load_transcripts(GENCODE, gene_ids, canon_ids)\n",
    "    print(len(canonical_sequences),'canonical sequences loaded')\n",
    "    # Sample down from the available sequences\n",
    "    ## This won't work because numpy treats list-of-tuple like a 2D array\n",
    "    ## sample_sequences = np.random.choice(canonical_sequences,FASTA_SIZE)\n",
    "    sample_indices = np.random.choice( len(canonical_sequences), FASTA_SIZE)\n",
    "    ## This won't work because python has the same problem\n",
    "    ## sample_sequences = canonical_sequences[sample_indices]\n",
    "    sample_sequences = list()\n",
    "    for i in sample_indices:\n",
    "        sample_sequences.append(canonical_sequences[i])\n",
    "    print(len(sample_sequences), 'sequences selected')\n",
    "    # Print sequences in FASTA format for TACOS\n",
    "    fn=PREFIX+cell_line+'.middle.fasta'\n",
    "    num = write_fasta(fn,sample_sequences,rci_dict)\n",
    "    print(num, 'sequences written to', fn)\n",
    "    print()"
   ]
  },
  {
   "cell_type": "markdown",
   "id": "633fba64-6609-44ce-bfdc-9a4668a80b05",
   "metadata": {},
   "source": [
    "Next, user must submit the 10 fasta files to the TACOS server.    \n",
    "Automate the submissions? TACOS doesn't have an API and anyway it might tax the serer.   "
   ]
  },
  {
   "cell_type": "code",
   "execution_count": null,
   "id": "d8051972-4736-43a3-9d26-c3fd19419397",
   "metadata": {},
   "outputs": [],
   "source": []
  }
 ],
 "metadata": {
  "kernelspec": {
   "display_name": "Python 3 (ipykernel)",
   "language": "python",
   "name": "python3"
  },
  "language_info": {
   "codemirror_mode": {
    "name": "ipython",
    "version": 3
   },
   "file_extension": ".py",
   "mimetype": "text/x-python",
   "name": "python",
   "nbconvert_exporter": "python",
   "pygments_lexer": "ipython3",
   "version": "3.11.6"
  }
 },
 "nbformat": 4,
 "nbformat_minor": 5
}
