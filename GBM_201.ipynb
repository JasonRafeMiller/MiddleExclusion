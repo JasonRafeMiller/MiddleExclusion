{
 "cells": [
  {
   "cell_type": "markdown",
   "id": "ace02a34-7d06-4e75-a244-cf1b915a9471",
   "metadata": {
    "id": "ace02a34-7d06-4e75-a244-cf1b915a9471"
   },
   "source": [
    "# Gradient Boosing Machine\n",
    "Test code same as RNAlight and LightGBM\n",
    "\n",
    "See RNAlight_127, RF_201"
   ]
  },
  {
   "cell_type": "code",
   "execution_count": 1,
   "id": "1849059a-b4a8-4b24-b3b4-5ef3f15d5a2f",
   "metadata": {
    "colab": {
     "base_uri": "https://localhost:8080/"
    },
    "id": "1849059a-b4a8-4b24-b3b4-5ef3f15d5a2f",
    "outputId": "cf81644a-806f-4882-f207-cef663d5bbab"
   },
   "outputs": [
    {
     "name": "stdout",
     "output_type": "stream",
     "text": [
      "2024-03-21 13:35:40.258884\n"
     ]
    }
   ],
   "source": [
    "import time\n",
    "from datetime import datetime\n",
    "print(datetime.now())"
   ]
  },
  {
   "cell_type": "code",
   "execution_count": 2,
   "id": "86f0998f-216d-441d-9dc5-5cf2827fe98c",
   "metadata": {
    "colab": {
     "base_uri": "https://localhost:8080/"
    },
    "id": "86f0998f-216d-441d-9dc5-5cf2827fe98c",
    "outputId": "997b8404-42bf-45b6-f796-274a08d7022b"
   },
   "outputs": [
    {
     "name": "stdout",
     "output_type": "stream",
     "text": [
      "Done\n"
     ]
    }
   ],
   "source": [
    "import os\n",
    "import copy\n",
    "import random\n",
    "import collections\n",
    "import itertools\n",
    "import numpy as np\n",
    "import pandas as pd\n",
    "import warnings\n",
    "from sklearn import svm\n",
    "import joblib\n",
    "from sklearn.ensemble import GradientBoostingClassifier\n",
    "from sklearn.model_selection import train_test_split,RandomizedSearchCV\n",
    "print('Done')"
   ]
  },
  {
   "cell_type": "code",
   "execution_count": 3,
   "id": "5bb7b34a-6cb1-4162-9c13-8d64163e98ae",
   "metadata": {
    "colab": {
     "base_uri": "https://localhost:8080/"
    },
    "id": "5bb7b34a-6cb1-4162-9c13-8d64163e98ae",
    "outputId": "b0ee56f6-1297-4eab-d520-69b7f2775d83"
   },
   "outputs": [
    {
     "name": "stdout",
     "output_type": "stream",
     "text": [
      "Done\n"
     ]
    }
   ],
   "source": [
    "from sklearn.metrics import accuracy_score\n",
    "from sklearn.metrics import precision_score\n",
    "from sklearn.metrics import recall_score\n",
    "from sklearn.metrics import f1_score\n",
    "from sklearn.metrics import precision_recall_curve\n",
    "from sklearn.metrics import roc_curve\n",
    "from sklearn.metrics import roc_auc_score\n",
    "from sklearn.metrics import auc\n",
    "from sklearn.metrics import matthews_corrcoef\n",
    "from sklearn.metrics import confusion_matrix\n",
    "\n",
    "from sklearn.model_selection import train_test_split\n",
    "from sklearn.model_selection import KFold\n",
    "print('Done')"
   ]
  },
  {
   "cell_type": "code",
   "execution_count": 4,
   "id": "06a3c204-1130-447c-a654-c8bff965a3a8",
   "metadata": {
    "colab": {
     "base_uri": "https://localhost:8080/"
    },
    "id": "06a3c204-1130-447c-a654-c8bff965a3a8",
    "outputId": "3eabcfbe-8751-4f62-b927-3bf978c7298d"
   },
   "outputs": [
    {
     "name": "stdout",
     "output_type": "stream",
     "text": [
      "Running on CoLab\n",
      "Mounted at /content/drive/\n",
      "DATA DIR /content/drive/My Drive/data/Localization/RNAlight/\n"
     ]
    }
   ],
   "source": [
    "try:\n",
    "    from google.colab import drive\n",
    "    IN_COLAB = True\n",
    "    print('Running on CoLab')\n",
    "    PATH='/content/drive/'\n",
    "    drive.mount(PATH)\n",
    "    DATA_DIR=PATH+'My Drive/data/Localization/RNAlight/'  # must end in \"/\"\n",
    "    MODEL_DIR=PATH+'My Drive/data/Localization/RNAlight/'  # must end in \"/\"\n",
    "    output_dir=PATH+'My Drive/data/Localization/RNAlight/'\n",
    "except:\n",
    "    IN_COLAB = False\n",
    "    DATA_DIR = './'    # Mac\n",
    "    MODEL_DIR = './'    # Mac\n",
    "    output_dir = './'\n",
    "print('DATA DIR', DATA_DIR)"
   ]
  },
  {
   "cell_type": "code",
   "execution_count": 5,
   "id": "295a8797-dd52-4b92-969a-0655f5e62310",
   "metadata": {
    "colab": {
     "base_uri": "https://localhost:8080/"
    },
    "id": "295a8797-dd52-4b92-969a-0655f5e62310",
    "outputId": "13055afa-cf49-4b73-d491-2b888a1ba5d5"
   },
   "outputs": [
    {
     "name": "stdout",
     "output_type": "stream",
     "text": [
      "100\n"
     ]
    }
   ],
   "source": [
    "SEED = 100\n",
    "random.seed(SEED)\n",
    "np.random.seed(SEED)\n",
    "print(SEED)"
   ]
  },
  {
   "cell_type": "code",
   "execution_count": 6,
   "id": "4c1ce357-cdc1-422e-aba2-8c8a995f73f8",
   "metadata": {
    "id": "4c1ce357-cdc1-422e-aba2-8c8a995f73f8"
   },
   "outputs": [],
   "source": [
    "def build_model():\n",
    "    new_model = GradientBoostingClassifier()\n",
    "    return new_model"
   ]
  },
  {
   "cell_type": "code",
   "execution_count": 7,
   "id": "da9eb695-32e6-4527-b54c-a1afd03bcdff",
   "metadata": {
    "colab": {
     "base_uri": "https://localhost:8080/"
    },
    "id": "da9eb695-32e6-4527-b54c-a1afd03bcdff",
    "outputId": "f610ebec-64b2-4807-ecea-1832c0caa3ed"
   },
   "outputs": [
    {
     "name": "stdout",
     "output_type": "stream",
     "text": [
      "GradientBoostingClassifier()\n"
     ]
    }
   ],
   "source": [
    "test = build_model()\n",
    "print(test)\n",
    "test = None"
   ]
  },
  {
   "cell_type": "code",
   "execution_count": 8,
   "id": "dea5888f-521c-418b-ad28-437df4507c44",
   "metadata": {
    "id": "dea5888f-521c-418b-ad28-437df4507c44"
   },
   "outputs": [],
   "source": [
    "class stats_collector:\n",
    "    def __init__(self):\n",
    "        self.reset_statistics()\n",
    "    def reset_statistics(self):\n",
    "        self.cv_accuracy=[]\n",
    "        self.cv_precision=[]\n",
    "        self.cv_recall=[]\n",
    "        self.cv_f1=[]\n",
    "        self.cv_mcc=[]\n",
    "        self.cv_auprc=[]\n",
    "        self.cv_auroc=[]\n",
    "    def _append_statistics(self,accuracy,precision,recall,f1,mcc,auprc,auroc):\n",
    "        self.cv_accuracy.append(accuracy)\n",
    "        self.cv_precision.append(precision)\n",
    "        self.cv_recall.append(recall)\n",
    "        self.cv_f1.append(f1)\n",
    "        self.cv_mcc.append(mcc)\n",
    "        self.cv_auprc.append(auprc)\n",
    "        self.cv_auroc.append(auroc)\n",
    "    def compute_performance(self,y_test,yhat_pred,yhat_classes,verbose=False):\n",
    "        accuracy = accuracy_score(y_test, yhat_classes)*100.\n",
    "        precision = precision_score(y_test, yhat_classes)*100.\n",
    "        recall = recall_score(y_test, yhat_classes)*100.\n",
    "        f1 = f1_score(y_test, yhat_classes)*100.\n",
    "        mcc = matthews_corrcoef(y_test, yhat_classes)\n",
    "        prc_Y, prc_X, prc_bins = precision_recall_curve(y_test, yhat_pred)\n",
    "        auprc = auc(prc_X,prc_Y)*100.\n",
    "        auroc = roc_auc_score(y_test, yhat_pred)*100.\n",
    "        self._append_statistics(accuracy,precision,recall,f1,mcc,auprc,auroc)\n",
    "        if verbose:\n",
    "            self._show_confusion(y_test,yhat_pred,yhat_classes)\n",
    "            self._show_statistics(accuracy,precision,recall,f1,mcc,auprc,auroc)\n",
    "    def _show_confusion(self,y_test,yhat_pred,yhat_classes):\n",
    "            print('Distrib of scores:',np.mean(yhat_pred),'mean',np.std(yhat_pred),'std')\n",
    "            print('Range of scores:',np.min(yhat_pred),'to',np.max(yhat_pred))\n",
    "            cm1 = confusion_matrix(y_test,yhat_classes)\n",
    "            print('Confusion matrix\\n',cm1)\n",
    "            cm2 = confusion_matrix(y_test,yhat_classes,normalize='all')\n",
    "            print('Normalized matrix\\n',cm2)\n",
    "    def _show_statistics(self,accuracy,precision,recall,f1,mcc,auprc,auroc):\n",
    "            print('accuracy:',accuracy,'precision:',precision,'recall:',recall,\\\n",
    "                  'F1:',f1,'MCC:',mcc,'AUPRC:',auprc,'AUROC:',auroc)\n",
    "    def _show_variance(self, name, stats_list):\n",
    "        if name=='MCC':\n",
    "            print('%10s %5.3f mean, %6.3f stdev' % (name,np.mean(stats_list),np.std(stats_list) ) )\n",
    "        else:\n",
    "            print('%10s %5.2f mean, %6.3f stdev' % (name,np.mean(stats_list),np.std(stats_list) ) )\n",
    "        print(stats_list)\n",
    "    def dump_all(self):\n",
    "        self._show_variance('accuracy', self.cv_accuracy)\n",
    "        self._show_variance('precision',self.cv_precision)\n",
    "        self._show_variance('recall',   self.cv_recall)\n",
    "        self._show_variance('F1',       self.cv_f1)\n",
    "        self._show_variance('MCC',      self.cv_mcc)\n",
    "        self._show_variance('AUPRC',    self.cv_auprc)\n",
    "        self._show_variance('AUROC',    self.cv_auroc)"
   ]
  },
  {
   "cell_type": "code",
   "execution_count": 9,
   "id": "2c0fe64b-d172-4167-bc2b-d9f617fbb1a1",
   "metadata": {
    "id": "2c0fe64b-d172-4167-bc2b-d9f617fbb1a1"
   },
   "outputs": [],
   "source": [
    "# From RNAlight notebook\n",
    "def _count_kmer(Dataset,k): # k = 3,4,5\n",
    "\n",
    "    # copy dataset\n",
    "    dataset = copy.deepcopy(Dataset)\n",
    "    # alphbet of nucleotide\n",
    "    nucleotide = ['A','C','G','T']\n",
    "\n",
    "    # generate k-mers\n",
    "    #  k == 5:\n",
    "    five = list(itertools.product(nucleotide,repeat=5))\n",
    "    pentamer = []\n",
    "    for n in five:\n",
    "        pentamer.append(\"\".join(n))\n",
    "\n",
    "    #  k == 4:\n",
    "    four = list(itertools.product(nucleotide,repeat=4))\n",
    "    tetramer = []\n",
    "    for n in four:\n",
    "        tetramer.append(\"\".join(n))\n",
    "\n",
    "    # k == 3:\n",
    "    three = list(itertools.product(nucleotide,repeat=3))\n",
    "    threemer = []\n",
    "    for n in three:\n",
    "        threemer.append(\"\".join(n))\n",
    "\n",
    "    # input features can be combinations of diffrent k values\n",
    "    if k == 34:\n",
    "        table_kmer = dict.fromkeys(threemer,0)\n",
    "        table_kmer.update(dict.fromkeys(tetramer,0))\n",
    "    if k == 45:\n",
    "        table_kmer = dict.fromkeys(tetramer,0)\n",
    "        table_kmer.update(dict.fromkeys(pentamer,0))\n",
    "    if k == 345:\n",
    "        table_kmer = dict.fromkeys(threemer,0)\n",
    "        table_kmer.update(dict.fromkeys(tetramer,0))\n",
    "        table_kmer.update(dict.fromkeys(pentamer,0))\n",
    "\n",
    "    # count k-mer for each sequence\n",
    "    for mer in table_kmer.keys():\n",
    "        table_kmer[mer] = dataset[\"cdna\"].apply(lambda x : x.count(mer))\n",
    "\n",
    "    # for k-mer raw count without normalization, index: nuc:1 or cyto:0\n",
    "    rawcount_kmer_df = pd.DataFrame(table_kmer)\n",
    "    df1_rawcount = pd.concat([rawcount_kmer_df,dataset[\"ensembl_transcript_id\"]],axis = 1)\n",
    "    df1_rawcount.index = dataset[\"tag\"]\n",
    "\n",
    "    # for k-mer frequency with normalization , index: nuc:1 or cyto:0\n",
    "    freq_kmer_df = rawcount_kmer_df.apply(lambda x: x/x.sum(),axis=1)\n",
    "    df1 = pd.concat([freq_kmer_df,dataset[\"ensembl_transcript_id\"]],axis = 1)\n",
    "    df1.index = dataset[\"tag\"]\n",
    "\n",
    "    return df1  # ,df1_rawcount"
   ]
  },
  {
   "cell_type": "code",
   "execution_count": 10,
   "id": "9e70228e-003b-4b4e-895f-b5d642270490",
   "metadata": {
    "id": "9e70228e-003b-4b4e-895f-b5d642270490"
   },
   "outputs": [],
   "source": [
    "# From RNAlight notebook\n",
    "def load_dataframe(cyto_f,nuc_f):\n",
    "    print('load dataframe')\n",
    "    dataset_cyto = pd.read_csv(cyto_f,sep='\\t',index_col = False)    #1806\n",
    "    dataset_nuc = pd.read_csv(nuc_f,sep='\\t',index_col = False)    #1986\n",
    "    print( len(dataset_cyto), 'cytoplasmic samples')\n",
    "    print( len(dataset_nuc),  'nuclear samples')\n",
    "    return dataset_cyto,dataset_nuc"
   ]
  },
  {
   "cell_type": "code",
   "execution_count": 11,
   "id": "449b9c12-3a7d-4e97-9816-43db7ea0caa8",
   "metadata": {
    "id": "449b9c12-3a7d-4e97-9816-43db7ea0caa8"
   },
   "outputs": [],
   "source": [
    "# Added\n",
    "def rebalance(dataset_cyto,dataset_nuc):\n",
    "    print('sample down to balance classes')\n",
    "    min_size = min(len(dataset_cyto),len(dataset_nuc))\n",
    "    # random sampling without replacement\n",
    "    dataset_cyto = dataset_cyto.sample(min_size, random_state=SEED)\n",
    "    dataset_nuc  = dataset_nuc.sample(min_size,  random_state=SEED)\n",
    "    print( len(dataset_cyto), 'cytoplasmic samples')\n",
    "    print( len(dataset_nuc),  'nuclear samples')\n",
    "    return dataset_cyto,dataset_nuc"
   ]
  },
  {
   "cell_type": "code",
   "execution_count": 12,
   "id": "4ef1e58c-07a6-47f0-9fef-c439c298b3ff",
   "metadata": {
    "id": "4ef1e58c-07a6-47f0-9fef-c439c298b3ff"
   },
   "outputs": [],
   "source": [
    "# From RNAlight notebook\n",
    "def extract_features_and_split(dataset_cyto,dataset_nuc):\n",
    "    print('add labels, concatenate')\n",
    "    # Set the tag of RCI(log2FC): nuclear 1 / cytosol 0\n",
    "    dataset_nuc['tag'] = 1;dataset_cyto['tag'] = 0\n",
    "    # merge the nuc and cyto dataset\n",
    "    dataset = pd.concat([dataset_nuc,dataset_cyto]) # 3792\n",
    "\n",
    "    print('dedupe (probably not necessary)')\n",
    "    # remove duplications(actually,each lncRNA is unique in its class)\n",
    "    dataset.drop_duplicates(keep=\"first\",subset=[\"ensembl_transcript_id\",\"name\",\"cdna\"],inplace=True) # 3792\n",
    "\n",
    "    print('count kmers')\n",
    "    # k = 3,4,5 count the normalized and raw count of kmer\n",
    "    df_kmer_345 = _count_kmer(dataset,345)   # df_kmer_345,df_kmer_345_rawcount =\n",
    "\n",
    "    # We commented this out. No need to save the tsv.\n",
    "    # df_kmer_345.to_csv(os.path.join(output_dir,\"df_kmer345_freq.tsv\"),sep='\\t')\n",
    "    # This was commented out in the original. Seems they reran using saved kmers. Should test if file exists.\n",
    "    # load kmer file\n",
    "    # df_kmer_345 = pd.read_csv(os.path.join(output_dir,\"df_kmer345_freq.tsv\"),sep='\\t',index_col= 0)\n",
    "\n",
    "    # convert to x:kmer-freq , y:label\n",
    "    del df_kmer_345['ensembl_transcript_id']\n",
    "    x_kmer = df_kmer_345.values\n",
    "    y_kmer = y_kmer = np.array(df_kmer_345.index)\n",
    "\n",
    "    # split into training and test sets (9:1)\n",
    "    print('train/test split')\n",
    "    x_train, x_test, y_train, y_test = train_test_split(x_kmer, y_kmer, test_size = 0.1, random_state = SEED)\n",
    "\n",
    "    #print('Apply cross-validation to all the data (no test set withheld)')\n",
    "    #x_train, x_test, y_train, y_test = train_test_split(x_kmer, y_kmer, test_size = None, random_state = SEED)\n",
    "    print('train set shape',x_train.shape)\n",
    "    # Added\n",
    "    labels,counts = np.unique(y_train,return_counts=True)\n",
    "    print('train set labels', labels, 'counts',counts)\n",
    "    labels,counts = np.unique(y_test,return_counts=True)\n",
    "    print('test set labels', labels, 'counts',counts)\n",
    "    return x_train, x_test, y_train, y_test"
   ]
  },
  {
   "cell_type": "code",
   "execution_count": 13,
   "id": "18b66e70-43ab-4a04-95ec-8d74064d8b65",
   "metadata": {
    "id": "18b66e70-43ab-4a04-95ec-8d74064d8b65"
   },
   "outputs": [],
   "source": [
    "def do_cv(x_train, y_train):\n",
    "    stats = stats_collector()\n",
    "    for round in range(1,3):\n",
    "        fold=0\n",
    "        splitter = KFold(n_splits=5)\n",
    "        for train_index, valid_index in splitter.split(x_train):\n",
    "            fold += 1\n",
    "            print('Round', round, 'Fold', fold)\n",
    "            print('Num samples in train and valid sets:', len(train_index), len(valid_index))\n",
    "            print('Train')\n",
    "            lgb = build_model()\n",
    "            history = lgb.fit(x_train[train_index], y_train[train_index])\n",
    "            print('Validate')\n",
    "            x_valid = x_train[valid_index]\n",
    "            y_valid = y_train[valid_index]\n",
    "            yhat_classes= lgb.predict(x_valid)  # get 0 or 1\n",
    "            yhat_pairs=   lgb.predict_proba(x_valid)  # get [ prob of 0, prob of 1 ]\n",
    "            yhat_pred=    [pair[1] for pair in yhat_pairs]\n",
    "            stats.compute_performance(y_valid,yhat_pred,yhat_classes,verbose=False)\n",
    "    return stats"
   ]
  },
  {
   "cell_type": "code",
   "execution_count": 14,
   "id": "37daf14d-0c14-49c8-b9c0-1590df839c3d",
   "metadata": {
    "colab": {
     "base_uri": "https://localhost:8080/"
    },
    "id": "37daf14d-0c14-49c8-b9c0-1590df839c3d",
    "outputId": "c69ec276-7f06-42c0-f4f9-8f268af72dab"
   },
   "outputs": [
    {
     "name": "stdout",
     "output_type": "stream",
     "text": [
      "Use the RNAlight training set (already has middle excluded)\n",
      "Data files:\n",
      "/content/drive/My Drive/data/Localization/RNAlight/02_lncRNA_info_cyto_transcript.tsv \n",
      " /content/drive/My Drive/data/Localization/RNAlight/02_lncRNA_info_nuc_transcript.tsv\n",
      "load dataframe\n",
      "1806 cytoplasmic samples\n",
      "1986 nuclear samples\n",
      "add labels, concatenate\n",
      "dedupe (probably not necessary)\n",
      "count kmers\n",
      "train/test split\n",
      "train set shape (3412, 1344)\n",
      "train set labels [0 1] counts [1622 1790]\n",
      "test set labels [0 1] counts [184 196]\n",
      "Round 1 Fold 1\n",
      "Num samples in train and valid sets: 2729 683\n",
      "Train\n",
      "Validate\n",
      "Round 1 Fold 2\n",
      "Num samples in train and valid sets: 2729 683\n",
      "Train\n",
      "Validate\n",
      "Round 1 Fold 3\n",
      "Num samples in train and valid sets: 2730 682\n",
      "Train\n",
      "Validate\n",
      "Round 1 Fold 4\n",
      "Num samples in train and valid sets: 2730 682\n",
      "Train\n",
      "Validate\n",
      "Round 1 Fold 5\n",
      "Num samples in train and valid sets: 2730 682\n",
      "Train\n",
      "Validate\n",
      "Round 2 Fold 1\n",
      "Num samples in train and valid sets: 2729 683\n",
      "Train\n",
      "Validate\n",
      "Round 2 Fold 2\n",
      "Num samples in train and valid sets: 2729 683\n",
      "Train\n",
      "Validate\n",
      "Round 2 Fold 3\n",
      "Num samples in train and valid sets: 2730 682\n",
      "Train\n",
      "Validate\n",
      "Round 2 Fold 4\n",
      "Num samples in train and valid sets: 2730 682\n",
      "Train\n",
      "Validate\n",
      "Round 2 Fold 5\n",
      "Num samples in train and valid sets: 2730 682\n",
      "Train\n",
      "Validate\n",
      "\n",
      "Cross validation results\n",
      "  accuracy 66.38 mean,  1.553 stdev\n",
      "[64.71449487554905, 66.91068814055637, 65.39589442815249, 69.06158357771261, 65.6891495601173, 64.86090775988286, 67.05710102489019, 65.39589442815249, 69.20821114369502, 65.5425219941349]\n",
      " precision 67.18 mean,  0.979 stdev\n",
      "[67.75956284153006, 65.1595744680851, 67.53246753246754, 67.61658031088082, 67.59002770083103, 68.04407713498622, 65.33333333333333, 67.62402088772846, 67.70025839793283, 67.40331491712708]\n",
      "    recall 70.33 mean,  3.134 stdev\n",
      "[66.84636118598382, 72.05882352941177, 70.08086253369272, 75.21613832853026, 67.59002770083103, 66.57681940700809, 72.05882352941177, 69.81132075471697, 75.50432276657061, 67.59002770083103]\n",
      "        F1 68.67 mean,  1.423 stdev\n",
      "[67.29986431478969, 68.43575418994413, 68.78306878306879, 71.21418826739428, 67.59002770083103, 67.3024523160763, 68.53146853146852, 68.70026525198939, 71.38964577656675, 67.49654218533887]\n",
      "       MCC 0.326 mean,  0.034 stdev\n",
      "[0.289920550167181, 0.3404023028154294, 0.3002302802122504, 0.3823119244500984, 0.31141429569989904, 0.29345659267356966, 0.34323163637200077, 0.3005267027902068, 0.3853722413690226, 0.30835358521006834]\n",
      "     AUPRC 73.58 mean,  1.206 stdev\n",
      "[73.8199263101443, 71.16778804863266, 73.95220840952975, 74.20228925929189, 74.61986530082854, 73.81680703278963, 71.29941529354524, 74.19676696515909, 74.12328169005423, 74.64552551600138]\n",
      "     AUROC 72.47 mean,  1.453 stdev\n",
      "[71.21172852304927, 72.25518778940148, 71.72411402223938, 75.24882790657662, 71.67870487828031, 71.24369341350474, 72.435259818213, 71.90351964361548, 75.31334681061551, 71.65367920539175]\n"
     ]
    }
   ],
   "source": [
    "if True:\n",
    "    print('Use the RNAlight training set (already has middle excluded)')\n",
    "    cyto_f = DATA_DIR+'02_lncRNA_info_cyto_transcript.tsv'\n",
    "    nuc_f  = DATA_DIR+'02_lncRNA_info_nuc_transcript.tsv'\n",
    "    print('Data files:')\n",
    "    print(cyto_f,'\\n',nuc_f)\n",
    "    dataset_cyto,dataset_nuc = load_dataframe(cyto_f,nuc_f)\n",
    "    x_train, x_test, y_train, y_test = extract_features_and_split(dataset_cyto,dataset_nuc)\n",
    "    stats = do_cv(x_train, y_train)\n",
    "    print('\\nCross validation results')\n",
    "    stats.dump_all()"
   ]
  },
  {
   "cell_type": "code",
   "execution_count": 15,
   "id": "c05c7485-5917-446b-9207-74fa17bcf5eb",
   "metadata": {
    "colab": {
     "base_uri": "https://localhost:8080/"
    },
    "id": "c05c7485-5917-446b-9207-74fa17bcf5eb",
    "outputId": "a2cfc9fb-d519-4a1c-86de-1d8c84b329b0"
   },
   "outputs": [
    {
     "name": "stdout",
     "output_type": "stream",
     "text": [
      "Rebalance (sample down the majority class) and repeat\n",
      "sample down to balance classes\n",
      "1806 cytoplasmic samples\n",
      "1806 nuclear samples\n",
      "add labels, concatenate\n",
      "dedupe (probably not necessary)\n",
      "count kmers\n",
      "train/test split\n",
      "train set shape (3250, 1344)\n",
      "train set labels [0 1] counts [1632 1618]\n",
      "test set labels [0 1] counts [174 188]\n",
      "Round 1 Fold 1\n",
      "Num samples in train and valid sets: 2600 650\n",
      "Train\n",
      "Validate\n",
      "Round 1 Fold 2\n",
      "Num samples in train and valid sets: 2600 650\n",
      "Train\n",
      "Validate\n",
      "Round 1 Fold 3\n",
      "Num samples in train and valid sets: 2600 650\n",
      "Train\n",
      "Validate\n",
      "Round 1 Fold 4\n",
      "Num samples in train and valid sets: 2600 650\n",
      "Train\n",
      "Validate\n",
      "Round 1 Fold 5\n",
      "Num samples in train and valid sets: 2600 650\n",
      "Train\n",
      "Validate\n",
      "Round 2 Fold 1\n",
      "Num samples in train and valid sets: 2600 650\n",
      "Train\n",
      "Validate\n",
      "Round 2 Fold 2\n",
      "Num samples in train and valid sets: 2600 650\n",
      "Train\n",
      "Validate\n",
      "Round 2 Fold 3\n",
      "Num samples in train and valid sets: 2600 650\n",
      "Train\n",
      "Validate\n",
      "Round 2 Fold 4\n",
      "Num samples in train and valid sets: 2600 650\n",
      "Train\n",
      "Validate\n",
      "Round 2 Fold 5\n",
      "Num samples in train and valid sets: 2600 650\n",
      "Train\n",
      "Validate\n",
      "\n",
      "Cross validation results\n",
      "  accuracy 66.71 mean,  1.850 stdev\n",
      "[68.76923076923077, 66.0, 64.15384615384615, 66.0, 68.92307692307692, 68.46153846153847, 65.6923076923077, 64.0, 66.0, 69.07692307692308]\n",
      " precision 66.58 mean,  2.495 stdev\n",
      "[70.87378640776699, 65.6891495601173, 65.91639871382637, 63.25301204819277, 67.37160120845923, 70.68403908794788, 65.48672566371681, 65.7051282051282, 63.25301204819277, 67.57575757575758]\n",
      "    recall 66.74 mean,  2.910 stdev\n",
      "[65.96385542168674, 68.29268292682927, 61.74698795180723, 67.96116504854369, 70.34700315457413, 65.36144578313254, 67.6829268292683, 61.74698795180723, 67.96116504854369, 70.34700315457413]\n",
      "        F1 66.60 mean,  1.851 stdev\n",
      "[68.33073322932918, 66.96562032884903, 63.76360808709175, 65.52262090483619, 68.82716049382715, 67.91862284820031, 66.56671664167916, 63.66459627329193, 65.52262090483619, 68.93353941267387]\n",
      "       MCC 0.335 mean,  0.037 stdev\n",
      "[0.3769894441143981, 0.3199471349072702, 0.28433456344322755, 0.3215247228209715, 0.37909543312238086, 0.37107919089560926, 0.31375311423436214, 0.281151719134296, 0.3215247228209715, 0.3820781364743539]\n",
      "     AUPRC 71.63 mean,  2.517 stdev\n",
      "[76.29786355741508, 72.21356181141346, 70.2021789826653, 69.24941098909696, 70.07149784722617, 76.28940172389026, 72.25430180725863, 70.1263224327117, 69.56537341909413, 70.05714175085764]\n",
      "     AUROC 72.52 mean,  2.104 stdev\n",
      "[74.85318633022658, 72.50227238297228, 68.7855194362355, 72.37992198844061, 74.11449304193783, 74.82855952110327, 72.52878351764885, 68.70311434416912, 72.45679469293624, 74.07091634220971]\n"
     ]
    }
   ],
   "source": [
    "if True:\n",
    "    print('Rebalance (sample down the majority class) and repeat')\n",
    "    dataset_cyto,dataset_nuc = rebalance(dataset_cyto,dataset_nuc)\n",
    "    x_train, x_test, y_train, y_test = extract_features_and_split(dataset_cyto,dataset_nuc)\n",
    "    stats = do_cv(x_train, y_train)\n",
    "    print('\\nCross validation results')\n",
    "    stats.dump_all()"
   ]
  },
  {
   "cell_type": "code",
   "execution_count": 16,
   "id": "cf916e9f-18b0-4892-8f78-4ea810f7bfe1",
   "metadata": {
    "colab": {
     "base_uri": "https://localhost:8080/"
    },
    "id": "cf916e9f-18b0-4892-8f78-4ea810f7bfe1",
    "outputId": "4ba69be7-90b5-48b8-f934-eb86ae7ae2af"
   },
   "outputs": [
    {
     "name": "stdout",
     "output_type": "stream",
     "text": [
      "Use our lncATLAS training set \"middle exclusion\" (CN-RCI < -2 or CN-RCI > 0)\n",
      "Data files:\n",
      "/content/drive/My Drive/data/Localization/RNAlight/ForRNAlight.lncRNA_RCIgt0.canonical.tsv \n",
      " /content/drive/My Drive/data/Localization/RNAlight/ForRNAlight.lncRNA_RCIlt-2.canonical.tsv\n",
      "load dataframe\n",
      "1703 cytoplasmic samples\n",
      "706 nuclear samples\n",
      "add labels, concatenate\n",
      "dedupe (probably not necessary)\n",
      "count kmers\n",
      "train/test split\n",
      "train set shape (2168, 1344)\n",
      "train set labels [0 1] counts [1524  644]\n",
      "test set labels [0 1] counts [179  62]\n",
      "Round 1 Fold 1\n",
      "Num samples in train and valid sets: 1734 434\n",
      "Train\n",
      "Validate\n",
      "Round 1 Fold 2\n",
      "Num samples in train and valid sets: 1734 434\n",
      "Train\n",
      "Validate\n",
      "Round 1 Fold 3\n",
      "Num samples in train and valid sets: 1734 434\n",
      "Train\n",
      "Validate\n",
      "Round 1 Fold 4\n",
      "Num samples in train and valid sets: 1735 433\n",
      "Train\n",
      "Validate\n",
      "Round 1 Fold 5\n",
      "Num samples in train and valid sets: 1735 433\n",
      "Train\n",
      "Validate\n",
      "Round 2 Fold 1\n",
      "Num samples in train and valid sets: 1734 434\n",
      "Train\n",
      "Validate\n",
      "Round 2 Fold 2\n",
      "Num samples in train and valid sets: 1734 434\n",
      "Train\n",
      "Validate\n",
      "Round 2 Fold 3\n",
      "Num samples in train and valid sets: 1734 434\n",
      "Train\n",
      "Validate\n",
      "Round 2 Fold 4\n",
      "Num samples in train and valid sets: 1735 433\n",
      "Train\n",
      "Validate\n",
      "Round 2 Fold 5\n",
      "Num samples in train and valid sets: 1735 433\n",
      "Train\n",
      "Validate\n",
      "\n",
      "Cross validation results\n",
      "  accuracy 75.72 mean,  1.520 stdev\n",
      "[73.50230414746544, 75.11520737327189, 76.26728110599078, 78.06004618937644, 75.75057736720554, 73.50230414746544, 75.11520737327189, 76.036866359447, 78.29099307159353, 75.51963048498845]\n",
      " precision 64.43 mean,  4.140 stdev\n",
      "[71.5909090909091, 63.76811594202898, 60.0, 65.51724137931035, 61.8421052631579, 71.5909090909091, 63.76811594202898, 59.25925925925925, 65.9090909090909, 61.038961038961034]\n",
      "    recall 40.30 mean,  4.097 stdev\n",
      "[41.17647058823529, 34.645669291338585, 40.33613445378151, 46.72131147540984, 38.21138211382114, 41.17647058823529, 34.645669291338585, 40.33613445378151, 47.540983606557376, 38.21138211382114]\n",
      "        F1 49.46 mean,  3.625 stdev\n",
      "[52.282157676348554, 44.89795918367347, 48.24120603015075, 54.54545454545454, 47.23618090452262, 52.282157676348554, 44.89795918367347, 48.0, 55.238095238095234, 47.0]\n",
      "       MCC 0.363 mean,  0.034 stdev\n",
      "[0.3835735238065153, 0.3297496958012472, 0.3471874470234039, 0.4162398936279609, 0.34208718565626384, 0.3835735238065153, 0.3297496958012472, 0.3418911696762952, 0.4236307589616384, 0.3365310427251681]\n",
      "     AUPRC 62.38 mean,  3.606 stdev\n",
      "[68.09060422578968, 57.69214894502153, 61.602829749397436, 64.58496544915235, 60.07459564625704, 68.01686933641369, 57.680329910997884, 61.357804833519424, 64.56257458508041, 60.149100859576635]\n",
      "     AUROC 77.18 mean,  1.514 stdev\n",
      "[77.31491172981647, 74.93139090512709, 77.23889555822329, 79.64656581097465, 76.80566483084186, 77.29863000953644, 74.85444612583035, 77.16953448045885, 79.64656581097465, 76.84762654078155]\n"
     ]
    }
   ],
   "source": [
    "if True:\n",
    "    print('Use our lncATLAS training set \"middle exclusion\" (CN-RCI < -2 or CN-RCI > 0)')\n",
    "    cyto_f = DATA_DIR+'ForRNAlight.lncRNA_RCIgt0.canonical.tsv'\n",
    "    nuc_f  = DATA_DIR+'ForRNAlight.lncRNA_RCIlt-2.canonical.tsv'\n",
    "    print('Data files:')\n",
    "    print(cyto_f,'\\n',nuc_f)\n",
    "    dataset_cyto,dataset_nuc = load_dataframe(cyto_f,nuc_f)\n",
    "    x_train, x_test, y_train, y_test = extract_features_and_split(dataset_cyto,dataset_nuc)\n",
    "    stats = do_cv(x_train, y_train)\n",
    "    print('\\nCross validation results')\n",
    "    stats.dump_all()"
   ]
  },
  {
   "cell_type": "code",
   "execution_count": 17,
   "id": "c636039b-3223-4bed-9975-aa712353a1a5",
   "metadata": {
    "colab": {
     "base_uri": "https://localhost:8080/"
    },
    "id": "c636039b-3223-4bed-9975-aa712353a1a5",
    "outputId": "ca46e0a6-f184-43c7-bffe-89d1e8545949"
   },
   "outputs": [
    {
     "name": "stdout",
     "output_type": "stream",
     "text": [
      "Rebalance (sample down the majority class) and repeat\n",
      "sample down to balance classes\n",
      "706 cytoplasmic samples\n",
      "706 nuclear samples\n",
      "add labels, concatenate\n",
      "dedupe (probably not necessary)\n",
      "count kmers\n",
      "train/test split\n",
      "train set shape (1270, 1344)\n",
      "train set labels [0 1] counts [639 631]\n",
      "test set labels [0 1] counts [67 75]\n",
      "Round 1 Fold 1\n",
      "Num samples in train and valid sets: 1016 254\n",
      "Train\n",
      "Validate\n",
      "Round 1 Fold 2\n",
      "Num samples in train and valid sets: 1016 254\n",
      "Train\n",
      "Validate\n",
      "Round 1 Fold 3\n",
      "Num samples in train and valid sets: 1016 254\n",
      "Train\n",
      "Validate\n",
      "Round 1 Fold 4\n",
      "Num samples in train and valid sets: 1016 254\n",
      "Train\n",
      "Validate\n",
      "Round 1 Fold 5\n",
      "Num samples in train and valid sets: 1016 254\n",
      "Train\n",
      "Validate\n",
      "Round 2 Fold 1\n",
      "Num samples in train and valid sets: 1016 254\n",
      "Train\n",
      "Validate\n",
      "Round 2 Fold 2\n",
      "Num samples in train and valid sets: 1016 254\n",
      "Train\n",
      "Validate\n",
      "Round 2 Fold 3\n",
      "Num samples in train and valid sets: 1016 254\n",
      "Train\n",
      "Validate\n",
      "Round 2 Fold 4\n",
      "Num samples in train and valid sets: 1016 254\n",
      "Train\n",
      "Validate\n",
      "Round 2 Fold 5\n",
      "Num samples in train and valid sets: 1016 254\n",
      "Train\n",
      "Validate\n",
      "\n",
      "Cross validation results\n",
      "  accuracy 70.83 mean,  2.938 stdev\n",
      "[66.92913385826772, 75.19685039370079, 72.83464566929135, 71.25984251968504, 68.50393700787401, 66.92913385826772, 74.80314960629921, 72.83464566929135, 70.86614173228347, 68.11023622047244]\n",
      " precision 71.82 mean,  3.165 stdev\n",
      "[69.42148760330579, 77.27272727272727, 73.45132743362832, 70.8955223880597, 68.54838709677419, 69.42148760330579, 77.06422018348624, 73.45132743362832, 70.37037037037037, 68.29268292682927]\n",
      "    recall 68.31 mean,  3.101 stdev\n",
      "[64.12213740458014, 69.10569105691057, 68.0327868852459, 73.64341085271317, 67.46031746031747, 64.12213740458014, 68.29268292682927, 68.0327868852459, 73.64341085271317, 66.66666666666666]\n",
      "        F1 69.97 mean,  2.386 stdev\n",
      "[66.66666666666666, 72.96137339055792, 70.63829787234043, 72.24334600760457, 68.0, 66.66666666666666, 72.41379310344828, 70.63829787234043, 71.96969696969697, 67.46987951807229]\n",
      "       MCC 0.417 mean,  0.058 stdev\n",
      "[0.3406198259720906, 0.5045093851586034, 0.45547984722694684, 0.42502758461546974, 0.3700074537075773, 0.3406198259720906, 0.4968587749282053, 0.45547984722694684, 0.4172110385095269, 0.36214761526188244]\n",
      "     AUPRC 77.78 mean,  1.399 stdev\n",
      "[77.69644256766567, 78.5747642370733, 77.49330788301978, 79.7843042910698, 75.47943081689397, 77.74786438930603, 78.4429702458961, 77.4484963665485, 79.6707809812621, 75.4531263741007]\n",
      "     AUROC 77.30 mean,  2.105 stdev\n",
      "[75.44218953639917, 79.96648668776764, 78.30973671137606, 78.59224806201551, 74.36755952380952, 75.50425122571835, 79.99131136349531, 78.33457526080477, 78.31317829457363, 74.15674603174601]\n"
     ]
    }
   ],
   "source": [
    "if True:   # just to be sure\n",
    "    print('Rebalance (sample down the majority class) and repeat')\n",
    "    dataset_cyto,dataset_nuc = rebalance(dataset_cyto,dataset_nuc)\n",
    "    x_train, x_test, y_train, y_test = extract_features_and_split(dataset_cyto,dataset_nuc)\n",
    "    stats = do_cv(x_train, y_train)\n",
    "    print('\\nCross validation results')\n",
    "    stats.dump_all()"
   ]
  },
  {
   "cell_type": "code",
   "execution_count": 18,
   "id": "1830d712-20a6-4f94-9ddb-e21be989c4d6",
   "metadata": {
    "colab": {
     "base_uri": "https://localhost:8080/"
    },
    "id": "1830d712-20a6-4f94-9ddb-e21be989c4d6",
    "outputId": "386a1589-2f9d-4e4a-9f8b-e23dfe11d45e"
   },
   "outputs": [
    {
     "name": "stdout",
     "output_type": "stream",
     "text": [
      "Use our lncATLAS training set \"all\" (-inf <= CN-RCI <= +inf)\n",
      "/content/drive/My Drive/data/Localization/RNAlight/ForRNAlight.lncRNA_RCIgt-1.canonical.tsv \n",
      " /content/drive/My Drive/data/Localization/RNAlight/ForRNAlight.lncRNA_RCIlt-1.canonical.tsv\n",
      "load dataframe\n",
      "2887 cytoplasmic samples\n",
      "1548 nuclear samples\n",
      "add labels, concatenate\n",
      "dedupe (probably not necessary)\n",
      "count kmers\n",
      "train/test split\n",
      "train set shape (3991, 1344)\n",
      "train set labels [0 1] counts [2606 1385]\n",
      "test set labels [0 1] counts [281 163]\n",
      "Round 1 Fold 1\n",
      "Num samples in train and valid sets: 3192 799\n",
      "Train\n",
      "Validate\n",
      "Round 1 Fold 2\n",
      "Num samples in train and valid sets: 3193 798\n",
      "Train\n",
      "Validate\n",
      "Round 1 Fold 3\n",
      "Num samples in train and valid sets: 3193 798\n",
      "Train\n",
      "Validate\n",
      "Round 1 Fold 4\n",
      "Num samples in train and valid sets: 3193 798\n",
      "Train\n",
      "Validate\n",
      "Round 1 Fold 5\n",
      "Num samples in train and valid sets: 3193 798\n",
      "Train\n",
      "Validate\n",
      "Round 2 Fold 1\n",
      "Num samples in train and valid sets: 3192 799\n",
      "Train\n",
      "Validate\n",
      "Round 2 Fold 2\n",
      "Num samples in train and valid sets: 3193 798\n",
      "Train\n",
      "Validate\n",
      "Round 2 Fold 3\n",
      "Num samples in train and valid sets: 3193 798\n",
      "Train\n",
      "Validate\n",
      "Round 2 Fold 4\n",
      "Num samples in train and valid sets: 3193 798\n",
      "Train\n",
      "Validate\n",
      "Round 2 Fold 5\n",
      "Num samples in train and valid sets: 3193 798\n",
      "Train\n",
      "Validate\n",
      "\n",
      "Cross validation results\n",
      "  accuracy 68.53 mean,  1.532 stdev\n",
      "[69.0863579474343, 67.79448621553885, 67.54385964912281, 71.17794486215539, 66.79197994987469, 69.33667083854819, 67.91979949874687, 67.54385964912281, 71.17794486215539, 66.9172932330827]\n",
      " precision 58.37 mean,  2.631 stdev\n",
      "[60.22727272727273, 61.36363636363637, 58.70967741935483, 56.86274509803921, 54.037267080745345, 60.91954022988506, 61.65413533834586, 58.70967741935483, 56.86274509803921, 54.37499999999999]\n",
      "    recall 32.73 mean,  3.091 stdev\n",
      "[37.455830388692576, 28.222996515679444, 31.818181818181817, 34.66135458167331, 31.294964028776977, 37.455830388692576, 28.57142857142857, 31.818181818181817, 34.66135458167331, 31.294964028776977]\n",
      "        F1 41.83 mean,  2.655 stdev\n",
      "[46.18736383442266, 38.663484486873514, 41.269841269841265, 43.06930693069307, 39.63553530751708, 46.38949671772429, 39.04761904761905, 41.269841269841265, 43.06930693069307, 39.72602739726027]\n",
      "       MCC 0.244 mean,  0.026 stdev\n",
      "[0.27569745090482056, 0.23562059269688312, 0.23416010853968625, 0.2665187061204742, 0.20259429696473907, 0.28132481324710246, 0.23939631465639805, 0.23416010853968625, 0.2665187061204742, 0.20535558443423854]\n",
      "     AUPRC 54.20 mean,  2.868 stdev\n",
      "[56.1286115355426, 58.01401348611726, 53.771648545280335, 53.85078998757136, 49.40888993134318, 55.84969523202299, 58.09942724333068, 53.48567543843751, 53.89401721492383, 49.48929303561914]\n",
      "     AUROC 68.32 mean,  1.215 stdev\n",
      "[68.05886542306955, 69.70209400165011, 66.95872486888112, 69.63080038165437, 67.08563918096293, 68.17459665269674, 69.82755681624471, 66.91160402097903, 69.72475727801772, 67.12091864969562]\n"
     ]
    }
   ],
   "source": [
    "if True:\n",
    "    print('Use our lncATLAS training set \"all\" (-inf <= CN-RCI <= +inf)')\n",
    "    cyto_f = DATA_DIR+'ForRNAlight.lncRNA_RCIgt-1.canonical.tsv'\n",
    "    nuc_f  = DATA_DIR+'ForRNAlight.lncRNA_RCIlt-1.canonical.tsv'\n",
    "    print(cyto_f,'\\n',nuc_f)\n",
    "    dataset_cyto,dataset_nuc = load_dataframe(cyto_f,nuc_f)\n",
    "    x_train, x_test, y_train, y_test = extract_features_and_split(dataset_cyto,dataset_nuc)\n",
    "    stats = do_cv(x_train, y_train)\n",
    "    print('\\nCross validation results')\n",
    "    stats.dump_all()"
   ]
  },
  {
   "cell_type": "code",
   "execution_count": 19,
   "id": "44560340-f786-4111-a3de-242d9b2aeb17",
   "metadata": {
    "colab": {
     "base_uri": "https://localhost:8080/"
    },
    "id": "44560340-f786-4111-a3de-242d9b2aeb17",
    "outputId": "5d182929-aab6-4a39-d8fb-bcb982082246"
   },
   "outputs": [
    {
     "name": "stdout",
     "output_type": "stream",
     "text": [
      "Rebalance (sample down the majority class) and repeat\n",
      "sample down to balance classes\n",
      "1548 cytoplasmic samples\n",
      "1548 nuclear samples\n",
      "add labels, concatenate\n",
      "dedupe (probably not necessary)\n",
      "count kmers\n",
      "train/test split\n",
      "train set shape (2786, 1344)\n",
      "train set labels [0 1] counts [1397 1389]\n",
      "test set labels [0 1] counts [151 159]\n",
      "Round 1 Fold 1\n",
      "Num samples in train and valid sets: 2228 558\n",
      "Train\n",
      "Validate\n",
      "Round 1 Fold 2\n",
      "Num samples in train and valid sets: 2229 557\n",
      "Train\n",
      "Validate\n",
      "Round 1 Fold 3\n",
      "Num samples in train and valid sets: 2229 557\n",
      "Train\n",
      "Validate\n",
      "Round 1 Fold 4\n",
      "Num samples in train and valid sets: 2229 557\n",
      "Train\n",
      "Validate\n",
      "Round 1 Fold 5\n",
      "Num samples in train and valid sets: 2229 557\n",
      "Train\n",
      "Validate\n",
      "Round 2 Fold 1\n",
      "Num samples in train and valid sets: 2228 558\n",
      "Train\n",
      "Validate\n",
      "Round 2 Fold 2\n",
      "Num samples in train and valid sets: 2229 557\n",
      "Train\n",
      "Validate\n",
      "Round 2 Fold 3\n",
      "Num samples in train and valid sets: 2229 557\n",
      "Train\n",
      "Validate\n",
      "Round 2 Fold 4\n",
      "Num samples in train and valid sets: 2229 557\n",
      "Train\n",
      "Validate\n",
      "Round 2 Fold 5\n",
      "Num samples in train and valid sets: 2229 557\n",
      "Train\n",
      "Validate\n",
      "\n",
      "Cross validation results\n",
      "  accuracy 61.74 mean,  1.173 stdev\n",
      "[62.72401433691756, 60.86175942549371, 60.14362657091562, 63.016157989228006, 61.759425493716336, 63.08243727598566, 60.86175942549371, 59.964093357271096, 63.19569120287253, 61.759425493716336]\n",
      " precision 62.14 mean,  3.160 stdev\n",
      "[65.34296028880865, 66.40926640926641, 58.80149812734082, 59.84848484848485, 60.15325670498084, 65.59139784946237, 66.40926640926641, 58.582089552238806, 60.07604562737643, 60.15325670498084]\n",
      "    recall 59.50 mean,  1.948 stdev\n",
      "[61.774744027303754, 56.76567656765676, 58.36431226765799, 61.240310077519375, 59.02255639097744, 62.45733788395904, 56.76567656765676, 58.36431226765799, 61.240310077519375, 59.02255639097744]\n",
      "        F1 60.73 mean,  1.765 stdev\n",
      "[63.50877192982455, 61.20996441281138, 58.58208955223881, 60.53639846743296, 59.58254269449716, 63.98601398601398, 61.20996441281138, 58.47299813780261, 60.65259117082533, 59.58254269449716]\n",
      "       MCC 0.235 mean,  0.022 stdev\n",
      "[0.25516799532766193, 0.22481598567080763, 0.20175337406081342, 0.25753774746483155, 0.2330631761702798, 0.2619787785628519, 0.22481598567080763, 0.1982520478165719, 0.26092828986596855, 0.2330631761702798]\n",
      "     AUPRC 65.15 mean,  3.064 stdev\n",
      "[70.02704440006862, 66.6377629483853, 63.45532060507176, 64.72691563826638, 60.91543329667206, 70.01281812048225, 66.72494542058992, 63.290604847928755, 64.66211780281877, 61.01822442586455]\n",
      "     AUROC 66.21 mean,  1.965 stdev\n",
      "[67.35784660956918, 64.43179751045972, 64.43360181743081, 69.43947525342875, 65.3876960442343, 67.51110824908237, 64.36812972635846, 64.24256505576207, 69.438178942729, 65.51171743792472]\n"
     ]
    }
   ],
   "source": [
    "if True:\n",
    "    print('Rebalance (sample down the majority class) and repeat')\n",
    "    dataset_cyto,dataset_nuc = rebalance(dataset_cyto,dataset_nuc)\n",
    "    x_train, x_test, y_train, y_test = extract_features_and_split(dataset_cyto,dataset_nuc)\n",
    "    stats = do_cv(x_train, y_train)\n",
    "    print('\\nCross validation results')\n",
    "    stats.dump_all()"
   ]
  },
  {
   "cell_type": "code",
   "execution_count": 20,
   "id": "35cf8437-c2c6-41d2-8b1f-70cc7ba25672",
   "metadata": {
    "colab": {
     "base_uri": "https://localhost:8080/"
    },
    "id": "35cf8437-c2c6-41d2-8b1f-70cc7ba25672",
    "outputId": "62488b7f-a6bd-43ec-831e-a0350be2d1a5"
   },
   "outputs": [
    {
     "name": "stdout",
     "output_type": "stream",
     "text": [
      "2024-03-21 14:39:12.632229\n",
      "Done\n"
     ]
    }
   ],
   "source": [
    "print(datetime.now())\n",
    "print('Done')"
   ]
  }
 ],
 "metadata": {
  "colab": {
   "machine_shape": "hm",
   "provenance": []
  },
  "kernelspec": {
   "display_name": "Python 3 (ipykernel)",
   "language": "python",
   "name": "python3"
  },
  "language_info": {
   "codemirror_mode": {
    "name": "ipython",
    "version": 3
   },
   "file_extension": ".py",
   "mimetype": "text/x-python",
   "name": "python",
   "nbconvert_exporter": "python",
   "pygments_lexer": "ipython3",
   "version": "3.11.6"
  }
 },
 "nbformat": 4,
 "nbformat_minor": 5
}
