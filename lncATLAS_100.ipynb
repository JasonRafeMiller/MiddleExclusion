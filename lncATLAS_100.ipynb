{
 "cells": [
  {
   "cell_type": "markdown",
   "id": "b885a27a",
   "metadata": {},
   "source": [
    "# Analyze lncATLAS CNRCI values\n",
    "Count genes per cell line.   \n",
    "Count genes given several thresholds.   \n",
    "Meausure correlations between cell lines.  "
   ]
  },
  {
   "cell_type": "code",
   "execution_count": 1,
   "id": "ffef6902",
   "metadata": {},
   "outputs": [
    {
     "name": "stdout",
     "output_type": "stream",
     "text": [
      "2024-03-15 12:52:24.895045\n",
      "Python 3.11.6\n",
      "sklearn 1.3.2\n"
     ]
    }
   ],
   "source": [
    "from datetime import datetime\n",
    "print(datetime.now())\n",
    "from platform import python_version\n",
    "print('Python',python_version())\n",
    "import numpy as np\n",
    "import pandas as pd\n",
    "import scipy.stats as ss\n",
    "from matplotlib import pyplot as plt \n",
    "import sklearn   # pip install --upgrade scikit-learn\n",
    "print('sklearn',sklearn.__version__)"
   ]
  },
  {
   "cell_type": "code",
   "execution_count": 2,
   "id": "a247893c",
   "metadata": {},
   "outputs": [
    {
     "name": "stdout",
     "output_type": "stream",
     "text": [
      "Running on desktop\n",
      "./\n"
     ]
    }
   ],
   "source": [
    "try:\n",
    "    from google.colab import drive\n",
    "    IN_COLAB = True\n",
    "    print('Running on CoLab')\n",
    "    PATH='/content/drive/'\n",
    "    drive.mount(PATH)\n",
    "    DATA_DIR=PATH+'My Drive/data/MiddleExclusion/'  # must end in \"/\"\n",
    "except:\n",
    "    print('Running on desktop')\n",
    "    IN_COLAB = False\n",
    "    DATA_DIR = './'  \n",
    "print(DATA_DIR)"
   ]
  },
  {
   "cell_type": "code",
   "execution_count": 3,
   "id": "8edc623b",
   "metadata": {},
   "outputs": [],
   "source": [
    "RCI_FILE = 'lncATLAS_all_data_RCI.csv'\n",
    "FILEPATH = DATA_DIR + RCI_FILE\n",
    "RATIO_TYPE = 'CNRCI'  # ignore other compartmental ratios, keep cyto-to-nuc\n",
    "CELL_LINES  = 15\n",
    "EXCLUDE = []"
   ]
  },
  {
   "cell_type": "markdown",
   "id": "56b9df8b",
   "metadata": {},
   "source": [
    "## CNRCI values per gene\n",
    "We can only measure correlations on genes with CNRCI measured in multiple cell lines.   \n",
    "To explore the data, we build a table of number of genes with n or more CNRCI values, for n = 0, 1, 2, 3, ..."
   ]
  },
  {
   "cell_type": "code",
   "execution_count": 4,
   "id": "cc200803",
   "metadata": {},
   "outputs": [],
   "source": [
    "def values_per_gene(coding=True):\n",
    "    '''\n",
    "    Parse the data file downloaded from lncATLAS.\n",
    "    Each line specifies gene, gene type, cell line, and RCI.\n",
    "    Each RCI is a ratio of abundances between compartments.\n",
    "    Filter for just one RCI type, typically CNRCI i.e. cytoplasmic-to-nuclear RCI.\n",
    "    For each gene, count the CNRCI values, excluding \"NA\" (not available).\n",
    "    Assume:\n",
    "    - FILEPATH names the csv file obtained from lncATLAS.\n",
    "    - RATIO_TYPE is set to 'CNRCI'.\n",
    "    - Each line for same gene represents a different cell line.\n",
    "    - Each line includes type 'coding' or 'nc' to indicate the gene type.\n",
    "    Return a mapping of gene ID to count.\n",
    "    '''\n",
    "    all_counts=dict()\n",
    "    if coding:\n",
    "        coding_type = 'coding'\n",
    "    else:\n",
    "        coding_type = 'nc'\n",
    "    with open (FILEPATH,'r') as handle:\n",
    "        header = None\n",
    "        for row in handle:\n",
    "            if header is None:\n",
    "                header = row \n",
    "                continue\n",
    "            count_rci = 0\n",
    "            fields = row.strip().split(',')\n",
    "            if fields[5]!=coding_type or fields[2]!=RATIO_TYPE or fields[3]=='NA':\n",
    "                continue\n",
    "            gene_id = fields[0]\n",
    "            cell_line = fields[1]\n",
    "            cnrci = float(fields[3])\n",
    "            if gene_id not in all_counts:\n",
    "                all_counts[gene_id] = 0\n",
    "            all_counts[gene_id] += 1\n",
    "    return all_counts"
   ]
  },
  {
   "cell_type": "code",
   "execution_count": 5,
   "id": "2b655885-26ee-4847-a2e1-2f78c4884d23",
   "metadata": {},
   "outputs": [
    {
     "name": "stdout",
     "output_type": "stream",
     "text": [
      "Long non-coding genes with a CNRCI value in at least one cell line: 6768\n"
     ]
    }
   ],
   "source": [
    "nc_counts = values_per_gene(coding=False)\n",
    "print('Long non-coding genes with a CNRCI value in at least one cell line:',len(nc_counts.keys()))"
   ]
  },
  {
   "cell_type": "code",
   "execution_count": 6,
   "id": "fa8801b7-2613-4387-b2fc-b60f2c43f11a",
   "metadata": {},
   "outputs": [],
   "source": [
    "def analyze_values_per_gene(all_counts):\n",
    "    '''\n",
    "    Input: a mapping of gene ID to count.\n",
    "    Prints a table of genes with at least n values, for n = 0, 1, 2, 3, ...\n",
    "    '''\n",
    "    all_values = list(all_counts.values())\n",
    "    all_values = np.array(all_values)\n",
    "    print(len(all_values), 'genes examined')\n",
    "    print(np.mean(all_values), 'average number of CNRCI for one gene')\n",
    "    print(min(all_values), max(all_values), 'min and max CNRCI for any gene')\n",
    "    print()\n",
    "    print('Threshold T, Genes with T CNRCI, Genes with more CNRCI, Genes with fewer CNRCI')\n",
    "    for threshold in range(CELL_LINES+1):\n",
    "        equal = np.count_nonzero(all_values==threshold)\n",
    "        more  = np.count_nonzero(all_values>threshold)\n",
    "        less  = np.count_nonzero(all_values<threshold)\n",
    "        print(\"%2d %6d %6d %6d\" % (threshold, equal, more, less))"
   ]
  },
  {
   "cell_type": "code",
   "execution_count": 7,
   "id": "c6a84c6a",
   "metadata": {},
   "outputs": [
    {
     "name": "stdout",
     "output_type": "stream",
     "text": [
      "Long non-coding genes per number of cell lines.\n",
      "6768 genes examined\n",
      "4.169178486997636 average number of CNRCI for one gene\n",
      "1 15 min and max CNRCI for any gene\n",
      "\n",
      "Threshold T, Genes with T CNRCI, Genes with more CNRCI, Genes with fewer CNRCI\n",
      " 0      0   6768      0\n",
      " 1   2113   4655      0\n",
      " 2   1037   3618   2113\n",
      " 3    707   2911   3150\n",
      " 4    523   2388   3857\n",
      " 5    447   1941   4380\n",
      " 6    357   1584   4827\n",
      " 7    311   1273   5184\n",
      " 8    274    999   5495\n",
      " 9    216    783   5769\n",
      "10    233    550   5985\n",
      "11    172    378   6218\n",
      "12    152    226   6390\n",
      "13    114    112   6542\n",
      "14     81     31   6656\n",
      "15     31      0   6737\n"
     ]
    }
   ],
   "source": [
    "print('Long non-coding genes per number of cell lines.')\n",
    "analyze_values_per_gene(nc_counts)"
   ]
  },
  {
   "cell_type": "markdown",
   "id": "047b19ab",
   "metadata": {},
   "source": [
    "## Values per cell line\n",
    "We would not trust correlations if each cell line had just a few gene CNRCI values.     \n",
    "To explore the data, count gene CNRCI values per cell line."
   ]
  },
  {
   "cell_type": "code",
   "execution_count": 8,
   "id": "a140a8c7",
   "metadata": {},
   "outputs": [],
   "source": [
    "def values_per_cell_line(coding=True):\n",
    "    '''\n",
    "    Parse the data file downloaded from lncATLAS.\n",
    "    Each line specifies gene, gene type, cell line, and RCI.\n",
    "    Each RCI is a ratio of abundances between compartments.\n",
    "    Filter for just one RCI type, typically CNRCI i.e. cytoplasmic-to-nuclear RCI.\n",
    "    For each cell line, count the CNRCI values, excluding \"NA\" (not available).\n",
    "    Assume:\n",
    "    - FILEPATH names the csv file obtained from lncATLAS.\n",
    "    - RATIO_TYPE is set to 'CNRCI'.\n",
    "    - Each line for same cell line represents a different gene.\n",
    "    - Each line includes type 'coding' or 'nc' to indicate the gene type.\n",
    "    Return a mapping of cell line name to lists of CNRCI values.    \n",
    "    '''\n",
    "    all_counts=dict()\n",
    "    if coding:\n",
    "        coding_type = 'coding'\n",
    "    else:\n",
    "        coding_type = 'nc'\n",
    "    with open (FILEPATH,'r') as handle:\n",
    "        header = None\n",
    "        for row in handle:\n",
    "            if header is None:\n",
    "                header = row \n",
    "                continue\n",
    "            count_rci = 0\n",
    "            fields = row.strip().split(',')\n",
    "            if fields[5]!=coding_type or fields[2]!=RATIO_TYPE or fields[3]=='NA':\n",
    "                continue\n",
    "            gene_id = fields[0]\n",
    "            cell_line = fields[1]\n",
    "            cnrci = float(fields[3])\n",
    "            if cell_line not in all_counts:\n",
    "                all_counts[cell_line] = []\n",
    "            all_counts[cell_line].append(cnrci)\n",
    "    return all_counts"
   ]
  },
  {
   "cell_type": "code",
   "execution_count": 9,
   "id": "9426aeb5-b4ca-4c69-b7a9-52d69a4b41c1",
   "metadata": {},
   "outputs": [
    {
     "name": "stdout",
     "output_type": "stream",
     "text": [
      "Cell lines with at least one long non-coding CNRCI value: 15\n"
     ]
    }
   ],
   "source": [
    "nc_lines = values_per_cell_line(coding=False)\n",
    "print('Cell lines with at least one long non-coding CNRCI value:', len(nc_lines))"
   ]
  },
  {
   "cell_type": "code",
   "execution_count": 10,
   "id": "7a671785-99cf-4e3c-bc20-036b2c36713a",
   "metadata": {},
   "outputs": [],
   "source": [
    "def analyze_values_per_cell_line(all_lines):\n",
    "    '''\n",
    "    Input: a mapping of cell line to count.\n",
    "    Prints a table of cell lines and their CNRCI statistics.\n",
    "    '''\n",
    "    print('Cell line, count, mean, stdev, min, max')\n",
    "    for cell_line in all_lines.keys():\n",
    "        list_of_cnrci = all_lines[cell_line]\n",
    "        ary = np.array(list_of_cnrci)\n",
    "        print (\"{0:10s} {1:5d} {2:5.2f} {3:5.2f} {4:5.2f} {5:5.2f}\".format( \n",
    "            cell_line, len(ary), np.mean(ary), np.std(ary), np.min(ary), np.max(ary)))"
   ]
  },
  {
   "cell_type": "code",
   "execution_count": 11,
   "id": "9a669640",
   "metadata": {},
   "outputs": [
    {
     "name": "stdout",
     "output_type": "stream",
     "text": [
      "Long non-coding CNRCI values per cell line\n",
      "Cell line, count, mean, stdev, min, max\n",
      "MCF.7       3114 -1.60  2.18 -9.18  4.17\n",
      "A549        2129 -0.56  1.64 -5.60  4.49\n",
      "GM12878     2511 -1.19  1.62 -8.32  3.36\n",
      "H1.hESC     4923 -0.46  1.56 -6.85  5.58\n",
      "HeLa.S3     1317 -1.57  1.88 -7.57  4.15\n",
      "HepG2       2014 -1.45  1.98 -7.57  3.65\n",
      "HT1080      1361 -0.61  1.86 -7.74  4.25\n",
      "HUVEC       2214 -1.43  2.06 -8.23  3.64\n",
      "IMR.90       582 -0.84  2.17 -7.89  3.69\n",
      "K562        1402 -1.01  1.68 -6.67  4.36\n",
      "NCI.H460     930 -1.53  1.89 -7.61  4.58\n",
      "NHEK        1588 -1.24  1.99 -8.40  3.47\n",
      "SK.MEL.5     808 -1.80  2.21 -10.26  3.97\n",
      "SK.N.DZ      907 -0.62  1.57 -8.33  3.70\n",
      "SK.N.SH     2417 -1.40  2.14 -9.54  4.05\n"
     ]
    }
   ],
   "source": [
    "print('Long non-coding CNRCI values per cell line')\n",
    "analyze_values_per_cell_line(nc_lines)"
   ]
  },
  {
   "cell_type": "markdown",
   "id": "9a3e1429-d2fc-4b5b-882d-32e5f716fa4d",
   "metadata": {},
   "source": [
    "## Genes between thresholds\n",
    "Prior studies applied a middle excludion filter to lncATLAS data.   \n",
    "That is, they excluded genes whose CNRCI was borderline.  \n",
    "To explore the filter's effects, count genes per cell line after filtering.    \n",
    "Explore the lncLocator2 filter (excludes CNRCI between -1 and +1) applied to each gene in each cell line.      \n",
    "Also explore the RNAlight filter (excludes CNRCI betwween -2 and 0) applied to each gene's mean across cell lines.   "
   ]
  },
  {
   "cell_type": "code",
   "execution_count": 12,
   "id": "6b76ba8c-a94c-4793-9f8d-08b25eaa9a1c",
   "metadata": {},
   "outputs": [],
   "source": [
    "# LncLocator2 style threshold\n",
    "def count_genes_between_thresholds(all_lines,low,high):\n",
    "    '''\n",
    "    Input: a mapping of cell line name to a list of CNRCI values.\n",
    "    Filter: count genes with CNRCI value between low and high parameter values.\n",
    "    Result: Print a table of gene count statistics per cell line.  \n",
    "    '''\n",
    "    print(\"Cell line, total, low, middle, high, mid%\")\n",
    "    for cell_line in all_lines.keys():\n",
    "        list_of_cnrci = all_lines[cell_line]\n",
    "        ary = np.array(list_of_cnrci)\n",
    "        total = len(ary)\n",
    "        above_P1 = np.count_nonzero(ary > high)\n",
    "        below_N1 = np.count_nonzero(ary < low)\n",
    "        middle = total - (above_P1+below_N1)\n",
    "        portion = middle/total\n",
    "        print (\"{0:10s} {1:5d} {2:5d} {3:5d} {4:5d} {5:5.2f}\".format( \n",
    "            cell_line, total, above_P1, middle, below_N1, portion))"
   ]
  },
  {
   "cell_type": "code",
   "execution_count": 13,
   "id": "1dc19687-02d9-4ef3-a6df-58bd8245b244",
   "metadata": {},
   "outputs": [
    {
     "name": "stdout",
     "output_type": "stream",
     "text": [
      "Cell line, total, low, middle, high, mid%\n",
      "MCF.7       3114   365   931  1818  0.30\n",
      "A549        2129   360   997   772  0.47\n",
      "GM12878     2511   175  1042  1294  0.41\n",
      "H1.hESC     4923   750  2476  1697  0.50\n",
      "HeLa.S3     1317   126   385   806  0.29\n",
      "HepG2       2014   199   702  1113  0.35\n",
      "HT1080      1361   266   583   512  0.43\n",
      "HUVEC       2214   264   748  1202  0.34\n",
      "IMR.90       582   118   222   242  0.38\n",
      "K562        1402   145   610   647  0.44\n",
      "NCI.H460     930    65   301   564  0.32\n",
      "NHEK        1588   185   620   783  0.39\n",
      "SK.MEL.5     808    63   250   495  0.31\n",
      "SK.N.DZ      907   118   473   316  0.52\n",
      "SK.N.SH     2417   319   793  1305  0.33\n"
     ]
    }
   ],
   "source": [
    "count_genes_between_thresholds(nc_lines,-1,1)"
   ]
  },
  {
   "cell_type": "code",
   "execution_count": 14,
   "id": "506d5107-cb5b-41f2-85ea-ce91099aac01",
   "metadata": {},
   "outputs": [],
   "source": [
    "# RNAlight style threshold\n",
    "def RNAlight_1(exclude):\n",
    "    '''\n",
    "    This function is similar to values_per_gene() above,\n",
    "    but instead of returning one count per gene,\n",
    "    return a list of values per gene.\n",
    "    '''\n",
    "    values_per_gene = dict()\n",
    "    coding_type = 'nc'\n",
    "    with open (FILEPATH,'r') as handle:\n",
    "        header = None\n",
    "        for row in handle:\n",
    "            if header is None:\n",
    "                header = row \n",
    "                continue\n",
    "            count_rci = 0\n",
    "            fields = row.strip().split(',')\n",
    "            if fields[5]!=coding_type or fields[2]!=RATIO_TYPE or fields[3]=='NA' or fields[1] in exclude:\n",
    "                continue\n",
    "            gene_id = fields[0]\n",
    "            cell_line = fields[1]\n",
    "            cnrci = float(fields[3])\n",
    "            if gene_id not in values_per_gene:\n",
    "                values_per_gene[gene_id] = []\n",
    "            values_per_gene[gene_id].append(cnrci)\n",
    "    return values_per_gene \n",
    "def RNAlight_2(values_per_gene):\n",
    "    '''\n",
    "    Given a map of gene ID to CNRCI values,\n",
    "    return a map of gene ID to its mean CNRCI.\n",
    "    '''\n",
    "    mean_per_gene = dict()\n",
    "    for gene in values_per_gene.keys():\n",
    "        values = values_per_gene[gene]\n",
    "        mean_per_gene[gene] = np.mean(values)\n",
    "    return mean_per_gene\n",
    "def RNAlight_3(mean_per_gene):\n",
    "    '''\n",
    "    Given a map of gene ID to its mean CNRCI,\n",
    "    return counts of genes above, below, and in the middle range.\n",
    "    '''\n",
    "    means = np.array(list(mean_per_gene.values()))\n",
    "    total = len(means)\n",
    "    above = np.count_nonzero(means > 0)\n",
    "    below = np.count_nonzero(means < -2)\n",
    "    middle = total - (above+below)\n",
    "    return above, middle, below"
   ]
  },
  {
   "cell_type": "code",
   "execution_count": 15,
   "id": "94423c0e-77d4-4c95-8799-9646059a3478",
   "metadata": {},
   "outputs": [
    {
     "name": "stdout",
     "output_type": "stream",
     "text": [
      "RNAlight treatment of long non-coding RNA genes\n",
      "Excluding this cell line: H1.hESC\n",
      "Cytoplasmic genes 1525\n",
      "Nuclear genes 1983\n",
      "Excluded middle 2252\n",
      "Middle portion 39.10%\n"
     ]
    }
   ],
   "source": [
    "print(\"RNAlight treatment of long non-coding RNA genes\")\n",
    "excluded = 'H1.hESC'\n",
    "print(\"Excluding this cell line:\", excluded)\n",
    "values_per_gene = RNAlight_1(excluded)\n",
    "mean_per_gene = RNAlight_2(values_per_gene)\n",
    "above, middle, below = RNAlight_3(mean_per_gene)\n",
    "total=above+middle+below\n",
    "print(\"Cytoplasmic genes\", above)\n",
    "print(\"Nuclear genes\", below)\n",
    "print(\"Excluded middle\", middle)\n",
    "print(\"Middle portion {0:5.2f}%\".format(100.0*middle/total))"
   ]
  },
  {
   "cell_type": "markdown",
   "id": "d4283435",
   "metadata": {},
   "source": [
    "## Correlations\n",
    "Define functions to compute correlations.   \n",
    "Finally, compute the correlations.    "
   ]
  },
  {
   "cell_type": "code",
   "execution_count": 21,
   "id": "0b0f606a-1ea7-4f6a-8b5f-f6448dada067",
   "metadata": {},
   "outputs": [],
   "source": [
    "def get_all_data(coding=True,filtered=False):\n",
    "    '''\n",
    "    This function is similar to values_per_gene() above,\n",
    "    but instead of returning one count per gene,\n",
    "    return a map of maps: \n",
    "    for each cell line, map each gene to one CNRCI value.\n",
    "    '''\n",
    "    cell_lines=dict()\n",
    "    if coding:\n",
    "        coding_type = 'coding'\n",
    "    else:\n",
    "        coding_type = 'nc'\n",
    "    with open (FILEPATH,'r') as handle:\n",
    "        header = None\n",
    "        for row in handle:\n",
    "            if header is None:\n",
    "                header = row \n",
    "                continue\n",
    "            count_rci = 0\n",
    "            fields = row.strip().split(',')\n",
    "            if fields[5]!=coding_type or fields[2]!=RATIO_TYPE or fields[3]=='NA':\n",
    "                continue\n",
    "            gene_id = fields[0]\n",
    "            cell_line = fields[1]\n",
    "            cnrci = float(fields[3])\n",
    "            if filtered and cnrci >= -2 and cnrci <= 0:\n",
    "                continue\n",
    "            if cell_line not in cell_lines:\n",
    "                cell_lines[cell_line] = dict()\n",
    "            cell_lines[cell_line][gene_id]=cnrci\n",
    "    return cell_lines"
   ]
  },
  {
   "cell_type": "code",
   "execution_count": 22,
   "id": "f7f10d72-29f3-4586-b827-841501c05f87",
   "metadata": {},
   "outputs": [],
   "source": [
    "all_data = get_all_data(coding=False)"
   ]
  },
  {
   "cell_type": "code",
   "execution_count": 35,
   "id": "e8c0dfc9",
   "metadata": {},
   "outputs": [],
   "source": [
    "def correlation_matrix(cell_lines):\n",
    "    '''\n",
    "    Compute and print the matrix of all-vs-all pairwise correlations.\n",
    "    Show the Pearson correlation coefficients.\n",
    "    Compute correlations only on genes in common between each cell line pair.\n",
    "    '''\n",
    "    sorted_lines = sorted(list(cell_lines.keys()))\n",
    "    print('Line',end=',')\n",
    "    for key in sorted_lines:\n",
    "        print(key,end=',')\n",
    "    print()\n",
    "    for row_key in sorted_lines:\n",
    "        print('%10s' % row_key, end=',')\n",
    "        row_gene_dict = cell_lines[row_key]\n",
    "        row_genes = set(row_gene_dict.keys())\n",
    "        row_avg = []\n",
    "        for col_key in sorted_lines:\n",
    "            col_gene_dict = cell_lines[col_key]\n",
    "            col_genes = set(col_gene_dict.keys())\n",
    "            common_genes = row_genes.intersection(col_genes)\n",
    "            row_values = np.array([row_gene_dict[gene] for gene in common_genes])\n",
    "            col_values = np.array([col_gene_dict[gene] for gene in common_genes])\n",
    "            r,p = ss.pearsonr(row_values,col_values)\n",
    "            print('%.2f' % r, end=',')\n",
    "            if row_key != col_key:\n",
    "                row_avg.append(r)\n",
    "        print(' avg=%.2f'%np.mean(row_avg))"
   ]
  },
  {
   "cell_type": "markdown",
   "id": "149c700a",
   "metadata": {},
   "source": [
    "### All-vs-all correlation of non-coding genes\n",
    "Finally, run the code above to create tables of all pairwise correlations.    \n",
    "Each cell line has CNRCI values for a subset of genes.\n",
    "Correlation is measured only on the genes in common between two cell lines.       \n",
    "High correlation means the cell lines that share genes have agreeing CNRCI for those genes.   \n",
    "Look for any cell lines that have low correlation with the others.    \n",
    "First, show a table for the raw data.     \n",
    "Second, show it again but filter CNRCI values by middle exclusion with RNAlight thresholds."
   ]
  },
  {
   "cell_type": "code",
   "execution_count": 38,
   "id": "f2e499ba",
   "metadata": {},
   "outputs": [
    {
     "name": "stdout",
     "output_type": "stream",
     "text": [
      "CNRCI correlations between cell lines, no filtering.\n",
      "Line,A549,GM12878,H1.hESC,HT1080,HUVEC,HeLa.S3,HepG2,IMR.90,K562,MCF.7,NCI.H460,NHEK,SK.MEL.5,SK.N.DZ,SK.N.SH,\n",
      "      A549,1.00,0.71,0.73,0.74,0.72,0.82,0.78,0.78,0.69,0.76,0.56,0.79,0.56,0.66,0.86, avg=0.73\n",
      "   GM12878,0.71,1.00,0.58,0.70,0.80,0.83,0.84,0.78,0.89,0.77,0.55,0.68,0.70,0.76,0.72, avg=0.74\n",
      "   H1.hESC,0.73,0.58,1.00,0.51,0.55,0.71,0.68,0.63,0.65,0.58,0.38,0.59,0.38,0.55,0.72, avg=0.59\n",
      "    HT1080,0.74,0.70,0.51,1.00,0.81,0.76,0.73,0.78,0.75,0.76,0.59,0.83,0.74,0.66,0.73, avg=0.72\n",
      "     HUVEC,0.72,0.80,0.55,0.81,1.00,0.80,0.83,0.91,0.85,0.86,0.58,0.78,0.81,0.73,0.78, avg=0.77\n",
      "   HeLa.S3,0.82,0.83,0.71,0.76,0.80,1.00,0.87,0.80,0.85,0.81,0.59,0.79,0.72,0.74,0.84, avg=0.78\n",
      "     HepG2,0.78,0.84,0.68,0.73,0.83,0.87,1.00,0.83,0.86,0.83,0.55,0.74,0.72,0.77,0.84, avg=0.78\n",
      "    IMR.90,0.78,0.78,0.63,0.78,0.91,0.80,0.83,1.00,0.82,0.86,0.53,0.74,0.82,0.74,0.87, avg=0.78\n",
      "      K562,0.69,0.89,0.65,0.75,0.85,0.85,0.86,0.82,1.00,0.81,0.56,0.72,0.77,0.79,0.75, avg=0.77\n",
      "     MCF.7,0.76,0.77,0.58,0.76,0.86,0.81,0.83,0.86,0.81,1.00,0.60,0.75,0.81,0.74,0.82, avg=0.77\n",
      "  NCI.H460,0.56,0.55,0.38,0.59,0.58,0.59,0.55,0.53,0.56,0.60,1.00,0.53,0.63,0.62,0.59, avg=0.56\n",
      "      NHEK,0.79,0.68,0.59,0.83,0.78,0.79,0.74,0.74,0.72,0.75,0.53,1.00,0.63,0.60,0.76, avg=0.71\n",
      "  SK.MEL.5,0.56,0.70,0.38,0.74,0.81,0.72,0.72,0.82,0.77,0.81,0.63,0.63,1.00,0.74,0.69, avg=0.69\n",
      "   SK.N.DZ,0.66,0.76,0.55,0.66,0.73,0.74,0.77,0.74,0.79,0.74,0.62,0.60,0.74,1.00,0.74, avg=0.70\n",
      "   SK.N.SH,0.86,0.72,0.72,0.73,0.78,0.84,0.84,0.87,0.75,0.82,0.59,0.76,0.69,0.74,1.00, avg=0.76\n"
     ]
    }
   ],
   "source": [
    "print('CNRCI correlations between cell lines, no filtering.')\n",
    "sparse_matrix = get_all_data()\n",
    "correlation_matrix(sparse_matrix)"
   ]
  },
  {
   "cell_type": "code",
   "execution_count": 39,
   "id": "17206ec1",
   "metadata": {},
   "outputs": [
    {
     "name": "stdout",
     "output_type": "stream",
     "text": [
      "CNRCI correlations between cell lines, filtered similar to RNAlight.\n",
      "Line,A549,GM12878,H1.hESC,HT1080,HUVEC,HeLa.S3,HepG2,IMR.90,K562,MCF.7,NCI.H460,NHEK,SK.MEL.5,SK.N.DZ,SK.N.SH,\n",
      "      A549,1.00,0.79,0.79,0.81,0.81,0.87,0.84,0.86,0.77,0.84,0.74,0.86,0.67,0.74,0.91, avg=0.81\n",
      "   GM12878,0.79,1.00,0.66,0.79,0.88,0.89,0.91,0.85,0.93,0.86,0.73,0.80,0.80,0.84,0.83, avg=0.82\n",
      "   H1.hESC,0.79,0.66,1.00,0.57,0.62,0.75,0.73,0.70,0.72,0.65,0.53,0.65,0.43,0.61,0.79, avg=0.66\n",
      "    HT1080,0.81,0.79,0.57,1.00,0.88,0.84,0.81,0.85,0.82,0.83,0.75,0.90,0.81,0.71,0.84, avg=0.80\n",
      "     HUVEC,0.81,0.88,0.62,0.88,1.00,0.89,0.90,0.95,0.90,0.91,0.76,0.89,0.89,0.80,0.89, avg=0.86\n",
      "   HeLa.S3,0.87,0.89,0.75,0.84,0.89,1.00,0.93,0.87,0.91,0.89,0.73,0.87,0.82,0.80,0.91, avg=0.86\n",
      "     HepG2,0.84,0.91,0.73,0.81,0.90,0.93,1.00,0.90,0.92,0.90,0.71,0.85,0.82,0.83,0.91, avg=0.85\n",
      "    IMR.90,0.86,0.85,0.70,0.85,0.95,0.87,0.90,1.00,0.88,0.91,0.72,0.87,0.89,0.80,0.93, avg=0.85\n",
      "      K562,0.77,0.93,0.72,0.82,0.90,0.91,0.92,0.88,1.00,0.88,0.74,0.82,0.86,0.84,0.86, avg=0.85\n",
      "     MCF.7,0.84,0.86,0.65,0.83,0.91,0.89,0.90,0.91,0.88,1.00,0.77,0.87,0.88,0.79,0.90, avg=0.85\n",
      "  NCI.H460,0.74,0.73,0.53,0.75,0.76,0.73,0.71,0.72,0.74,0.77,1.00,0.72,0.77,0.76,0.76, avg=0.73\n",
      "      NHEK,0.86,0.80,0.65,0.90,0.89,0.87,0.85,0.87,0.82,0.87,0.72,1.00,0.78,0.69,0.88, avg=0.82\n",
      "  SK.MEL.5,0.67,0.80,0.43,0.81,0.89,0.82,0.82,0.89,0.86,0.88,0.77,0.78,1.00,0.79,0.82, avg=0.79\n",
      "   SK.N.DZ,0.74,0.84,0.61,0.71,0.80,0.80,0.83,0.80,0.84,0.79,0.76,0.69,0.79,1.00,0.81, avg=0.77\n",
      "   SK.N.SH,0.91,0.83,0.79,0.84,0.89,0.91,0.91,0.93,0.86,0.90,0.76,0.88,0.82,0.81,1.00, avg=0.86\n"
     ]
    }
   ],
   "source": [
    "print('CNRCI correlations between cell lines, filtered similar to RNAlight.')\n",
    "filtered_matrix = get_all_data(filtered=True)\n",
    "correlation_matrix(filtered_matrix)"
   ]
  },
  {
   "cell_type": "code",
   "execution_count": null,
   "id": "28fc0071-2b7c-4f00-9a00-16cae2f7a8cd",
   "metadata": {},
   "outputs": [],
   "source": []
  },
  {
   "cell_type": "code",
   "execution_count": null,
   "id": "0cb76f17-0589-4185-b100-e5742d61e81a",
   "metadata": {},
   "outputs": [],
   "source": []
  }
 ],
 "metadata": {
  "kernelspec": {
   "display_name": "Python 3 (ipykernel)",
   "language": "python",
   "name": "python3"
  },
  "language_info": {
   "codemirror_mode": {
    "name": "ipython",
    "version": 3
   },
   "file_extension": ".py",
   "mimetype": "text/x-python",
   "name": "python",
   "nbconvert_exporter": "python",
   "pygments_lexer": "ipython3",
   "version": "3.11.6"
  }
 },
 "nbformat": 4,
 "nbformat_minor": 5
}
