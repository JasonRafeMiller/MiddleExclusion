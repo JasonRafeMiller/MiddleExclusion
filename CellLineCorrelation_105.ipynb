{
 "cells": [
  {
   "cell_type": "markdown",
   "id": "b885a27a",
   "metadata": {},
   "source": [
    "# Analyze RCI correlations between cell lines\n",
    "\n",
    "This notebook is derived from one called AnalyzeData_105.\n",
    "Use lncATLAS, all cell lines, all genes (without partitioning separate train:test sets).\n",
    "Use antilog for computing the mean per gene."
   ]
  },
  {
   "cell_type": "code",
   "execution_count": 1,
   "id": "ffef6902",
   "metadata": {},
   "outputs": [
    {
     "name": "stdout",
     "output_type": "stream",
     "text": [
      "2024-06-04 13:15:03.773105\n",
      "Python 3.11.6\n",
      "sklearn 1.3.2\n"
     ]
    }
   ],
   "source": [
    "from datetime import datetime\n",
    "print(datetime.now())\n",
    "from platform import python_version\n",
    "print('Python',python_version())\n",
    "import numpy as np\n",
    "import pandas as pd\n",
    "import scipy.stats as ss\n",
    "from matplotlib import pyplot as plt \n",
    "import sklearn   # pip install --upgrade scikit-learn\n",
    "print('sklearn',sklearn.__version__)"
   ]
  },
  {
   "cell_type": "code",
   "execution_count": 2,
   "id": "a247893c",
   "metadata": {},
   "outputs": [
    {
     "name": "stdout",
     "output_type": "stream",
     "text": [
      "./\n"
     ]
    }
   ],
   "source": [
    "try:\n",
    "    from google.colab import drive\n",
    "    IN_COLAB = True\n",
    "    print('Running on CoLab')\n",
    "    PATH='/content/drive/'\n",
    "    drive.mount(PATH)\n",
    "    DATA_DIR=PATH+'My Drive/data/Localization/'  # must end in \"/\"\n",
    "except:\n",
    "    IN_COLAB = False\n",
    "    DATA_DIR = './'    # Mac\n",
    "print(DATA_DIR)"
   ]
  },
  {
   "cell_type": "code",
   "execution_count": 3,
   "id": "8edc623b",
   "metadata": {},
   "outputs": [],
   "source": [
    "RCI_FILE = 'lncATLAS_all_data_RCI.csv'\n",
    "filepath = DATA_DIR + RCI_FILE"
   ]
  },
  {
   "cell_type": "markdown",
   "id": "7ef3e186-a653-457b-a90c-b171aabc29c9",
   "metadata": {},
   "source": [
    "## Cell Lines"
   ]
  },
  {
   "cell_type": "code",
   "execution_count": 4,
   "id": "422d00f4-f015-4bd5-9bd7-8b291764cd64",
   "metadata": {},
   "outputs": [],
   "source": [
    "def load_cell_lines(filepath):\n",
    "    header = None\n",
    "    names = list()\n",
    "    with open (filepath,'r') as handle:\n",
    "        for row in handle:\n",
    "            line = row.strip()\n",
    "            fields = line.split(',')\n",
    "            if header is None:\n",
    "                header = row \n",
    "                continue\n",
    "            gene_id = fields[0]\n",
    "            cell_line = fields[1]\n",
    "            if cell_line not in names:\n",
    "                names.append(cell_line)\n",
    "    names.sort()\n",
    "    return names"
   ]
  },
  {
   "cell_type": "code",
   "execution_count": 5,
   "id": "7b06bd5c-8ac2-43e1-8f82-9dd3da603c1f",
   "metadata": {},
   "outputs": [
    {
     "name": "stdout",
     "output_type": "stream",
     "text": [
      "['A549', 'GM12878', 'H1.hESC', 'HT1080', 'HUVEC', 'HeLa.S3', 'HepG2', 'IMR.90', 'K562', 'MCF.7', 'NCI.H460', 'NHEK', 'SK.MEL.5', 'SK.N.DZ', 'SK.N.SH'] 15 total\n"
     ]
    }
   ],
   "source": [
    "CELL_LINES = load_cell_lines(RCI_FILE)\n",
    "num_cell_lines = len(CELL_LINES)\n",
    "print(CELL_LINES, num_cell_lines, \"total\", )"
   ]
  },
  {
   "cell_type": "markdown",
   "id": "d4283435",
   "metadata": {},
   "source": [
    "## Correlations"
   ]
  },
  {
   "cell_type": "markdown",
   "id": "080f63b6-5e2c-4b94-a1ec-f66c1ac10759",
   "metadata": {},
   "source": [
    "Expect lncATLAS file like this...    \n",
    "ENSEMBL ID,Data Source,Data Type,Value,Gene Name,Coding Type,Biotype     \n",
    "ENSG00000000003,A549,CNRCI,1.08068,TSPAN6,coding,coding     \n",
    "ENSG00000283125,SK.N.SH,CNRCI,NA,RP11-299P2.2,nc,nc     "
   ]
  },
  {
   "cell_type": "code",
   "execution_count": 6,
   "id": "25a95156",
   "metadata": {},
   "outputs": [],
   "source": [
    "def load_RCI_data(filepath,coding_choice):\n",
    "    if coding_choice not in ['coding','nc']:\n",
    "        raise Exception('Unrecognized choice')\n",
    "    cell_line_maps  = []  # 15 maps for 15 cell lines, each maps one gene name to one RCI value\n",
    "    for i in CELL_LINES:\n",
    "        cell_map = dict()\n",
    "        cell_line_maps.append(cell_map)\n",
    "    with open (filepath,'r') as handle:\n",
    "        header = None\n",
    "        for row in handle:\n",
    "            line = row.strip()\n",
    "            fields = line.split(',')\n",
    "            if header is None:\n",
    "                header = row \n",
    "                continue\n",
    "            gene_id = fields[0]\n",
    "            cell_line = fields[1]\n",
    "            rci_type = fields[2]\n",
    "            rci_value = fields[3]\n",
    "            gene_name = fields[4]\n",
    "            coding_type = fields[5]\n",
    "            if coding_type != coding_choice or rci_type != 'CNRCI' or rci_value == 'NA':\n",
    "                continue\n",
    "            real_value = float(rci_value)\n",
    "            cell_line_index = CELL_LINES.index(cell_line)\n",
    "            cell_map = cell_line_maps[cell_line_index]\n",
    "            if gene_id in cell_map.keys():\n",
    "                print(row)\n",
    "                raise Exception('Unexpected second value for this gene in this cell line')\n",
    "            cell_map[gene_id] = real_value \n",
    "    return cell_line_maps"
   ]
  },
  {
   "cell_type": "code",
   "execution_count": 7,
   "id": "e8c0dfc9",
   "metadata": {},
   "outputs": [],
   "source": [
    "def all_vs_all_correlation(maps):\n",
    "    NUM = len(maps)\n",
    "    averages_per_line = list()\n",
    "    for i in range(NUM):\n",
    "        print(CELL_LINES[i],end=',') # header line\n",
    "    print()\n",
    "    for i in range(NUM):\n",
    "        i_genes = set(maps[i].keys())\n",
    "        values_for_this_line = []\n",
    "        for j in range(NUM):\n",
    "            if i==j:\n",
    "                r = 1.0  # ignore correlation of cell line to itself\n",
    "            else: \n",
    "                j_genes = set(maps[j].keys())\n",
    "                common_genes = i_genes.intersection(j_genes)\n",
    "                i_values = np.array([maps[i][k] for k in common_genes])\n",
    "                j_values = np.array([maps[j][k] for k in common_genes])\n",
    "                r,p = ss.pearsonr(i_values,j_values)\n",
    "            print('%.2f' % r, end=',')\n",
    "            values_for_this_line.append(r)\n",
    "        print()\n",
    "        average = np.mean(values_for_this_line)\n",
    "        averages_per_line.append(average)\n",
    "    print('Average correlation to other cell lines:')\n",
    "    for i in range(NUM):\n",
    "        print('%10s %.2f' % (CELL_LINES[i],averages_per_line[i]))\n",
    "    "
   ]
  },
  {
   "cell_type": "markdown",
   "id": "cfdff656",
   "metadata": {},
   "source": [
    "## Coding"
   ]
  },
  {
   "cell_type": "code",
   "execution_count": 8,
   "id": "d79487b3",
   "metadata": {},
   "outputs": [
    {
     "name": "stdout",
     "output_type": "stream",
     "text": [
      "All vs all correlation\n",
      "A549,GM12878,H1.hESC,HT1080,HUVEC,HeLa.S3,HepG2,IMR.90,K562,MCF.7,NCI.H460,NHEK,SK.MEL.5,SK.N.DZ,SK.N.SH,\n",
      "1.00,0.71,0.73,0.74,0.72,0.82,0.78,0.78,0.69,0.76,0.56,0.79,0.56,0.66,0.86,\n",
      "0.71,1.00,0.58,0.70,0.80,0.83,0.84,0.78,0.89,0.77,0.55,0.68,0.70,0.76,0.72,\n",
      "0.73,0.58,1.00,0.51,0.55,0.71,0.68,0.63,0.65,0.58,0.38,0.59,0.38,0.55,0.72,\n",
      "0.74,0.70,0.51,1.00,0.81,0.76,0.73,0.78,0.75,0.76,0.59,0.83,0.74,0.66,0.73,\n",
      "0.72,0.80,0.55,0.81,1.00,0.80,0.83,0.91,0.85,0.86,0.58,0.78,0.81,0.73,0.78,\n",
      "0.82,0.83,0.71,0.76,0.80,1.00,0.87,0.80,0.85,0.81,0.59,0.79,0.72,0.74,0.84,\n",
      "0.78,0.84,0.68,0.73,0.83,0.87,1.00,0.83,0.86,0.83,0.55,0.74,0.72,0.77,0.84,\n",
      "0.78,0.78,0.63,0.78,0.91,0.80,0.83,1.00,0.82,0.86,0.53,0.74,0.82,0.74,0.87,\n",
      "0.69,0.89,0.65,0.75,0.85,0.85,0.86,0.82,1.00,0.81,0.56,0.72,0.77,0.79,0.75,\n",
      "0.76,0.77,0.58,0.76,0.86,0.81,0.83,0.86,0.81,1.00,0.60,0.75,0.81,0.74,0.82,\n",
      "0.56,0.55,0.38,0.59,0.58,0.59,0.55,0.53,0.56,0.60,1.00,0.53,0.63,0.62,0.59,\n",
      "0.79,0.68,0.59,0.83,0.78,0.79,0.74,0.74,0.72,0.75,0.53,1.00,0.63,0.60,0.76,\n",
      "0.56,0.70,0.38,0.74,0.81,0.72,0.72,0.82,0.77,0.81,0.63,0.63,1.00,0.74,0.69,\n",
      "0.66,0.76,0.55,0.66,0.73,0.74,0.77,0.74,0.79,0.74,0.62,0.60,0.74,1.00,0.74,\n",
      "0.86,0.72,0.72,0.73,0.78,0.84,0.84,0.87,0.75,0.82,0.59,0.76,0.69,0.74,1.00,\n",
      "Average correlation to other cell lines:\n",
      "      A549 0.74\n",
      "   GM12878 0.75\n",
      "   H1.hESC 0.62\n",
      "    HT1080 0.74\n",
      "     HUVEC 0.79\n",
      "   HeLa.S3 0.79\n",
      "     HepG2 0.79\n",
      "    IMR.90 0.79\n",
      "      K562 0.78\n",
      "     MCF.7 0.78\n",
      "  NCI.H460 0.59\n",
      "      NHEK 0.73\n",
      "  SK.MEL.5 0.71\n",
      "   SK.N.DZ 0.72\n",
      "   SK.N.SH 0.78\n"
     ]
    }
   ],
   "source": [
    "print('All vs all correlation')\n",
    "cl_maps = load_RCI_data(filepath,'coding')\n",
    "all_vs_all_correlation(cl_maps)"
   ]
  },
  {
   "cell_type": "markdown",
   "id": "149c700a",
   "metadata": {},
   "source": [
    "## Non-coding"
   ]
  },
  {
   "cell_type": "code",
   "execution_count": 9,
   "id": "e3873685",
   "metadata": {},
   "outputs": [
    {
     "name": "stdout",
     "output_type": "stream",
     "text": [
      "All vs all correlation\n",
      "A549,GM12878,H1.hESC,HT1080,HUVEC,HeLa.S3,HepG2,IMR.90,K562,MCF.7,NCI.H460,NHEK,SK.MEL.5,SK.N.DZ,SK.N.SH,\n",
      "1.00,0.74,0.57,0.76,0.81,0.72,0.81,0.83,0.71,0.80,0.59,0.80,0.65,0.73,0.82,\n",
      "0.74,1.00,0.46,0.68,0.79,0.72,0.81,0.72,0.84,0.71,0.57,0.70,0.66,0.74,0.67,\n",
      "0.57,0.46,1.00,0.39,0.49,0.55,0.53,0.61,0.58,0.39,0.31,0.42,0.25,0.46,0.53,\n",
      "0.76,0.68,0.39,1.00,0.84,0.76,0.80,0.85,0.73,0.83,0.67,0.81,0.82,0.73,0.82,\n",
      "0.81,0.79,0.49,0.84,1.00,0.75,0.86,0.90,0.81,0.86,0.66,0.82,0.77,0.74,0.84,\n",
      "0.72,0.72,0.55,0.76,0.75,1.00,0.78,0.76,0.77,0.73,0.66,0.79,0.77,0.71,0.80,\n",
      "0.81,0.81,0.53,0.80,0.86,0.78,1.00,0.84,0.81,0.82,0.62,0.77,0.72,0.75,0.81,\n",
      "0.83,0.72,0.61,0.85,0.90,0.76,0.84,1.00,0.75,0.86,0.61,0.82,0.79,0.75,0.88,\n",
      "0.71,0.84,0.58,0.73,0.81,0.77,0.81,0.75,1.00,0.75,0.55,0.67,0.72,0.78,0.68,\n",
      "0.80,0.71,0.39,0.83,0.86,0.73,0.82,0.86,0.75,1.00,0.63,0.80,0.79,0.73,0.82,\n",
      "0.59,0.57,0.31,0.67,0.66,0.66,0.62,0.61,0.55,0.63,1.00,0.61,0.72,0.67,0.65,\n",
      "0.80,0.70,0.42,0.81,0.82,0.79,0.77,0.82,0.67,0.80,0.61,1.00,0.73,0.67,0.83,\n",
      "0.65,0.66,0.25,0.82,0.77,0.77,0.72,0.79,0.72,0.79,0.72,0.73,1.00,0.72,0.74,\n",
      "0.73,0.74,0.46,0.73,0.74,0.71,0.75,0.75,0.78,0.73,0.67,0.67,0.72,1.00,0.71,\n",
      "0.82,0.67,0.53,0.82,0.84,0.80,0.81,0.88,0.68,0.82,0.65,0.83,0.74,0.71,1.00,\n",
      "Average correlation to other cell lines:\n",
      "      A549 0.76\n",
      "   GM12878 0.72\n",
      "   H1.hESC 0.50\n",
      "    HT1080 0.77\n",
      "     HUVEC 0.80\n",
      "   HeLa.S3 0.75\n",
      "     HepG2 0.78\n",
      "    IMR.90 0.80\n",
      "      K562 0.74\n",
      "     MCF.7 0.77\n",
      "  NCI.H460 0.63\n",
      "      NHEK 0.75\n",
      "  SK.MEL.5 0.72\n",
      "   SK.N.DZ 0.73\n",
      "   SK.N.SH 0.77\n"
     ]
    }
   ],
   "source": [
    "print('All vs all correlation')\n",
    "cl_maps = load_RCI_data(filepath,'nc')\n",
    "all_vs_all_correlation(cl_maps)"
   ]
  },
  {
   "cell_type": "code",
   "execution_count": null,
   "id": "17206ec1",
   "metadata": {},
   "outputs": [],
   "source": []
  }
 ],
 "metadata": {
  "kernelspec": {
   "display_name": "Python 3 (ipykernel)",
   "language": "python",
   "name": "python3"
  },
  "language_info": {
   "codemirror_mode": {
    "name": "ipython",
    "version": 3
   },
   "file_extension": ".py",
   "mimetype": "text/x-python",
   "name": "python",
   "nbconvert_exporter": "python",
   "pygments_lexer": "ipython3",
   "version": "3.11.6"
  }
 },
 "nbformat": 4,
 "nbformat_minor": 5
}
