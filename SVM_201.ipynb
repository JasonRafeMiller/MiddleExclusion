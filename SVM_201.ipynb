{
  "cells": [
    {
      "cell_type": "markdown",
      "id": "ace02a34-7d06-4e75-a244-cf1b915a9471",
      "metadata": {
        "id": "ace02a34-7d06-4e75-a244-cf1b915a9471"
      },
      "source": [
        "# Support Vector Machine\n",
        "Test code same as RNAlight and LightGBM\n",
        "\n",
        "See RNAlight_127, RF_201"
      ]
    },
    {
      "cell_type": "code",
      "execution_count": 35,
      "id": "1849059a-b4a8-4b24-b3b4-5ef3f15d5a2f",
      "metadata": {
        "colab": {
          "base_uri": "https://localhost:8080/"
        },
        "id": "1849059a-b4a8-4b24-b3b4-5ef3f15d5a2f",
        "outputId": "c734357c-9742-4277-9682-1807b2bc3bbb"
      },
      "outputs": [
        {
          "output_type": "stream",
          "name": "stdout",
          "text": [
            "2024-03-21 14:55:24.068732\n"
          ]
        }
      ],
      "source": [
        "import time\n",
        "from datetime import datetime\n",
        "print(datetime.now())"
      ]
    },
    {
      "cell_type": "code",
      "execution_count": 36,
      "id": "86f0998f-216d-441d-9dc5-5cf2827fe98c",
      "metadata": {
        "colab": {
          "base_uri": "https://localhost:8080/"
        },
        "id": "86f0998f-216d-441d-9dc5-5cf2827fe98c",
        "outputId": "b44b554e-4d65-472c-a38d-e84406395ea6"
      },
      "outputs": [
        {
          "output_type": "stream",
          "name": "stdout",
          "text": [
            "Done\n"
          ]
        }
      ],
      "source": [
        "import os\n",
        "import copy\n",
        "import random\n",
        "import collections\n",
        "import itertools\n",
        "import numpy as np\n",
        "import pandas as pd\n",
        "import warnings\n",
        "from sklearn import svm\n",
        "import joblib\n",
        "from sklearn.svm import SVC\n",
        "from sklearn.model_selection import train_test_split,RandomizedSearchCV\n",
        "print('Done')"
      ]
    },
    {
      "cell_type": "code",
      "execution_count": 37,
      "id": "5bb7b34a-6cb1-4162-9c13-8d64163e98ae",
      "metadata": {
        "colab": {
          "base_uri": "https://localhost:8080/"
        },
        "id": "5bb7b34a-6cb1-4162-9c13-8d64163e98ae",
        "outputId": "4ae342f6-2f1f-4d0f-cba6-327eababc87d"
      },
      "outputs": [
        {
          "output_type": "stream",
          "name": "stdout",
          "text": [
            "Done\n"
          ]
        }
      ],
      "source": [
        "from sklearn.metrics import accuracy_score\n",
        "from sklearn.metrics import precision_score\n",
        "from sklearn.metrics import recall_score\n",
        "from sklearn.metrics import f1_score\n",
        "from sklearn.metrics import precision_recall_curve\n",
        "from sklearn.metrics import roc_curve\n",
        "from sklearn.metrics import roc_auc_score\n",
        "from sklearn.metrics import auc\n",
        "from sklearn.metrics import matthews_corrcoef\n",
        "from sklearn.metrics import confusion_matrix\n",
        "\n",
        "from sklearn.model_selection import train_test_split\n",
        "from sklearn.model_selection import KFold\n",
        "print('Done')"
      ]
    },
    {
      "cell_type": "code",
      "execution_count": 38,
      "id": "06a3c204-1130-447c-a654-c8bff965a3a8",
      "metadata": {
        "colab": {
          "base_uri": "https://localhost:8080/"
        },
        "id": "06a3c204-1130-447c-a654-c8bff965a3a8",
        "outputId": "c1746bee-533f-46c6-a290-c458ab17298d"
      },
      "outputs": [
        {
          "output_type": "stream",
          "name": "stdout",
          "text": [
            "Running on CoLab\n",
            "Drive already mounted at /content/drive/; to attempt to forcibly remount, call drive.mount(\"/content/drive/\", force_remount=True).\n",
            "DATA DIR /content/drive/My Drive/data/Localization/RNAlight/\n"
          ]
        }
      ],
      "source": [
        "try:\n",
        "    from google.colab import drive\n",
        "    IN_COLAB = True\n",
        "    print('Running on CoLab')\n",
        "    PATH='/content/drive/'\n",
        "    drive.mount(PATH)\n",
        "    DATA_DIR=PATH+'My Drive/data/Localization/RNAlight/'  # must end in \"/\"\n",
        "    MODEL_DIR=PATH+'My Drive/data/Localization/RNAlight/'  # must end in \"/\"\n",
        "    output_dir=PATH+'My Drive/data/Localization/RNAlight/'\n",
        "except:\n",
        "    IN_COLAB = False\n",
        "    DATA_DIR = './'    # Mac\n",
        "    MODEL_DIR = './'    # Mac\n",
        "    output_dir = './'\n",
        "print('DATA DIR', DATA_DIR)"
      ]
    },
    {
      "cell_type": "code",
      "execution_count": 39,
      "id": "295a8797-dd52-4b92-969a-0655f5e62310",
      "metadata": {
        "colab": {
          "base_uri": "https://localhost:8080/"
        },
        "id": "295a8797-dd52-4b92-969a-0655f5e62310",
        "outputId": "04cd3cac-be9a-40a1-d58f-755232af7c49"
      },
      "outputs": [
        {
          "output_type": "stream",
          "name": "stdout",
          "text": [
            "100\n"
          ]
        }
      ],
      "source": [
        "SEED = 100\n",
        "random.seed(SEED)\n",
        "np.random.seed(SEED)\n",
        "print(SEED)"
      ]
    },
    {
      "cell_type": "code",
      "execution_count": 40,
      "id": "4c1ce357-cdc1-422e-aba2-8c8a995f73f8",
      "metadata": {
        "id": "4c1ce357-cdc1-422e-aba2-8c8a995f73f8"
      },
      "outputs": [],
      "source": [
        "def build_model():\n",
        "    '''\n",
        "    Probability is not the default with SVM.\n",
        "    We use probablity to compute the ARPRC statistic.\n",
        "    The sklearn documenation says:\n",
        "    Whether to enable probability estimates.\n",
        "    This must be enabled prior to calling fit,\n",
        "    will slow down that method as it internally uses 5-fold cross-validation,\n",
        "    and predict_proba may be inconsistent with predict.\n",
        "    '''\n",
        "    svc = SVC(probability=True)\n",
        "    return svc"
      ]
    },
    {
      "cell_type": "code",
      "execution_count": 41,
      "id": "da9eb695-32e6-4527-b54c-a1afd03bcdff",
      "metadata": {
        "colab": {
          "base_uri": "https://localhost:8080/"
        },
        "id": "da9eb695-32e6-4527-b54c-a1afd03bcdff",
        "outputId": "e2d1d920-799f-4b30-e317-e3b4685797ec"
      },
      "outputs": [
        {
          "output_type": "stream",
          "name": "stdout",
          "text": [
            "SVC(probability=True)\n"
          ]
        }
      ],
      "source": [
        "test = build_model()\n",
        "print(test)\n",
        "test = None"
      ]
    },
    {
      "cell_type": "code",
      "execution_count": 42,
      "id": "dea5888f-521c-418b-ad28-437df4507c44",
      "metadata": {
        "id": "dea5888f-521c-418b-ad28-437df4507c44"
      },
      "outputs": [],
      "source": [
        "class stats_collector:\n",
        "    def __init__(self):\n",
        "        self.reset_statistics()\n",
        "    def reset_statistics(self):\n",
        "        self.cv_accuracy=[]\n",
        "        self.cv_precision=[]\n",
        "        self.cv_recall=[]\n",
        "        self.cv_f1=[]\n",
        "        self.cv_mcc=[]\n",
        "        self.cv_auprc=[]\n",
        "        self.cv_auroc=[]\n",
        "    def _append_statistics(self,accuracy,precision,recall,f1,mcc,auprc,auroc):\n",
        "        self.cv_accuracy.append(accuracy)\n",
        "        self.cv_precision.append(precision)\n",
        "        self.cv_recall.append(recall)\n",
        "        self.cv_f1.append(f1)\n",
        "        self.cv_mcc.append(mcc)\n",
        "        self.cv_auprc.append(auprc)\n",
        "        self.cv_auroc.append(auroc)\n",
        "    def compute_performance(self,y_test,yhat_pred,yhat_classes,verbose=False):\n",
        "        accuracy = accuracy_score(y_test, yhat_classes)*100.\n",
        "        precision = precision_score(y_test, yhat_classes)*100.\n",
        "        recall = recall_score(y_test, yhat_classes)*100.\n",
        "        f1 = f1_score(y_test, yhat_classes)*100.\n",
        "        mcc = matthews_corrcoef(y_test, yhat_classes)\n",
        "        prc_Y, prc_X, prc_bins = precision_recall_curve(y_test, yhat_pred)\n",
        "        auprc = auc(prc_X,prc_Y)*100.\n",
        "        auroc = roc_auc_score(y_test, yhat_pred)*100.\n",
        "        self._append_statistics(accuracy,precision,recall,f1,mcc,auprc,auroc)\n",
        "        if verbose:\n",
        "            self._show_confusion(y_test,yhat_pred,yhat_classes)\n",
        "            self._show_statistics(accuracy,precision,recall,f1,mcc,auprc,auroc)\n",
        "    def _show_confusion(self,y_test,yhat_pred,yhat_classes):\n",
        "            print('Distrib of scores:',np.mean(yhat_pred),'mean',np.std(yhat_pred),'std')\n",
        "            print('Range of scores:',np.min(yhat_pred),'to',np.max(yhat_pred))\n",
        "            cm1 = confusion_matrix(y_test,yhat_classes)\n",
        "            print('Confusion matrix\\n',cm1)\n",
        "            cm2 = confusion_matrix(y_test,yhat_classes,normalize='all')\n",
        "            print('Normalized matrix\\n',cm2)\n",
        "    def _show_statistics(self,accuracy,precision,recall,f1,mcc,auprc,auroc):\n",
        "            print('accuracy:',accuracy,'precision:',precision,'recall:',recall,\\\n",
        "                  'F1:',f1,'MCC:',mcc,'AUPRC:',auprc,'AUROC:',auroc)\n",
        "    def _show_variance(self, name, stats_list):\n",
        "        if name=='MCC':\n",
        "            print('%10s %5.3f mean, %6.3f stdev' % (name,np.mean(stats_list),np.std(stats_list) ) )\n",
        "        else:\n",
        "            print('%10s %5.2f mean, %6.3f stdev' % (name,np.mean(stats_list),np.std(stats_list) ) )\n",
        "        print(stats_list)\n",
        "    def dump_all(self):\n",
        "        self._show_variance('accuracy', self.cv_accuracy)\n",
        "        self._show_variance('precision',self.cv_precision)\n",
        "        self._show_variance('recall',   self.cv_recall)\n",
        "        self._show_variance('F1',       self.cv_f1)\n",
        "        self._show_variance('MCC',      self.cv_mcc)\n",
        "        self._show_variance('AUPRC',    self.cv_auprc)\n",
        "        self._show_variance('AUROC',    self.cv_auroc)"
      ]
    },
    {
      "cell_type": "code",
      "execution_count": 43,
      "id": "2c0fe64b-d172-4167-bc2b-d9f617fbb1a1",
      "metadata": {
        "id": "2c0fe64b-d172-4167-bc2b-d9f617fbb1a1"
      },
      "outputs": [],
      "source": [
        "# From RNAlight notebook\n",
        "def _count_kmer(Dataset,k): # k = 3,4,5\n",
        "\n",
        "    # copy dataset\n",
        "    dataset = copy.deepcopy(Dataset)\n",
        "    # alphbet of nucleotide\n",
        "    nucleotide = ['A','C','G','T']\n",
        "\n",
        "    # generate k-mers\n",
        "    #  k == 5:\n",
        "    five = list(itertools.product(nucleotide,repeat=5))\n",
        "    pentamer = []\n",
        "    for n in five:\n",
        "        pentamer.append(\"\".join(n))\n",
        "\n",
        "    #  k == 4:\n",
        "    four = list(itertools.product(nucleotide,repeat=4))\n",
        "    tetramer = []\n",
        "    for n in four:\n",
        "        tetramer.append(\"\".join(n))\n",
        "\n",
        "    # k == 3:\n",
        "    three = list(itertools.product(nucleotide,repeat=3))\n",
        "    threemer = []\n",
        "    for n in three:\n",
        "        threemer.append(\"\".join(n))\n",
        "\n",
        "    # input features can be combinations of diffrent k values\n",
        "    if k == 34:\n",
        "        table_kmer = dict.fromkeys(threemer,0)\n",
        "        table_kmer.update(dict.fromkeys(tetramer,0))\n",
        "    if k == 45:\n",
        "        table_kmer = dict.fromkeys(tetramer,0)\n",
        "        table_kmer.update(dict.fromkeys(pentamer,0))\n",
        "    if k == 345:\n",
        "        table_kmer = dict.fromkeys(threemer,0)\n",
        "        table_kmer.update(dict.fromkeys(tetramer,0))\n",
        "        table_kmer.update(dict.fromkeys(pentamer,0))\n",
        "\n",
        "    # count k-mer for each sequence\n",
        "    for mer in table_kmer.keys():\n",
        "        table_kmer[mer] = dataset[\"cdna\"].apply(lambda x : x.count(mer))\n",
        "\n",
        "    # for k-mer raw count without normalization, index: nuc:1 or cyto:0\n",
        "    rawcount_kmer_df = pd.DataFrame(table_kmer)\n",
        "    df1_rawcount = pd.concat([rawcount_kmer_df,dataset[\"ensembl_transcript_id\"]],axis = 1)\n",
        "    df1_rawcount.index = dataset[\"tag\"]\n",
        "\n",
        "    # for k-mer frequency with normalization , index: nuc:1 or cyto:0\n",
        "    freq_kmer_df = rawcount_kmer_df.apply(lambda x: x/x.sum(),axis=1)\n",
        "    df1 = pd.concat([freq_kmer_df,dataset[\"ensembl_transcript_id\"]],axis = 1)\n",
        "    df1.index = dataset[\"tag\"]\n",
        "\n",
        "    return df1  # ,df1_rawcount"
      ]
    },
    {
      "cell_type": "code",
      "execution_count": 44,
      "id": "9e70228e-003b-4b4e-895f-b5d642270490",
      "metadata": {
        "id": "9e70228e-003b-4b4e-895f-b5d642270490"
      },
      "outputs": [],
      "source": [
        "# From RNAlight notebook\n",
        "def load_dataframe(cyto_f,nuc_f):\n",
        "    print('load dataframe')\n",
        "    dataset_cyto = pd.read_csv(cyto_f,sep='\\t',index_col = False)    #1806\n",
        "    dataset_nuc = pd.read_csv(nuc_f,sep='\\t',index_col = False)    #1986\n",
        "    print( len(dataset_cyto), 'cytoplasmic samples')\n",
        "    print( len(dataset_nuc),  'nuclear samples')\n",
        "    return dataset_cyto,dataset_nuc"
      ]
    },
    {
      "cell_type": "code",
      "execution_count": 45,
      "id": "449b9c12-3a7d-4e97-9816-43db7ea0caa8",
      "metadata": {
        "id": "449b9c12-3a7d-4e97-9816-43db7ea0caa8"
      },
      "outputs": [],
      "source": [
        "# Added\n",
        "def rebalance(dataset_cyto,dataset_nuc):\n",
        "    print('sample down to balance classes')\n",
        "    min_size = min(len(dataset_cyto),len(dataset_nuc))\n",
        "    # random sampling without replacement\n",
        "    dataset_cyto = dataset_cyto.sample(min_size, random_state=SEED)\n",
        "    dataset_nuc  = dataset_nuc.sample(min_size,  random_state=SEED)\n",
        "    print( len(dataset_cyto), 'cytoplasmic samples')\n",
        "    print( len(dataset_nuc),  'nuclear samples')\n",
        "    return dataset_cyto,dataset_nuc"
      ]
    },
    {
      "cell_type": "code",
      "execution_count": 46,
      "id": "4ef1e58c-07a6-47f0-9fef-c439c298b3ff",
      "metadata": {
        "id": "4ef1e58c-07a6-47f0-9fef-c439c298b3ff"
      },
      "outputs": [],
      "source": [
        "# From RNAlight notebook\n",
        "def extract_features_and_split(dataset_cyto,dataset_nuc):\n",
        "    print('add labels, concatenate')\n",
        "    # Set the tag of RCI(log2FC): nuclear 1 / cytosol 0\n",
        "    dataset_nuc['tag'] = 1;dataset_cyto['tag'] = 0\n",
        "    # merge the nuc and cyto dataset\n",
        "    dataset = pd.concat([dataset_nuc,dataset_cyto]) # 3792\n",
        "\n",
        "    print('dedupe (probably not necessary)')\n",
        "    # remove duplications(actually,each lncRNA is unique in its class)\n",
        "    dataset.drop_duplicates(keep=\"first\",subset=[\"ensembl_transcript_id\",\"name\",\"cdna\"],inplace=True) # 3792\n",
        "\n",
        "    print('count kmers')\n",
        "    # k = 3,4,5 count the normalized and raw count of kmer\n",
        "    df_kmer_345 = _count_kmer(dataset,345)   # df_kmer_345,df_kmer_345_rawcount =\n",
        "\n",
        "    # We commented this out. No need to save the tsv.\n",
        "    # df_kmer_345.to_csv(os.path.join(output_dir,\"df_kmer345_freq.tsv\"),sep='\\t')\n",
        "    # This was commented out in the original. Seems they reran using saved kmers. Should test if file exists.\n",
        "    # load kmer file\n",
        "    # df_kmer_345 = pd.read_csv(os.path.join(output_dir,\"df_kmer345_freq.tsv\"),sep='\\t',index_col= 0)\n",
        "\n",
        "    # convert to x:kmer-freq , y:label\n",
        "    del df_kmer_345['ensembl_transcript_id']\n",
        "    x_kmer = df_kmer_345.values\n",
        "    y_kmer = y_kmer = np.array(df_kmer_345.index)\n",
        "\n",
        "    # split into training and test sets (9:1)\n",
        "    print('train/test split')\n",
        "    x_train, x_test, y_train, y_test = train_test_split(x_kmer, y_kmer, test_size = 0.1, random_state = SEED)\n",
        "\n",
        "    #print('Apply cross-validation to all the data (no test set withheld)')\n",
        "    #x_train, x_test, y_train, y_test = train_test_split(x_kmer, y_kmer, test_size = None, random_state = SEED)\n",
        "    print('train set shape',x_train.shape)\n",
        "    # Added\n",
        "    labels,counts = np.unique(y_train,return_counts=True)\n",
        "    print('train set labels', labels, 'counts',counts)\n",
        "    labels,counts = np.unique(y_test,return_counts=True)\n",
        "    print('test set labels', labels, 'counts',counts)\n",
        "    return x_train, x_test, y_train, y_test"
      ]
    },
    {
      "cell_type": "code",
      "execution_count": 47,
      "id": "18b66e70-43ab-4a04-95ec-8d74064d8b65",
      "metadata": {
        "id": "18b66e70-43ab-4a04-95ec-8d74064d8b65"
      },
      "outputs": [],
      "source": [
        "def do_cv(x_train, y_train):\n",
        "    stats = stats_collector()\n",
        "    for round in range(1,3):\n",
        "        fold=0\n",
        "        splitter = KFold(n_splits=5)\n",
        "        for train_index, valid_index in splitter.split(x_train):\n",
        "            fold += 1\n",
        "            print('Round', round, 'Fold', fold)\n",
        "            print('Num samples in train and valid sets:', len(train_index), len(valid_index))\n",
        "            print('Train')\n",
        "            lgb = build_model()\n",
        "            history = lgb.fit(x_train[train_index], y_train[train_index])\n",
        "            print('Validate')\n",
        "            x_valid = x_train[valid_index]\n",
        "            y_valid = y_train[valid_index]\n",
        "            yhat_classes= lgb.predict(x_valid)  # get 0 or 1\n",
        "            yhat_pairs=   lgb.predict_proba(x_valid)  # get [ prob of 0, prob of 1 ]\n",
        "            yhat_pred=    [pair[1] for pair in yhat_pairs]\n",
        "            stats.compute_performance(y_valid,yhat_pred,yhat_classes,verbose=False)\n",
        "    return stats"
      ]
    },
    {
      "cell_type": "code",
      "execution_count": 48,
      "id": "37daf14d-0c14-49c8-b9c0-1590df839c3d",
      "metadata": {
        "colab": {
          "base_uri": "https://localhost:8080/"
        },
        "id": "37daf14d-0c14-49c8-b9c0-1590df839c3d",
        "outputId": "b630aa20-da21-43cb-d7fa-6451eb5e33fd"
      },
      "outputs": [
        {
          "output_type": "stream",
          "name": "stdout",
          "text": [
            "Use the RNAlight training set (already has middle excluded)\n",
            "Data files:\n",
            "/content/drive/My Drive/data/Localization/RNAlight/02_lncRNA_info_cyto_transcript.tsv \n",
            " /content/drive/My Drive/data/Localization/RNAlight/02_lncRNA_info_nuc_transcript.tsv\n",
            "load dataframe\n",
            "1806 cytoplasmic samples\n",
            "1986 nuclear samples\n",
            "add labels, concatenate\n",
            "dedupe (probably not necessary)\n",
            "count kmers\n",
            "train/test split\n",
            "train set shape (3412, 1344)\n",
            "train set labels [0 1] counts [1622 1790]\n",
            "test set labels [0 1] counts [184 196]\n",
            "Round 1 Fold 1\n",
            "Num samples in train and valid sets: 2729 683\n",
            "Train\n",
            "Validate\n",
            "Round 1 Fold 2\n",
            "Num samples in train and valid sets: 2729 683\n",
            "Train\n",
            "Validate\n",
            "Round 1 Fold 3\n",
            "Num samples in train and valid sets: 2730 682\n",
            "Train\n",
            "Validate\n",
            "Round 1 Fold 4\n",
            "Num samples in train and valid sets: 2730 682\n",
            "Train\n",
            "Validate\n",
            "Round 1 Fold 5\n",
            "Num samples in train and valid sets: 2730 682\n",
            "Train\n",
            "Validate\n",
            "Round 2 Fold 1\n",
            "Num samples in train and valid sets: 2729 683\n",
            "Train\n",
            "Validate\n",
            "Round 2 Fold 2\n",
            "Num samples in train and valid sets: 2729 683\n",
            "Train\n",
            "Validate\n",
            "Round 2 Fold 3\n",
            "Num samples in train and valid sets: 2730 682\n",
            "Train\n",
            "Validate\n",
            "Round 2 Fold 4\n",
            "Num samples in train and valid sets: 2730 682\n",
            "Train\n",
            "Validate\n",
            "Round 2 Fold 5\n",
            "Num samples in train and valid sets: 2730 682\n",
            "Train\n",
            "Validate\n",
            "\n",
            "Cross validation results\n",
            "  accuracy 67.18 mean,  1.219 stdev\n",
            "[67.93557833089312, 65.15373352855052, 67.88856304985337, 66.42228739002933, 68.47507331378299, 67.93557833089312, 65.15373352855052, 67.88856304985337, 66.42228739002933, 68.47507331378299]\n",
            " precision 67.09 mean,  2.739 stdev\n",
            "[69.68911917098445, 62.5615763546798, 68.90547263681593, 65.28497409326425, 69.01041666666666, 69.68911917098445, 62.5615763546798, 68.90547263681593, 65.28497409326425, 69.01041666666666]\n",
            "    recall 73.58 mean,  0.953 stdev\n",
            "[72.50673854447439, 74.70588235294117, 74.66307277628033, 72.62247838616715, 73.40720221606648, 72.50673854447439, 74.70588235294117, 74.66307277628033, 72.62247838616715, 73.40720221606648]\n",
            "        F1 70.15 mean,  1.434 stdev\n",
            "[71.07001321003962, 68.09651474530831, 71.66882276843467, 68.75852660300136, 71.14093959731544, 71.07001321003962, 68.09651474530831, 71.66882276843467, 68.75852660300136, 71.14093959731544]\n",
            "       MCC 0.341 mean,  0.020 stdev\n",
            "[0.35175803436928665, 0.3094773015174818, 0.3489942239554773, 0.3290520381070502, 0.36564877665330014, 0.35175803436928665, 0.3094773015174818, 0.3489942239554773, 0.3290520381070502, 0.36564877665330014]\n",
            "     AUPRC 75.13 mean,  1.567 stdev\n",
            "[76.6614234850964, 73.84261825958998, 74.50025265278846, 73.35775473319275, 77.30653660183056, 76.66291036564621, 73.84352355425594, 74.50112694178712, 73.34905071497784, 77.30068423145592]\n",
            "     AUROC 74.10 mean,  0.583 stdev\n",
            "[74.55940286128966, 73.59458068941862, 73.21049392880977, 74.59073508538, 74.55320544351534, 74.56199460916442, 73.59629566112159, 73.21136062263285, 74.5821325648415, 74.54802771809013]\n"
          ]
        }
      ],
      "source": [
        "if True:\n",
        "    print('Use the RNAlight training set (already has middle excluded)')\n",
        "    cyto_f = DATA_DIR+'02_lncRNA_info_cyto_transcript.tsv'\n",
        "    nuc_f  = DATA_DIR+'02_lncRNA_info_nuc_transcript.tsv'\n",
        "    print('Data files:')\n",
        "    print(cyto_f,'\\n',nuc_f)\n",
        "    dataset_cyto,dataset_nuc = load_dataframe(cyto_f,nuc_f)\n",
        "    x_train, x_test, y_train, y_test = extract_features_and_split(dataset_cyto,dataset_nuc)\n",
        "    stats = do_cv(x_train, y_train)\n",
        "    print('\\nCross validation results')\n",
        "    stats.dump_all()"
      ]
    },
    {
      "cell_type": "code",
      "execution_count": 49,
      "id": "c05c7485-5917-446b-9207-74fa17bcf5eb",
      "metadata": {
        "colab": {
          "base_uri": "https://localhost:8080/"
        },
        "id": "c05c7485-5917-446b-9207-74fa17bcf5eb",
        "outputId": "09b9bb93-0715-4ee0-9206-11eed614b0ef"
      },
      "outputs": [
        {
          "output_type": "stream",
          "name": "stdout",
          "text": [
            "Rebalance (sample down the majority class) and repeat\n",
            "sample down to balance classes\n",
            "1806 cytoplasmic samples\n",
            "1806 nuclear samples\n",
            "add labels, concatenate\n",
            "dedupe (probably not necessary)\n",
            "count kmers\n",
            "train/test split\n",
            "train set shape (3250, 1344)\n",
            "train set labels [0 1] counts [1632 1618]\n",
            "test set labels [0 1] counts [174 188]\n",
            "Round 1 Fold 1\n",
            "Num samples in train and valid sets: 2600 650\n",
            "Train\n",
            "Validate\n",
            "Round 1 Fold 2\n",
            "Num samples in train and valid sets: 2600 650\n",
            "Train\n",
            "Validate\n",
            "Round 1 Fold 3\n",
            "Num samples in train and valid sets: 2600 650\n",
            "Train\n",
            "Validate\n",
            "Round 1 Fold 4\n",
            "Num samples in train and valid sets: 2600 650\n",
            "Train\n",
            "Validate\n",
            "Round 1 Fold 5\n",
            "Num samples in train and valid sets: 2600 650\n",
            "Train\n",
            "Validate\n",
            "Round 2 Fold 1\n",
            "Num samples in train and valid sets: 2600 650\n",
            "Train\n",
            "Validate\n",
            "Round 2 Fold 2\n",
            "Num samples in train and valid sets: 2600 650\n",
            "Train\n",
            "Validate\n",
            "Round 2 Fold 3\n",
            "Num samples in train and valid sets: 2600 650\n",
            "Train\n",
            "Validate\n",
            "Round 2 Fold 4\n",
            "Num samples in train and valid sets: 2600 650\n",
            "Train\n",
            "Validate\n",
            "Round 2 Fold 5\n",
            "Num samples in train and valid sets: 2600 650\n",
            "Train\n",
            "Validate\n",
            "\n",
            "Cross validation results\n",
            "  accuracy 67.51 mean,  1.435 stdev\n",
            "[68.61538461538461, 68.46153846153847, 66.0, 65.53846153846153, 68.92307692307692, 68.61538461538461, 68.46153846153847, 66.0, 65.53846153846153, 68.92307692307692]\n",
            " precision 66.87 mean,  2.228 stdev\n",
            "[69.87577639751554, 67.1309192200557, 66.66666666666666, 62.99694189602446, 67.6923076923077, 69.87577639751554, 67.1309192200557, 66.66666666666666, 62.99694189602446, 67.6923076923077]\n",
            "    recall 68.84 mean,  2.512 stdev\n",
            "[67.7710843373494, 73.47560975609755, 66.86746987951807, 66.66666666666666, 69.4006309148265, 67.7710843373494, 73.47560975609755, 66.86746987951807, 66.66666666666666, 69.4006309148265]\n",
            "        F1 67.81 mean,  1.861 stdev\n",
            "[68.80733944954129, 70.16011644832606, 66.76691729323309, 64.77987421383648, 68.53582554517135, 68.80733944954129, 70.16011644832606, 66.76691729323309, 64.77987421383648, 68.53582554517135]\n",
            "       MCC 0.351 mean,  0.029 stdev\n",
            "[0.3726088176230658, 0.37031277581902716, 0.31964080275041334, 0.3114557413676518, 0.37857624876310864, 0.3726088176230658, 0.37031277581902716, 0.31964080275041334, 0.3114557413676518, 0.37857624876310864]\n",
            "     AUPRC 73.05 mean,  3.214 stdev\n",
            "[78.39918356675959, 73.71049873619013, 73.66282836126247, 70.13100461326064, 69.35898361518754, 78.40016567965931, 73.7141815198598, 73.6628116195767, 70.13001115650607, 69.34410133108157]\n",
            "     AUROC 74.32 mean,  1.338 stdev\n",
            "[75.9291884519209, 75.61354340251476, 73.24107751761764, 72.44730423559112, 74.34942829264595, 75.93203000681973, 75.61780412058779, 73.24107751761765, 72.44588066698934, 74.33806045793428]\n"
          ]
        }
      ],
      "source": [
        "if True:\n",
        "    print('Rebalance (sample down the majority class) and repeat')\n",
        "    dataset_cyto,dataset_nuc = rebalance(dataset_cyto,dataset_nuc)\n",
        "    x_train, x_test, y_train, y_test = extract_features_and_split(dataset_cyto,dataset_nuc)\n",
        "    stats = do_cv(x_train, y_train)\n",
        "    print('\\nCross validation results')\n",
        "    stats.dump_all()"
      ]
    },
    {
      "cell_type": "code",
      "execution_count": 50,
      "id": "cf916e9f-18b0-4892-8f78-4ea810f7bfe1",
      "metadata": {
        "colab": {
          "base_uri": "https://localhost:8080/"
        },
        "id": "cf916e9f-18b0-4892-8f78-4ea810f7bfe1",
        "outputId": "79b6028a-903f-445f-c364-8b6b316f8bd3"
      },
      "outputs": [
        {
          "output_type": "stream",
          "name": "stdout",
          "text": [
            "Use our lncATLAS training set \"middle exclusion\" (CN-RCI < -2 or CN-RCI > 0)\n",
            "Data files:\n",
            "/content/drive/My Drive/data/Localization/RNAlight/ForRNAlight.lncRNA_RCIgt0.canonical.tsv \n",
            " /content/drive/My Drive/data/Localization/RNAlight/ForRNAlight.lncRNA_RCIlt-2.canonical.tsv\n",
            "load dataframe\n",
            "1703 cytoplasmic samples\n",
            "706 nuclear samples\n",
            "add labels, concatenate\n",
            "dedupe (probably not necessary)\n",
            "count kmers\n",
            "train/test split\n",
            "train set shape (2168, 1344)\n",
            "train set labels [0 1] counts [1524  644]\n",
            "test set labels [0 1] counts [179  62]\n",
            "Round 1 Fold 1\n",
            "Num samples in train and valid sets: 1734 434\n",
            "Train\n",
            "Validate\n",
            "Round 1 Fold 2\n",
            "Num samples in train and valid sets: 1734 434\n",
            "Train\n",
            "Validate\n",
            "Round 1 Fold 3\n",
            "Num samples in train and valid sets: 1734 434\n",
            "Train\n",
            "Validate\n",
            "Round 1 Fold 4\n",
            "Num samples in train and valid sets: 1735 433\n",
            "Train\n",
            "Validate\n",
            "Round 1 Fold 5\n",
            "Num samples in train and valid sets: 1735 433\n",
            "Train\n",
            "Validate\n",
            "Round 2 Fold 1\n",
            "Num samples in train and valid sets: 1734 434\n",
            "Train\n",
            "Validate\n",
            "Round 2 Fold 2\n",
            "Num samples in train and valid sets: 1734 434\n",
            "Train\n",
            "Validate\n",
            "Round 2 Fold 3\n",
            "Num samples in train and valid sets: 1734 434\n",
            "Train\n",
            "Validate\n",
            "Round 2 Fold 4\n",
            "Num samples in train and valid sets: 1735 433\n",
            "Train\n",
            "Validate\n",
            "Round 2 Fold 5\n",
            "Num samples in train and valid sets: 1735 433\n",
            "Train\n",
            "Validate\n",
            "\n",
            "Cross validation results\n",
            "  accuracy 76.71 mean,  2.574 stdev\n",
            "[73.27188940092167, 74.19354838709677, 78.11059907834101, 80.13856812933025, 77.82909930715935, 73.27188940092167, 74.19354838709677, 78.11059907834101, 80.13856812933025, 77.82909930715935]\n",
            " precision 71.56 mean,  4.951 stdev\n",
            "[76.05633802816901, 61.904761904761905, 73.07692307692307, 73.07692307692307, 73.68421052631578, 76.05633802816901, 61.904761904761905, 73.07692307692307, 73.07692307692307, 73.68421052631578]\n",
            "    recall 35.76 mean,  5.712 stdev\n",
            "[35.294117647058826, 30.708661417322837, 31.932773109243694, 46.72131147540984, 34.146341463414636, 35.294117647058826, 30.708661417322837, 31.932773109243694, 46.72131147540984, 34.146341463414636]\n",
            "        F1 47.48 mean,  5.336 stdev\n",
            "[48.21428571428572, 41.05263157894738, 44.44444444444445, 56.99999999999999, 46.66666666666667, 48.21428571428572, 41.05263157894738, 44.44444444444445, 56.99999999999999, 46.66666666666667]\n",
            "       MCC 0.382 mean,  0.055 stdev\n",
            "[0.37770919138118, 0.29565140488505853, 0.37761021931299354, 0.4678652899827778, 0.39091539927209734, 0.37770919138118, 0.29565140488505853, 0.37761021931299354, 0.4678652899827778, 0.39091539927209734]\n",
            "     AUPRC 63.86 mean,  3.768 stdev\n",
            "[68.20759183391216, 57.321109362138564, 63.58908684267258, 66.85404530472218, 63.33565419833212, 68.21069330760187, 57.32091916852147, 63.59943913881166, 66.85404530472218, 63.336458100439465]\n",
            "     AUROC 77.62 mean,  2.465 stdev\n",
            "[74.88312050798966, 74.64156556977609, 79.63852207549687, 80.71530230351588, 78.21924993443481, 74.88428348800967, 74.64156556977609, 79.63985594237695, 80.71530230351588, 78.22187254130604]\n"
          ]
        }
      ],
      "source": [
        "if True:\n",
        "    print('Use our lncATLAS training set \"middle exclusion\" (CN-RCI < -2 or CN-RCI > 0)')\n",
        "    cyto_f = DATA_DIR+'ForRNAlight.lncRNA_RCIgt0.canonical.tsv'\n",
        "    nuc_f  = DATA_DIR+'ForRNAlight.lncRNA_RCIlt-2.canonical.tsv'\n",
        "    print('Data files:')\n",
        "    print(cyto_f,'\\n',nuc_f)\n",
        "    dataset_cyto,dataset_nuc = load_dataframe(cyto_f,nuc_f)\n",
        "    x_train, x_test, y_train, y_test = extract_features_and_split(dataset_cyto,dataset_nuc)\n",
        "    stats = do_cv(x_train, y_train)\n",
        "    print('\\nCross validation results')\n",
        "    stats.dump_all()"
      ]
    },
    {
      "cell_type": "code",
      "execution_count": 51,
      "id": "c636039b-3223-4bed-9975-aa712353a1a5",
      "metadata": {
        "colab": {
          "base_uri": "https://localhost:8080/"
        },
        "id": "c636039b-3223-4bed-9975-aa712353a1a5",
        "outputId": "638d92f6-87e4-4c69-dd6a-e2a3cdd44e5a"
      },
      "outputs": [
        {
          "output_type": "stream",
          "name": "stdout",
          "text": [
            "Rebalance (sample down the majority class) and repeat\n",
            "sample down to balance classes\n",
            "706 cytoplasmic samples\n",
            "706 nuclear samples\n",
            "add labels, concatenate\n",
            "dedupe (probably not necessary)\n",
            "count kmers\n",
            "train/test split\n",
            "train set shape (1270, 1344)\n",
            "train set labels [0 1] counts [639 631]\n",
            "test set labels [0 1] counts [67 75]\n",
            "Round 1 Fold 1\n",
            "Num samples in train and valid sets: 1016 254\n",
            "Train\n",
            "Validate\n",
            "Round 1 Fold 2\n",
            "Num samples in train and valid sets: 1016 254\n",
            "Train\n",
            "Validate\n",
            "Round 1 Fold 3\n",
            "Num samples in train and valid sets: 1016 254\n",
            "Train\n",
            "Validate\n",
            "Round 1 Fold 4\n",
            "Num samples in train and valid sets: 1016 254\n",
            "Train\n",
            "Validate\n",
            "Round 1 Fold 5\n",
            "Num samples in train and valid sets: 1016 254\n",
            "Train\n",
            "Validate\n",
            "Round 2 Fold 1\n",
            "Num samples in train and valid sets: 1016 254\n",
            "Train\n",
            "Validate\n",
            "Round 2 Fold 2\n",
            "Num samples in train and valid sets: 1016 254\n",
            "Train\n",
            "Validate\n",
            "Round 2 Fold 3\n",
            "Num samples in train and valid sets: 1016 254\n",
            "Train\n",
            "Validate\n",
            "Round 2 Fold 4\n",
            "Num samples in train and valid sets: 1016 254\n",
            "Train\n",
            "Validate\n",
            "Round 2 Fold 5\n",
            "Num samples in train and valid sets: 1016 254\n",
            "Train\n",
            "Validate\n",
            "\n",
            "Cross validation results\n",
            "  accuracy 71.89 mean,  1.700 stdev\n",
            "[71.25984251968504, 73.62204724409449, 73.22834645669292, 68.89763779527559, 72.44094488188976, 71.25984251968504, 73.62204724409449, 73.22834645669292, 68.89763779527559, 72.44094488188976]\n",
            " precision 74.39 mean,  1.213 stdev\n",
            "[75.43859649122807, 75.0, 75.47169811320755, 72.32142857142857, 73.72881355932203, 75.43859649122807, 75.0, 75.47169811320755, 72.32142857142857, 73.72881355932203]\n",
            "    recall 66.27 mean,  2.226 stdev\n",
            "[65.64885496183206, 68.29268292682927, 65.57377049180327, 62.7906976744186, 69.04761904761905, 65.64885496183206, 68.29268292682927, 65.57377049180327, 62.7906976744186, 69.04761904761905]\n",
            "        F1 70.08 mean,  1.530 stdev\n",
            "[70.20408163265306, 71.48936170212765, 70.17543859649122, 67.21991701244812, 71.31147540983606, 70.20408163265306, 71.48936170212765, 70.17543859649122, 67.21991701244812, 71.31147540983606]\n",
            "       MCC 0.440 mean,  0.032 stdev\n",
            "[0.430896930422985, 0.47225917970319875, 0.46481080540819647, 0.3825374401014973, 0.4494046710192572, 0.430896930422985, 0.47225917970319875, 0.46481080540819647, 0.3825374401014973, 0.4494046710192572]\n",
            "     AUPRC 79.23 mean,  1.399 stdev\n",
            "[79.33165932390057, 77.58656104011445, 81.22800845226492, 80.21077497633723, 77.78392569127865, 79.33167350745275, 77.58656104011445, 81.24499885907296, 80.20354022162157, 77.7863322242328]\n",
            "     AUROC 78.13 mean,  1.931 stdev\n",
            "[76.75789734996586, 79.51033327127163, 80.42722305017386, 78.81860465116279, 75.11780753968253, 76.75789734996586, 79.51033327127163, 80.44585196224541, 78.8093023255814, 75.12090773809523]\n"
          ]
        }
      ],
      "source": [
        "if True:   # just to be sure\n",
        "    print('Rebalance (sample down the majority class) and repeat')\n",
        "    dataset_cyto,dataset_nuc = rebalance(dataset_cyto,dataset_nuc)\n",
        "    x_train, x_test, y_train, y_test = extract_features_and_split(dataset_cyto,dataset_nuc)\n",
        "    stats = do_cv(x_train, y_train)\n",
        "    print('\\nCross validation results')\n",
        "    stats.dump_all()"
      ]
    },
    {
      "cell_type": "code",
      "execution_count": 52,
      "id": "1830d712-20a6-4f94-9ddb-e21be989c4d6",
      "metadata": {
        "colab": {
          "base_uri": "https://localhost:8080/"
        },
        "id": "1830d712-20a6-4f94-9ddb-e21be989c4d6",
        "outputId": "e14d6ef4-9280-4522-eea3-3979ff3ee3cd"
      },
      "outputs": [
        {
          "output_type": "stream",
          "name": "stdout",
          "text": [
            "Use our lncATLAS training set \"all\" (-inf <= CN-RCI <= +inf)\n",
            "/content/drive/My Drive/data/Localization/RNAlight/ForRNAlight.lncRNA_RCIgt-1.canonical.tsv \n",
            " /content/drive/My Drive/data/Localization/RNAlight/ForRNAlight.lncRNA_RCIlt-1.canonical.tsv\n",
            "load dataframe\n",
            "2887 cytoplasmic samples\n",
            "1548 nuclear samples\n",
            "add labels, concatenate\n",
            "dedupe (probably not necessary)\n",
            "count kmers\n",
            "train/test split\n",
            "train set shape (3991, 1344)\n",
            "train set labels [0 1] counts [2606 1385]\n",
            "test set labels [0 1] counts [281 163]\n",
            "Round 1 Fold 1\n",
            "Num samples in train and valid sets: 3192 799\n",
            "Train\n",
            "Validate\n",
            "Round 1 Fold 2\n",
            "Num samples in train and valid sets: 3193 798\n",
            "Train\n",
            "Validate\n",
            "Round 1 Fold 3\n",
            "Num samples in train and valid sets: 3193 798\n",
            "Train\n",
            "Validate\n",
            "Round 1 Fold 4\n",
            "Num samples in train and valid sets: 3193 798\n",
            "Train\n",
            "Validate\n",
            "Round 1 Fold 5\n",
            "Num samples in train and valid sets: 3193 798\n",
            "Train\n",
            "Validate\n",
            "Round 2 Fold 1\n",
            "Num samples in train and valid sets: 3192 799\n",
            "Train\n",
            "Validate\n",
            "Round 2 Fold 2\n",
            "Num samples in train and valid sets: 3193 798\n",
            "Train\n",
            "Validate\n",
            "Round 2 Fold 3\n",
            "Num samples in train and valid sets: 3193 798\n",
            "Train\n",
            "Validate\n",
            "Round 2 Fold 4\n",
            "Num samples in train and valid sets: 3193 798\n",
            "Train\n",
            "Validate\n",
            "Round 2 Fold 5\n",
            "Num samples in train and valid sets: 3193 798\n",
            "Train\n",
            "Validate\n",
            "\n",
            "Cross validation results\n",
            "  accuracy 69.03 mean,  2.379 stdev\n",
            "[70.58823529411765, 67.66917293233082, 66.54135338345864, 72.93233082706767, 67.41854636591479, 70.58823529411765, 67.66917293233082, 66.54135338345864, 72.93233082706767, 67.41854636591479]\n",
            " precision 65.83 mean,  4.487 stdev\n",
            "[71.05263157894737, 68.35443037974683, 60.91954022988506, 68.81720430107528, 60.0, 71.05263157894737, 68.35443037974683, 60.91954022988506, 68.81720430107528, 60.0]\n",
            "    recall 22.18 mean,  4.117 stdev\n",
            "[28.621908127208478, 18.81533101045296, 18.53146853146853, 25.49800796812749, 19.424460431654676, 28.621908127208478, 18.81533101045296, 18.53146853146853, 25.49800796812749, 19.424460431654676]\n",
            "        F1 33.06 mean,  5.003 stdev\n",
            "[40.80604534005038, 29.508196721311474, 28.418230563002684, 37.2093023255814, 29.347826086956523, 40.80604534005038, 29.508196721311474, 28.418230563002684, 37.2093023255814, 29.347826086956523]\n",
            "       MCC 0.238 mean,  0.051 stdev\n",
            "[0.3039433147699654, 0.22372013867872131, 0.18295160960676377, 0.2922588365470751, 0.18829737451785292, 0.3039433147699654, 0.22372013867872131, 0.18295160960676377, 0.2922588365470751, 0.18829737451785292]\n",
            "     AUPRC 56.11 mean,  2.914 stdev\n",
            "[59.417230911139754, 58.74778100762019, 55.374493897943736, 55.80202841597396, 51.222483948726435, 59.40854284021937, 58.75887092462293, 55.35556087027711, 55.80985441717776, 51.21561152704028]\n",
            "     AUROC 68.67 mean,  0.590 stdev\n",
            "[68.96348645465254, 68.92272445229345, 69.41515515734267, 68.37949845954391, 67.69369120088545, 68.95972005368833, 68.92613376790744, 69.40832604895105, 68.38022680757774, 67.69057830658551]\n"
          ]
        }
      ],
      "source": [
        "if True:\n",
        "    print('Use our lncATLAS training set \"all\" (-inf <= CN-RCI <= +inf)')\n",
        "    cyto_f = DATA_DIR+'ForRNAlight.lncRNA_RCIgt-1.canonical.tsv'\n",
        "    nuc_f  = DATA_DIR+'ForRNAlight.lncRNA_RCIlt-1.canonical.tsv'\n",
        "    print(cyto_f,'\\n',nuc_f)\n",
        "    dataset_cyto,dataset_nuc = load_dataframe(cyto_f,nuc_f)\n",
        "    x_train, x_test, y_train, y_test = extract_features_and_split(dataset_cyto,dataset_nuc)\n",
        "    stats = do_cv(x_train, y_train)\n",
        "    print('\\nCross validation results')\n",
        "    stats.dump_all()"
      ]
    },
    {
      "cell_type": "code",
      "execution_count": 53,
      "id": "44560340-f786-4111-a3de-242d9b2aeb17",
      "metadata": {
        "colab": {
          "base_uri": "https://localhost:8080/"
        },
        "id": "44560340-f786-4111-a3de-242d9b2aeb17",
        "outputId": "2c478bbb-beca-4cb2-93bb-f17fb594836d"
      },
      "outputs": [
        {
          "output_type": "stream",
          "name": "stdout",
          "text": [
            "Rebalance (sample down the majority class) and repeat\n",
            "sample down to balance classes\n",
            "1548 cytoplasmic samples\n",
            "1548 nuclear samples\n",
            "add labels, concatenate\n",
            "dedupe (probably not necessary)\n",
            "count kmers\n",
            "train/test split\n",
            "train set shape (2786, 1344)\n",
            "train set labels [0 1] counts [1397 1389]\n",
            "test set labels [0 1] counts [151 159]\n",
            "Round 1 Fold 1\n",
            "Num samples in train and valid sets: 2228 558\n",
            "Train\n",
            "Validate\n",
            "Round 1 Fold 2\n",
            "Num samples in train and valid sets: 2229 557\n",
            "Train\n",
            "Validate\n",
            "Round 1 Fold 3\n",
            "Num samples in train and valid sets: 2229 557\n",
            "Train\n",
            "Validate\n",
            "Round 1 Fold 4\n",
            "Num samples in train and valid sets: 2229 557\n",
            "Train\n",
            "Validate\n",
            "Round 1 Fold 5\n",
            "Num samples in train and valid sets: 2229 557\n",
            "Train\n",
            "Validate\n",
            "Round 2 Fold 1\n",
            "Num samples in train and valid sets: 2228 558\n",
            "Train\n",
            "Validate\n",
            "Round 2 Fold 2\n",
            "Num samples in train and valid sets: 2229 557\n",
            "Train\n",
            "Validate\n",
            "Round 2 Fold 3\n",
            "Num samples in train and valid sets: 2229 557\n",
            "Train\n",
            "Validate\n",
            "Round 2 Fold 4\n",
            "Num samples in train and valid sets: 2229 557\n",
            "Train\n",
            "Validate\n",
            "Round 2 Fold 5\n",
            "Num samples in train and valid sets: 2229 557\n",
            "Train\n",
            "Validate\n",
            "\n",
            "Cross validation results\n",
            "  accuracy 62.89 mean,  2.535 stdev\n",
            "[62.365591397849464, 59.42549371633752, 62.47755834829444, 67.3249551166966, 62.83662477558348, 62.365591397849464, 59.42549371633752, 62.47755834829444, 67.3249551166966, 62.83662477558348]\n",
            " precision 64.46 mean,  2.283 stdev\n",
            "[66.93877551020408, 66.66666666666666, 62.295081967213115, 65.07936507936508, 61.30268199233716, 66.93877551020408, 66.66666666666666, 62.295081967213115, 65.07936507936508, 61.30268199233716]\n",
            "    recall 57.40 mean,  4.281 stdev\n",
            "[55.972696245733786, 50.82508250825083, 56.50557620817844, 63.565891472868216, 60.150375939849624, 55.972696245733786, 50.82508250825083, 56.50557620817844, 63.565891472868216, 60.150375939849624]\n",
            "        F1 60.59 mean,  2.203 stdev\n",
            "[60.96654275092938, 57.67790262172285, 59.25925925925927, 64.31372549019608, 60.72106261859582, 60.96654275092938, 57.67790262172285, 59.25925925925927, 64.31372549019608, 60.72106261859582]\n",
            "       MCC 0.261 mean,  0.044 stdev\n",
            "[0.2556519363402922, 0.20734407217085382, 0.24737378658556008, 0.3419701581398015, 0.2546715969315591, 0.2556519363402922, 0.20734407217085382, 0.24737378658556008, 0.3419701581398015, 0.2546715969315591]\n",
            "     AUPRC 67.67 mean,  3.186 stdev\n",
            "[72.45551361294942, 68.74905560173215, 65.54053019677274, 68.54753809794035, 63.04807526092458, 72.45626983939239, 68.74209363919073, 65.54368698639193, 68.54753809794035, 63.04370565289147]\n",
            "     AUROC 67.86 mean,  2.639 stdev\n",
            "[69.87056474982292, 65.55313011616121, 66.08452085914911, 72.06255995436986, 65.7106684236364, 69.87571640157125, 65.55053143109588, 66.08903862040478, 72.06255995436986, 65.70550086556597]\n"
          ]
        }
      ],
      "source": [
        "if True:\n",
        "    print('Rebalance (sample down the majority class) and repeat')\n",
        "    dataset_cyto,dataset_nuc = rebalance(dataset_cyto,dataset_nuc)\n",
        "    x_train, x_test, y_train, y_test = extract_features_and_split(dataset_cyto,dataset_nuc)\n",
        "    stats = do_cv(x_train, y_train)\n",
        "    print('\\nCross validation results')\n",
        "    stats.dump_all()"
      ]
    },
    {
      "cell_type": "code",
      "execution_count": 54,
      "id": "35cf8437-c2c6-41d2-8b1f-70cc7ba25672",
      "metadata": {
        "colab": {
          "base_uri": "https://localhost:8080/"
        },
        "id": "35cf8437-c2c6-41d2-8b1f-70cc7ba25672",
        "outputId": "d5b687c5-5e72-490e-c965-0630b22adc41"
      },
      "outputs": [
        {
          "output_type": "stream",
          "name": "stdout",
          "text": [
            "2024-03-21 15:10:47.585020\n",
            "Done\n"
          ]
        }
      ],
      "source": [
        "print(datetime.now())\n",
        "print('Done')"
      ]
    }
  ],
  "metadata": {
    "colab": {
      "machine_shape": "hm",
      "provenance": []
    },
    "kernelspec": {
      "display_name": "Python 3 (ipykernel)",
      "language": "python",
      "name": "python3"
    },
    "language_info": {
      "codemirror_mode": {
        "name": "ipython",
        "version": 3
      },
      "file_extension": ".py",
      "mimetype": "text/x-python",
      "name": "python",
      "nbconvert_exporter": "python",
      "pygments_lexer": "ipython3",
      "version": "3.11.6"
    }
  },
  "nbformat": 4,
  "nbformat_minor": 5
}