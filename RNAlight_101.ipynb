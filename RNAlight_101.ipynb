{
 "cells": [
  {
   "cell_type": "markdown",
   "id": "24184e53",
   "metadata": {},
   "source": [
    "# RNAlight\n",
    "Analyze the predictions file from the RNAlight repo: [Whole_genome_lncRNA_predict_df.tsv](https://github.com/YangLab/RNAlight/blob/main/Light_score_diverse_RNA/lncRNA_whole_genome/Whole_genome_lncRNA_predict_df.tsv)   \n",
    "Compare the RNAlight predictions to labels derived from lncATLAS.    \n",
    "Not all sequences in the predictions file are found in lncATLAS.   \n",
    "We need a threshold for nuclear-vs-cytoplasmic.    \n",
    "Threshold= -1 makes sense since RNAlight excluded -2 to 0, but we tried other values.    \n",
    "Threshold= -1 also gave the highest accuracy. \n",
    "\n",
    "This notebook measures accuracy on mean of 14 cell lines, excluding H1.hESC as in the RNAlight paper."
   ]
  },
  {
   "cell_type": "code",
   "execution_count": 1,
   "id": "556de3cf",
   "metadata": {},
   "outputs": [],
   "source": [
    "import sys, traceback\n",
    "import sklearn\n",
    "from sklearn.metrics import accuracy_score\n",
    "import numpy as np\n",
    "\n",
    "# Assume these files or links are in the current directory.\n",
    "# This is from the RNAlight repo on github\n",
    "RNALIGHT = 'Whole_genome_lncRNA_predict_df.tsv'\n",
    "# GenCode fasta reduced to csv\n",
    "GENCODE = 'gencode.v44.lncRNA_transcripts.fa'\n",
    "# This is from lncATLAS downloads\n",
    "LNCATLAS = 'lncATLAS_all_data_RCI.csv'"
   ]
  },
  {
   "cell_type": "code",
   "execution_count": 2,
   "id": "ef562e90",
   "metadata": {},
   "outputs": [],
   "source": [
    "# Load the RNAlight file of predictions\n",
    "def load_predictions(filename):\n",
    "    '''\n",
    "    Parse the predictions file from the RNAlight repository.\n",
    "    The format is tsv with a header line.\n",
    "    After splitting each line on tab, each line yields\n",
    "    transcript ID and its prediction class & probability.\n",
    "    Split the ID on period to remove the version number. \n",
    "    '''\n",
    "    predictions = dict()\n",
    "    with open (filename, 'r') as fin:\n",
    "        header = None\n",
    "        for line in fin:\n",
    "            try:\n",
    "                fields = line.strip().split('\\t')\n",
    "                if header is None:\n",
    "                    header = fields\n",
    "                    continue\n",
    "                tid = fields[0].split('.')[0]\n",
    "                pred_class = int(fields[3])\n",
    "                pred_prob = float(fields[4])\n",
    "                predictions[tid]=(pred_class,pred_prob)\n",
    "            except Exception as e:\n",
    "                print(line)\n",
    "                traceback.print_exc()\n",
    "                raise(e)\n",
    "    return predictions"
   ]
  },
  {
   "cell_type": "code",
   "execution_count": 3,
   "id": "3e68e6a4",
   "metadata": {},
   "outputs": [],
   "source": [
    "# Load IDs from the GenCode FASTA file\n",
    "def load_conversions(filename):\n",
    "    '''\n",
    "    Load the sequences from the GENCODE sequence file.\n",
    "    The format is FASTA: each defline followed by multiple sequence lines.\n",
    "    Split deflines on vertical bar to parse out the gene and transcript IDs.\n",
    "    Split IDs on period to remove the version numbers. \n",
    "    '''\n",
    "    conversions = dict()\n",
    "    with open (filename, 'r') as fin:\n",
    "        for line in fin:\n",
    "            # Parse deflines like...\n",
    "            # >ENST00000456328.2|ENSG00000290825.1|-|OTTHUMT00000362751.1|DDX11L2-202|DDX11L2|1657|\n",
    "            try:\n",
    "                if line.startswith('>'):\n",
    "                    fields = line[1:].rstrip().split('|')\n",
    "                    tid = fields[0].split('.')[0]\n",
    "                    gid = fields[1].split('.')[0]\n",
    "                    conversions[tid]=gid\n",
    "            except Exception as e:\n",
    "                print(line)\n",
    "                traceback.print_exc()\n",
    "                raise(e)\n",
    "    return conversions"
   ]
  },
  {
   "cell_type": "code",
   "execution_count": 4,
   "id": "92ec5155",
   "metadata": {},
   "outputs": [],
   "source": [
    "# Load the lncATLAS file of CNRCI\n",
    "def load_truth(filename,/,include=None,exclude=None):\n",
    "    '''\n",
    "    Parse the datafile from lncATLAS.\n",
    "    The format is csv with a header line.\n",
    "    Filter 'nc' to exclude coding genes.\n",
    "    Filter 'CNRCI' to exclude RCIs besides cytoplasmic-to-nuclear.\n",
    "    Filter 'NA' to exclude lines with value not available. \n",
    "    Optionally filter 'H1.hESC' to exclude this cell line, as RNAlight did.\n",
    "    Return a mapping of gene to its mean CNRCI.\n",
    "    '''\n",
    "    mean_rci = dict()\n",
    "    all_rci = dict()\n",
    "    with open (filename, 'r') as fin:\n",
    "        header = None\n",
    "        for line in fin:\n",
    "            try:\n",
    "                fields = line.strip().split(',')\n",
    "                if header is None:\n",
    "                    header = fields\n",
    "                    continue\n",
    "                gid = fields[0]\n",
    "                cell_type = fields[1]\n",
    "                rci_type = fields[2]\n",
    "                rci_value = fields[3]\n",
    "                gene_type = fields[6]\n",
    "                if (include is not None and cell_type==include) \\\n",
    "                    or (exclude is not None and cell_type!=exclude):\n",
    "                    if gene_type=='nc' and\\\n",
    "                        rci_type=='CNRCI' and\\\n",
    "                        rci_value!='NA':\n",
    "                        rci_value=float(rci_value)\n",
    "                        if gid not in all_rci.keys():\n",
    "                            all_rci[gid]=[]\n",
    "                        all_rci[gid].append(rci_value)\n",
    "            except Exception as e:\n",
    "                print(line)\n",
    "                traceback.print_exc()\n",
    "                raise(e)\n",
    "    for gid in all_rci.keys():\n",
    "        values = all_rci[gid]\n",
    "        mean = np.mean(values)\n",
    "        #print(gid,mean,values)\n",
    "        mean_rci[gid] = mean\n",
    "    return mean_rci"
   ]
  },
  {
   "cell_type": "code",
   "execution_count": 5,
   "id": "26d891ca",
   "metadata": {},
   "outputs": [],
   "source": [
    "GID,TID,PRED_CLASS,PRED_PROB,CNRCI = 0,1,2,3,4\n",
    "def load_integrated_data(rnalight,gencode,lncatlas,/,include=None,exclude=None,verbose=True):\n",
    "    '''\n",
    "    Integrate the three databases: RNAlight, GENCODE, lncATLAS.\n",
    "    Pass in three database filenames.\n",
    "    Return one mega mapping of transcript ID to its data.\n",
    "    '''\n",
    "    predictions = load_predictions(rnalight)\n",
    "    tid_to_gid = load_conversions(gencode)\n",
    "    cnrci = load_truth(lncatlas, include=include, exclude=exclude)\n",
    "    print('Input size:',len(predictions),len(tid_to_gid),len(cnrci))\n",
    "    not_in_gencode=0\n",
    "    not_in_lncatlas=0\n",
    "    comparables=0\n",
    "    database = []\n",
    "    for tid in predictions.keys():\n",
    "        if tid not in tid_to_gid.keys():\n",
    "            not_in_gencode += 1\n",
    "            continue\n",
    "        gid = tid_to_gid[tid]\n",
    "        if gid not in cnrci.keys():\n",
    "            not_in_lncatlas += 1\n",
    "            continue\n",
    "        pred_class,pred_prob = predictions[tid]\n",
    "        rci = cnrci[gid]\n",
    "        comparables += 1\n",
    "        data_row = (gid,tid,pred_class,pred_prob,rci)\n",
    "        database.append(data_row)\n",
    "    if verbose:\n",
    "        print('# Comparable values:', comparables)\n",
    "        print('# Transcripts not in GenCode:', not_in_gencode)\n",
    "        print('# Transcripts with no RCI in lncATLAS:', not_in_lncatlas)\n",
    "    return database"
   ]
  },
  {
   "cell_type": "code",
   "execution_count": 6,
   "id": "7a006e68",
   "metadata": {},
   "outputs": [
    {
     "name": "stdout",
     "output_type": "stream",
     "text": [
      "Input size: 16153 58246 5760\n",
      "# Comparable values: 5317\n",
      "# Transcripts not in GenCode: 195\n",
      "# Transcripts with no RCI in lncATLAS: 10641\n",
      "Records: 5317\n"
     ]
    }
   ],
   "source": [
    "dataset = load_integrated_data(RNALIGHT,GENCODE,LNCATLAS,exclude='H1.hESC')\n",
    "print('Records:', len(dataset))"
   ]
  },
  {
   "cell_type": "code",
   "execution_count": 7,
   "id": "5cc18bbd",
   "metadata": {},
   "outputs": [
    {
     "name": "stdout",
     "output_type": "stream",
     "text": [
      "RNAlight predicts 0 or 1. What does that mean?\n",
      "We assume RNAlight is correct most of the time, especially on extreme values.\n",
      "For postive CNRCI (cytosol), RNAlight mostly predicts 0:\n",
      " Predictions for RNA with very positive RCI: [0,1]= [2, 0]\n",
      "For negative CNRCI (nucleus), RNAlight mostly predicts 1:\n",
      " Predictions for RNA with very negative RCI: [0,1]= [7, 428]\n"
     ]
    }
   ],
   "source": [
    "# This is a preliminary test to confirm that, in RNAlight output, 1=cytoplasmic and 0=nuclear. \n",
    "positive_rci_counts=[0,0]\n",
    "negative_rci_counts=[0,0]\n",
    "for row in dataset:\n",
    "    pred = row[PRED_CLASS]\n",
    "    rci = row[CNRCI]\n",
    "    if rci>= 4:\n",
    "        positive_rci_counts[pred] += 1\n",
    "    if rci<= -4:\n",
    "        negative_rci_counts[pred] += 1\n",
    "print('RNAlight predicts 0 or 1. What does that mean?')\n",
    "print('We assume RNAlight is correct most of the time, especially on extreme values.')\n",
    "print('For postive CNRCI (cytosol), RNAlight mostly predicts 0:')\n",
    "print(' Predictions for RNA with very positive RCI: [0,1]=', positive_rci_counts)\n",
    "print('For negative CNRCI (nucleus), RNAlight mostly predicts 1:')\n",
    "print(' Predictions for RNA with very negative RCI: [0,1]=', negative_rci_counts)\n",
    "CLASS_CYTOSOL = 0\n",
    "CLASS_NUCLEUS = 1"
   ]
  },
  {
   "cell_type": "code",
   "execution_count": 8,
   "id": "0f2ecf7f",
   "metadata": {},
   "outputs": [],
   "source": [
    "def make_two_arrays(data,threshold):\n",
    "    '''\n",
    "    This is a subroutine for show_accuracy().\n",
    "    Pass in the mapping of each transcript ID to all its data.\n",
    "    Extract and return two lists: predictions and ground truth.\n",
    "    The predictions are straight from the RNAlight predictions file.\n",
    "    The ground truth depends on the CNRCI compared to a given threshold.\n",
    "    '''\n",
    "    y_pred = []\n",
    "    y_true = []\n",
    "    for row in data:\n",
    "        pred = row[PRED_CLASS]\n",
    "        rci =  row[CNRCI]\n",
    "        if rci >= threshold:\n",
    "            actual = CLASS_CYTOSOL\n",
    "        else:\n",
    "            actual = CLASS_NUCLEUS\n",
    "        y_pred.append(pred)\n",
    "        y_true.append(actual)\n",
    "    return y_true,y_pred"
   ]
  },
  {
   "cell_type": "code",
   "execution_count": 9,
   "id": "228f9d4e",
   "metadata": {},
   "outputs": [],
   "source": [
    "def show_accuracy(data,rci_threshold):\n",
    "    '''\n",
    "    Pass in the mapping of each transcript to all its data.\n",
    "    Pass in some desired threshold T, where CNRCI>T implies cytoplasmic, else nuclear.\n",
    "    For each transcript, extract RNAlight predictions from the data.\n",
    "    Finally, print one sentence showing accuracy of predictions at this threshold.\n",
    "    '''\n",
    "    y_true,y_pred = make_two_arrays(data,rci_threshold)\n",
    "    if len(y_true)==0 or len(y_pred)==0:\n",
    "        acc = 0.0\n",
    "    else:\n",
    "        acc = accuracy_score(y_true,y_pred) * 100\n",
    "    print('At RCI threshold %3.1f, %d predictions have accuracy=%6.2f%%' \\\n",
    "          % (rci_threshold, len(y_pred), acc))"
   ]
  },
  {
   "cell_type": "markdown",
   "id": "bfb4b1db-04b5-4ede-ad50-f6af54ac7496",
   "metadata": {},
   "source": [
    "### Overall accuracy, no middle exclusion\n",
    "These statistics are sensitive to what portion of genes are in the middle."
   ]
  },
  {
   "cell_type": "code",
   "execution_count": 10,
   "id": "785dda2c",
   "metadata": {},
   "outputs": [
    {
     "name": "stdout",
     "output_type": "stream",
     "text": [
      "At RCI threshold -2.0, 5317 predictions have accuracy= 78.58%\n",
      "At RCI threshold -1.5, 5317 predictions have accuracy= 79.14%\n",
      "At RCI threshold -1.0, 5317 predictions have accuracy= 79.88%\n",
      "At RCI threshold -0.5, 5317 predictions have accuracy= 79.31%\n",
      "At RCI threshold 0.0, 5317 predictions have accuracy= 76.92%\n",
      "At RCI threshold 0.5, 5317 predictions have accuracy= 69.14%\n",
      "At RCI threshold 1.0, 5317 predictions have accuracy= 62.69%\n",
      "At RCI threshold 2.0, 5317 predictions have accuracy= 54.88%\n"
     ]
    }
   ],
   "source": [
    "show_accuracy(dataset,-2)\n",
    "show_accuracy(dataset,-1.5)\n",
    "show_accuracy(dataset,-1)\n",
    "show_accuracy(dataset,-0.5)\n",
    "show_accuracy(dataset,0)\n",
    "show_accuracy(dataset,0.5)\n",
    "show_accuracy(dataset,1)\n",
    "show_accuracy(dataset,2)"
   ]
  },
  {
   "cell_type": "code",
   "execution_count": 11,
   "id": "70d55f14",
   "metadata": {},
   "outputs": [],
   "source": [
    "def middle_exclusion(data,lower_bound,upper_bound,/,inverse=False):\n",
    "    '''\n",
    "    Pass in the mapping of each transcript to all its data.\n",
    "    Returns a subset of maps, filtered by the given CNRCI thresholds.\n",
    "    This emulates the middle exclusion filter used in the RNAlight study.\n",
    "    '''\n",
    "    include = []\n",
    "    exclude = []\n",
    "    for row in data:\n",
    "        rci = row[CNRCI]\n",
    "        if rci < lower_bound or rci > upper_bound:\n",
    "            include.append(row)\n",
    "        else:\n",
    "            exclude.append(row)\n",
    "    if inverse:\n",
    "        return exclude\n",
    "    return include"
   ]
  },
  {
   "cell_type": "markdown",
   "id": "3f32818e-3c15-4e3f-ab51-54f6301b896d",
   "metadata": {},
   "source": [
    "### Accuracy on the extremes, after middle exclusion"
   ]
  },
  {
   "cell_type": "code",
   "execution_count": 12,
   "id": "526a1a31",
   "metadata": {},
   "outputs": [
    {
     "name": "stdout",
     "output_type": "stream",
     "text": [
      "Number of genes left after middle exclusion 3226\n",
      "At RCI threshold -2.0, 3226 predictions have accuracy= 95.94%\n",
      "At RCI threshold -1.5, 3226 predictions have accuracy= 95.94%\n",
      "At RCI threshold -1.0, 3226 predictions have accuracy= 95.94%\n",
      "At RCI threshold -0.5, 3226 predictions have accuracy= 95.94%\n",
      "At RCI threshold 0.0, 3226 predictions have accuracy= 95.94%\n",
      "At RCI threshold 0.5, 3226 predictions have accuracy= 82.70%\n",
      "At RCI threshold 1.0, 3226 predictions have accuracy= 72.07%\n",
      "At RCI threshold 2.0, 3226 predictions have accuracy= 59.21%\n"
     ]
    }
   ],
   "source": [
    "reduced_set = middle_exclusion(dataset,-2,0)\n",
    "print('Number of genes left after middle exclusion', len(reduced_set))\n",
    "show_accuracy(reduced_set,-2)\n",
    "show_accuracy(reduced_set,-1.5)\n",
    "show_accuracy(reduced_set,-1)\n",
    "show_accuracy(reduced_set,-0.5)\n",
    "show_accuracy(reduced_set,0)\n",
    "show_accuracy(reduced_set,0.5)\n",
    "show_accuracy(reduced_set,1)\n",
    "show_accuracy(reduced_set,2)"
   ]
  },
  {
   "cell_type": "markdown",
   "id": "b3e0de06-69d0-411f-98bd-346e922ce20b",
   "metadata": {},
   "source": [
    "### Accuracy on just the middle part, excluding the extremes"
   ]
  },
  {
   "cell_type": "code",
   "execution_count": 13,
   "id": "89a95f74",
   "metadata": {},
   "outputs": [
    {
     "name": "stdout",
     "output_type": "stream",
     "text": [
      "Number of genes in the middle 2091\n",
      "At RCI threshold -2.0, 2091 predictions have accuracy= 51.79%\n",
      "At RCI threshold -1.5, 2091 predictions have accuracy= 53.23%\n",
      "At RCI threshold -1.0, 2091 predictions have accuracy= 55.09%\n",
      "At RCI threshold -0.5, 2091 predictions have accuracy= 53.66%\n",
      "At RCI threshold 0.0, 2091 predictions have accuracy= 47.58%\n",
      "At RCI threshold 0.5, 2091 predictions have accuracy= 48.21%\n",
      "At RCI threshold 1.0, 2091 predictions have accuracy= 48.21%\n",
      "At RCI threshold 2.0, 2091 predictions have accuracy= 48.21%\n"
     ]
    }
   ],
   "source": [
    "removed_set = middle_exclusion(dataset,-2,0,inverse=True)\n",
    "print('Number of genes in the middle', len(removed_set))\n",
    "show_accuracy(removed_set,-2)\n",
    "show_accuracy(removed_set,-1.5)\n",
    "show_accuracy(removed_set,-1)\n",
    "show_accuracy(removed_set,-0.5)\n",
    "show_accuracy(removed_set,0)\n",
    "show_accuracy(removed_set,0.5)\n",
    "show_accuracy(removed_set,1)\n",
    "show_accuracy(removed_set,2)"
   ]
  },
  {
   "cell_type": "code",
   "execution_count": null,
   "id": "38f630fa-2eaa-475d-bdd5-681468ed1583",
   "metadata": {},
   "outputs": [],
   "source": []
  },
  {
   "cell_type": "code",
   "execution_count": null,
   "id": "aedf5d47-99d3-4a2c-bf28-a4659bb0fd04",
   "metadata": {},
   "outputs": [],
   "source": []
  }
 ],
 "metadata": {
  "kernelspec": {
   "display_name": "Python 3 (ipykernel)",
   "language": "python",
   "name": "python3"
  },
  "language_info": {
   "codemirror_mode": {
    "name": "ipython",
    "version": 3
   },
   "file_extension": ".py",
   "mimetype": "text/x-python",
   "name": "python",
   "nbconvert_exporter": "python",
   "pygments_lexer": "ipython3",
   "version": "3.11.6"
  }
 },
 "nbformat": 4,
 "nbformat_minor": 5
}
