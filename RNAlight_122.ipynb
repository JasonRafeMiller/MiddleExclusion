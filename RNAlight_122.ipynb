{
 "cells": [
  {
   "cell_type": "markdown",
   "metadata": {
    "id": "jV5IhMduknvV"
   },
   "source": [
    "# Optimize LightGBM\n",
    "Start with the LightGBM model.   \n",
    "Use grid search code and data from the RNAlight source code repository.   \n",
    "Output the optimized hyperparameter values.    "
   ]
  },
  {
   "cell_type": "markdown",
   "metadata": {
    "id": "tULjykyUknvg"
   },
   "source": [
    "***"
   ]
  },
  {
   "cell_type": "markdown",
   "metadata": {
    "id": "oIthwOUsknvk"
   },
   "source": [
    "## 1. Python import and define functions"
   ]
  },
  {
   "cell_type": "code",
   "execution_count": 1,
   "metadata": {
    "colab": {
     "base_uri": "https://localhost:8080/"
    },
    "id": "F_OS1Xw4sgoA",
    "outputId": "f270a5ff-2f2a-4d2b-f43f-cea88a7abf3d"
   },
   "outputs": [
    {
     "name": "stdout",
     "output_type": "stream",
     "text": [
      "2024-02-17 20:19:24.915385\n"
     ]
    }
   ],
   "source": [
    "import time\n",
    "from datetime import datetime\n",
    "print(datetime.now())"
   ]
  },
  {
   "cell_type": "code",
   "execution_count": 2,
   "metadata": {
    "id": "sUAiKBpcknvp"
   },
   "outputs": [],
   "source": [
    "# Python import\n",
    "import os\n",
    "import copy\n",
    "import random\n",
    "import collections\n",
    "import itertools\n",
    "import numpy as np\n",
    "import pandas as pd\n",
    "import lightgbm as lgb\n",
    "import warnings\n",
    "from sklearn import svm\n",
    "#from sklearn.externals import joblib\n",
    "import joblib\n",
    "from sklearn.ensemble import RandomForestClassifier\n",
    "from sklearn.model_selection import train_test_split,RandomizedSearchCV\n",
    "import sklearn.metrics as metrics\n",
    "from sklearn.linear_model import LogisticRegression\n",
    "import matplotlib.pyplot as plt"
   ]
  },
  {
   "cell_type": "code",
   "execution_count": 3,
   "metadata": {
    "colab": {
     "base_uri": "https://localhost:8080/"
    },
    "id": "C29eEnj-knvv",
    "outputId": "eafdd968-1851-4e7e-f623-0aacbf34246c"
   },
   "outputs": [
    {
     "name": "stdout",
     "output_type": "stream",
     "text": [
      "Running on CoLab\n",
      "Mounted at /content/drive/\n",
      "DATA DIR /content/drive/My Drive/data/Localization/RNAlight/\n"
     ]
    }
   ],
   "source": [
    "try:\n",
    "    from google.colab import drive\n",
    "    IN_COLAB = True\n",
    "    print('Running on CoLab')\n",
    "    PATH='/content/drive/'\n",
    "    drive.mount(PATH)\n",
    "    DATA_DIR=PATH+'My Drive/data/Localization/RNAlight/'  # must end in \"/\"\n",
    "    MODEL_DIR=PATH+'My Drive/data/Localization/RNAlight/'  # must end in \"/\"\n",
    "    output_dir=PATH+'My Drive/data/Localization/RNAlight/'\n",
    "except:\n",
    "    IN_COLAB = False\n",
    "    DATA_DIR = './'    # Mac\n",
    "    MODEL_DIR = './'    # Mac\n",
    "    output_dir = './'\n",
    "print('DATA DIR', DATA_DIR)"
   ]
  },
  {
   "cell_type": "code",
   "execution_count": 4,
   "metadata": {
    "id": "JKRhlQZwknwv"
   },
   "outputs": [],
   "source": [
    "# Whether in jupyter notebook\n",
    "def isnotebook() -> bool:\n",
    "    return True\n",
    "    \"\"\"\n",
    "    Returns True if the current execution environment is a jupyter notebook\n",
    "    https://stackoverflow.com/questions/15411967/how-can-i-check-if-code-is-executed-in-the-ipython-notebook\n",
    "    \"\"\"\n",
    "    try:\n",
    "        shell = get_ipython().__class__.__name__\n",
    "        if shell == 'ZMQInteractiveShell':\n",
    "            return True   # Jupyter notebook or qtconsole\n",
    "        elif shell == 'TerminalInteractiveShell':\n",
    "            return False  # Terminal running IPython\n",
    "        else:\n",
    "            return False  # Other type (?)\n",
    "    except NameError:\n",
    "        return False      # Probably standard Python interpreter"
   ]
  },
  {
   "cell_type": "code",
   "execution_count": 5,
   "metadata": {
    "id": "nC9NQOWlknww"
   },
   "outputs": [],
   "source": [
    "#get filepath of input and output\n",
    "def get_filepath():\n",
    "    parser = argparse.ArgumentParser()\n",
    "    parser.add_argument(\"-C\",\"-c\",\"--cyto\",dest = \"cytosol\", help = \"Cytosol instances file\")\n",
    "    parser.add_argument(\"-N\",\"-n\",\"--nuc\",dest = \"nuclear\",help = \"Nuclear instances file\")\n",
    "    args = parser.parse_args()\n",
    "    return args"
   ]
  },
  {
   "cell_type": "code",
   "execution_count": 6,
   "metadata": {
    "id": "pH4ODfClknwx"
   },
   "outputs": [],
   "source": [
    "# Count the frequency of k-mer in each RNA sequence\n",
    "# k-mer was normalized by total k-mer count of each RNA sequence\n",
    "def _count_kmer(Dataset,k): # k = 3,4,5\n",
    "\n",
    "    # copy dataset\n",
    "    dataset = copy.deepcopy(Dataset)\n",
    "    # alphbet of nucleotide\n",
    "    nucleotide = ['A','C','G','T']\n",
    "\n",
    "    # generate k-mers\n",
    "    #  k == 5:\n",
    "    five = list(itertools.product(nucleotide,repeat=5))\n",
    "    pentamer = []\n",
    "    for n in five:\n",
    "        pentamer.append(\"\".join(n))\n",
    "\n",
    "    #  k == 4:\n",
    "    four = list(itertools.product(nucleotide,repeat=4))\n",
    "    tetramer = []\n",
    "    for n in four:\n",
    "        tetramer.append(\"\".join(n))\n",
    "\n",
    "    # k == 3:\n",
    "    three = list(itertools.product(nucleotide,repeat=3))\n",
    "    threemer = []\n",
    "    for n in three:\n",
    "        threemer.append(\"\".join(n))\n",
    "\n",
    "    # input features can be combinations of diffrent k values\n",
    "    if k == 34:\n",
    "        table_kmer = dict.fromkeys(threemer,0)\n",
    "        table_kmer.update(dict.fromkeys(tetramer,0))\n",
    "    if k == 45:\n",
    "        table_kmer = dict.fromkeys(tetramer,0)\n",
    "        table_kmer.update(dict.fromkeys(pentamer,0))\n",
    "    if k == 345:\n",
    "        table_kmer = dict.fromkeys(threemer,0)\n",
    "        table_kmer.update(dict.fromkeys(tetramer,0))\n",
    "        table_kmer.update(dict.fromkeys(pentamer,0))\n",
    "\n",
    "    # count k-mer for each sequence\n",
    "    for mer in table_kmer.keys():\n",
    "        table_kmer[mer] = dataset[\"cdna\"].apply(lambda x : x.count(mer))\n",
    "\n",
    "    # for k-mer raw count without normalization, index: nuc:1 or cyto:0\n",
    "    rawcount_kmer_df = pd.DataFrame(table_kmer)\n",
    "    df1_rawcount = pd.concat([rawcount_kmer_df,dataset[\"ensembl_transcript_id\"]],axis = 1)\n",
    "    df1_rawcount.index = dataset[\"tag\"]\n",
    "\n",
    "    # for k-mer frequency with normalization , index: nuc:1 or cyto:0\n",
    "    freq_kmer_df = rawcount_kmer_df.apply(lambda x: x/x.sum(),axis=1)\n",
    "    df1 = pd.concat([freq_kmer_df,dataset[\"ensembl_transcript_id\"]],axis = 1)\n",
    "    df1.index = dataset[\"tag\"]\n",
    "\n",
    "    return df1,df1_rawcount"
   ]
  },
  {
   "cell_type": "code",
   "execution_count": 7,
   "metadata": {
    "id": "wgECwbTgknwz"
   },
   "outputs": [],
   "source": [
    "#Evaluate performance of model\n",
    "def evaluate_performance(y_test, y_pred, y_prob):\n",
    "    # AUROC\n",
    "    auroc = metrics.roc_auc_score(y_test,y_prob)\n",
    "    auroc_curve = metrics.roc_curve(y_test, y_prob)\n",
    "    # AUPRC\n",
    "    auprc=metrics.average_precision_score(y_test, y_prob)\n",
    "    auprc_curve=metrics.precision_recall_curve(y_test, y_prob)\n",
    "    #Accuracy\n",
    "    accuracy=metrics.accuracy_score(y_test,y_pred)\n",
    "    #MCC\n",
    "    mcc=metrics.matthews_corrcoef(y_test,y_pred)\n",
    "\n",
    "    recall=metrics.recall_score(y_test, y_pred)\n",
    "    precision=metrics.precision_score(y_test, y_pred)\n",
    "    f1=metrics.f1_score(y_test, y_pred)\n",
    "    class_report=metrics.classification_report(y_test, y_pred,target_names = [\"control\",\"case\"])\n",
    "\n",
    "    model_perf = {\"auroc\":auroc,\"auroc_curve\":auroc_curve,\n",
    "                  \"auprc\":auprc,\"auprc_curve\":auprc_curve,\n",
    "                  \"accuracy\":accuracy, \"mcc\": mcc,\n",
    "                  \"recall\":recall,\"precision\":precision,\"f1\":f1,\n",
    "                  \"class_report\":class_report}\n",
    "\n",
    "    return model_perf"
   ]
  },
  {
   "cell_type": "code",
   "execution_count": 8,
   "metadata": {
    "id": "lnhNI2LNknw2"
   },
   "outputs": [],
   "source": [
    "# Output result of evaluation\n",
    "def eval_output(model_perf,path):\n",
    "    with open(os.path.join(path,\"Evaluate_Result_TestSet.txt\"),'w') as f:\n",
    "        f.write(\"AUROC=%s\\tAUPRC=%s\\tAccuracy=%s\\tMCC=%s\\tRecall=%s\\tPrecision=%s\\tf1_score=%s\\n\" %\n",
    "               (model_perf[\"auroc\"],model_perf[\"auprc\"],model_perf[\"accuracy\"],model_perf[\"mcc\"],model_perf[\"recall\"],model_perf[\"precision\"],model_perf[\"f1\"]))\n",
    "        f.write(\"\\n######NOTE#######\\n\")\n",
    "        f.write(\"#According to help_documentation of sklearn.metrics.classification_report:in binary classification, recall of the positive class is also known as sensitivity; recall of the negative class is specificity#\\n\\n\")\n",
    "        f.write(model_perf[\"class_report\"])"
   ]
  },
  {
   "cell_type": "code",
   "execution_count": 9,
   "metadata": {
    "id": "nLIyHdwgknw3"
   },
   "outputs": [],
   "source": [
    "# Plot AUROC of model\n",
    "def plot_AUROC(model_perf,path):\n",
    "    #get AUROC,FPR,TPR and threshold\n",
    "    roc_auc = model_perf[\"auroc\"]\n",
    "    fpr,tpr,threshold = model_perf[\"auroc_curve\"]\n",
    "    #return AUROC info\n",
    "    temp_df = pd.DataFrame({\"FPR\":fpr,\"TPR\":tpr})\n",
    "    temp_df.to_csv(os.path.join(path,\"AUROC_info.txt\"),header = True,index = False, sep = '\\t')\n",
    "    #plot\n",
    "    plt.figure()\n",
    "    lw = 2\n",
    "    plt.figure(figsize=(10,10))\n",
    "    plt.plot(fpr, tpr, color='darkorange',\n",
    "             lw=lw, label='AUROC (area = %0.2f)' % roc_auc)\n",
    "    plt.plot([0, 1], [0, 1], color='navy', lw=lw, linestyle='--')\n",
    "    plt.xlim([0.0, 1.0])\n",
    "    plt.ylim([0.0, 1.0])\n",
    "    plt.xlabel(\"False Positive Rate\")\n",
    "    plt.ylabel(\"True Positive Rate\")\n",
    "    plt.title(\"AUROC of Models\")\n",
    "    plt.legend(loc=\"lower right\")\n",
    "    plt.savefig(os.path.join(path,\"AUROC_TestSet.pdf\"),format = \"pdf\")"
   ]
  },
  {
   "cell_type": "markdown",
   "metadata": {
    "id": "MXxJj9Kxknw3"
   },
   "source": [
    "***\n",
    "###   "
   ]
  },
  {
   "cell_type": "markdown",
   "metadata": {
    "id": "FlH01GE5knw4"
   },
   "source": [
    "##  2. Configution"
   ]
  },
  {
   "cell_type": "code",
   "execution_count": 10,
   "metadata": {
    "id": "wCB67pgjknw5"
   },
   "outputs": [],
   "source": [
    "# Random seed\n",
    "SEED = 100\n",
    "random.seed(SEED)\n",
    "np.random.seed(SEED)\n",
    "\n",
    "warnings.filterwarnings(action='ignore')\n",
    "\n",
    "# Output dir\n",
    "#output_dir = \"01_ML_Model_Output\"\n",
    "#if not (os.path.exists(output_dir)):\n",
    "#    os.mkdir(output_dir)"
   ]
  },
  {
   "cell_type": "markdown",
   "metadata": {
    "id": "H-2aVpMGknw6"
   },
   "source": [
    "***\n",
    "###   "
   ]
  },
  {
   "cell_type": "markdown",
   "metadata": {
    "id": "8AtB3uSuknw8"
   },
   "source": [
    "## 3. Data Processing"
   ]
  },
  {
   "cell_type": "code",
   "execution_count": 11,
   "metadata": {
    "colab": {
     "base_uri": "https://localhost:8080/"
    },
    "id": "9QsHXnuCsocV",
    "outputId": "7b9cede5-0a10-457e-aa14-6d2d7d8f4d83"
   },
   "outputs": [
    {
     "name": "stdout",
     "output_type": "stream",
     "text": [
      "2024-02-17 20:19:58.472146\n"
     ]
    }
   ],
   "source": [
    "print(datetime.now())"
   ]
  },
  {
   "cell_type": "code",
   "execution_count": 12,
   "metadata": {
    "colab": {
     "base_uri": "https://localhost:8080/"
    },
    "id": "gAsdYH0DknxQ",
    "outputId": "d599974a-fd57-4b1a-b42c-4897d5aa1811",
    "scrolled": true
   },
   "outputs": [
    {
     "name": "stdout",
     "output_type": "stream",
     "text": [
      "\n",
      "********************** Start Data Processing **************************\n",
      "\n",
      "********************** Finished Data Processing ***********************\n",
      "CPU times: user 35.7 s, sys: 6.54 ms, total: 35.7 s\n",
      "Wall time: 40.5 s\n"
     ]
    }
   ],
   "source": [
    "%%time\n",
    "print(\"\\n********************** Start Data Processing **************************\")\n",
    "\n",
    "# get input_file path\n",
    "if isnotebook():\n",
    "    #cyto_f = \"../../02_Dataset/02_lncRNA_info_cyto_transcript.tsv\"\n",
    "    #nuc_f = \"../../02_Dataset/02_lncRNA_info_nuc_transcript.tsv\"\n",
    "    cyto_f = DATA_DIR+\"02_lncRNA_info_cyto_transcript.tsv\"\n",
    "    nuc_f =  DATA_DIR+\"02_lncRNA_info_nuc_transcript.tsv\"\n",
    "else:\n",
    "    args = get_filepath()\n",
    "    cyto_f = args.cytosol\n",
    "    nuc_f = args.nuclear\n",
    "\n",
    "# load data\n",
    "dataset_cyto = pd.read_csv(cyto_f,sep='\\t',index_col = False)    #1806\n",
    "dataset_nuc = pd.read_csv(nuc_f,sep='\\t',index_col = False)    #1986\n",
    "# Set the tag of RCI(log2FC): nuclear 1 / cytosol 0\n",
    "dataset_nuc['tag'] = 1;dataset_cyto['tag'] = 0\n",
    "# merge the nuc and cyto dataset\n",
    "dataset = pd.concat([dataset_nuc,dataset_cyto]) # 3792\n",
    "# remove duplications(actually,each lncRNA is unique in its class)\n",
    "dataset.drop_duplicates(keep=\"first\",subset=[\"ensembl_transcript_id\",\"name\",\"cdna\"],inplace=True) # 3792\n",
    "\n",
    "# k = 3,4,5 count the normalized and raw count of kmer\n",
    "df_kmer_345,df_kmer_345_rawcount = _count_kmer(dataset,345)\n",
    "df_kmer_345.to_csv(os.path.join(output_dir,\"df_kmer345_freq.tsv\"),sep='\\t')\n",
    "df_kmer_345_rawcount.to_csv(os.path.join(output_dir,\"df_kmer345_rawcount.tsv\"),sep='\\t')\n",
    "# load kmer file\n",
    "# df_kmer_345 = pd.read_csv(os.path.join(output_dir,\"df_kmer345_freq.tsv\"),sep='\\t',index_col= 0)\n",
    "\n",
    "# convert to x:kmer-freq , y:label\n",
    "del df_kmer_345['ensembl_transcript_id']\n",
    "x_kmer = df_kmer_345.values\n",
    "y_kmer = y_kmer = np.array(df_kmer_345.index)\n",
    "# split into training and test sets (9:1)\n",
    "x_train, x_test, y_train, y_test = train_test_split(x_kmer, y_kmer, test_size = 0.1, random_state = SEED)\n",
    "\n",
    "print(\"\\n********************** Finished Data Processing ***********************\")"
   ]
  },
  {
   "cell_type": "markdown",
   "metadata": {
    "id": "jChLnA9_knxR"
   },
   "source": [
    "***\n",
    "###   "
   ]
  },
  {
   "cell_type": "markdown",
   "metadata": {
    "id": "AXVF9aEEknxR"
   },
   "source": [
    "## 3. Model Construction & Evaluation on Test set"
   ]
  },
  {
   "cell_type": "markdown",
   "metadata": {
    "id": "H6UNpHvqknxU"
   },
   "source": [
    "- LightGBM"
   ]
  },
  {
   "cell_type": "code",
   "execution_count": 13,
   "metadata": {
    "colab": {
     "base_uri": "https://localhost:8080/"
    },
    "id": "ViVtB_XEknxU",
    "outputId": "3708afe2-eab6-444b-c6e6-004a19bccdde"
   },
   "outputs": [
    {
     "name": "stdout",
     "output_type": "stream",
     "text": [
      "2024-02-17 20:20:39.027625\n",
      "\n",
      "*** LightGBM ***\n",
      "2024-02-17 20:20:39.027720\n",
      "RandomizedSearchCV\n",
      "2024-02-17 20:20:39.027955\n",
      "fit\n",
      "[LightGBM] [Info] Number of positive: 1790, number of negative: 1622\n",
      "[LightGBM] [Info] Auto-choosing col-wise multi-threading, the overhead of testing was 0.102927 seconds.\n",
      "You can set `force_col_wise=true` to remove the overhead.\n",
      "[LightGBM] [Info] Total Bins 339817\n",
      "[LightGBM] [Info] Number of data points in the train set: 3412, number of used features: 1344\n",
      "[LightGBM] [Info] [binary:BoostFromScore]: pavg=0.524619 -> initscore=0.098556\n",
      "[LightGBM] [Info] Start training from score 0.098556\n",
      "2024-02-18 08:22:13.230306\n",
      "AUROC during CV\n",
      "[0.7537774  0.73314998 0.74517208 0.7596386  0.73906821]\n",
      "2024-02-18 08:22:13.232015\n",
      "Get model\n",
      "2024-02-18 08:22:13.232810\n",
      "Save model\n",
      "2024-02-18 08:22:13.550585\n",
      "Test model\n",
      "y_pred\n",
      "[0 0 1 1 1 1 1 1 1 1 1 1 0 0 1 1 0 1 1 1 1 0 0 0 0 0 0 0 1 0 0 1 0 1 0 0 1\n",
      " 1 0 0 0 1 0 1 0 1 0 1 0 1 1 1 0 0 0 1 1 0 0 1 1 1 1 1 1 0 0 0 0 1 0 1 0 1\n",
      " 1 1 0 0 0 0 1 0 0 1 1 0 1 1 1 1 0 0 1 0 1 1 0 0 1 1 1 0 1 1 1 1 1 0 1 0 0\n",
      " 1 0 1 1 1 0 0 1 1 0 1 0 0 1 0 1 1 1 1 1 1 1 1 1 1 1 0 1 0 1 1 0 0 0 0 1 1\n",
      " 1 0 1 0 0 0 1 1 0 1 0 0 1 1 1 1 0 1 1 0 0 1 0 0 1 1 0 1 1 1 0 1 0 1 1 0 1\n",
      " 1 0 0 1 1 0 1 0 0 0 0 1 0 1 1 0 0 0 1 1 1 1 1 1 0 0 0 1 1 0 1 1 1 1 0 0 0\n",
      " 1 1 0 0 0 0 0 1 0 0 1 0 0 1 0 0 1 0 0 1 1 1 0 0 0 1 1 0 1 1 1 0 0 0 1 1 0\n",
      " 1 0 1 1 1 0 1 1 0 0 0 0 1 0 0 0 1 1 1 1 0 0 0 0 1 0 0 1 1 0 0 0 0 1 0 0 1\n",
      " 1 1 1 1 1 0 0 1 0 1 1 0 1 1 1 1 1 0 0 1 0 1 0 0 1 1 1 0 1 1 0 0 0 1 0 0 0\n",
      " 0 1 1 0 0 1 1 1 0 1 1 1 1 1 0 1 1 1 0 0 0 1 1 0 1 1 0 0 1 1 0 0 0 1 0 1 1\n",
      " 0 1 1 1 0 0 1 0 1 0]\n",
      "y_prob\n",
      "[0.18478584 0.32288757 0.99605799 0.98170919 0.88614388 0.5896384\n",
      " 0.73739846 0.98751758 0.87630583 0.95974479 0.80494811 0.81517668\n",
      " 0.06193503 0.2399927  0.69772967 0.90379611 0.45590584 0.96245869\n",
      " 0.7955737  0.93563293 0.63631677 0.07256818 0.0107056  0.01874084\n",
      " 0.18406648 0.08684911 0.04448365 0.02341221 0.8580201  0.11519366\n",
      " 0.04649705 0.744462   0.29251088 0.96173377 0.4099309  0.27204285\n",
      " 0.99198023 0.94496727 0.44405647 0.30001883 0.17483956 0.79339773\n",
      " 0.09582745 0.8491617  0.10716074 0.98521415 0.21404828 0.75726242\n",
      " 0.39187802 0.98404584 0.60540724 0.99856309 0.18324841 0.46372967\n",
      " 0.300505   0.76964761 0.70115612 0.32706647 0.06141467 0.98145308\n",
      " 0.99572316 0.92639522 0.98560939 0.83451517 0.91392093 0.10015594\n",
      " 0.07049144 0.33269533 0.11880519 0.77992955 0.43061951 0.80486879\n",
      " 0.03919427 0.97263168 0.73987325 0.89387942 0.46757139 0.30272054\n",
      " 0.09952684 0.05463571 0.57407177 0.00683342 0.09659063 0.7297786\n",
      " 0.94390555 0.16851947 0.81108246 0.95915298 0.7903718  0.92255304\n",
      " 0.16791215 0.05523587 0.98630417 0.20052967 0.95448914 0.94745792\n",
      " 0.13993588 0.48281602 0.84056576 0.95285091 0.7854881  0.32332793\n",
      " 0.78592859 0.93477262 0.88281763 0.84196939 0.71502272 0.40895283\n",
      " 0.92223385 0.05723008 0.40602167 0.97643877 0.24069498 0.85035786\n",
      " 0.81863727 0.99279594 0.04586199 0.2374242  0.96007387 0.91371036\n",
      " 0.10418298 0.68486192 0.10784921 0.14408432 0.56880002 0.28110334\n",
      " 0.64060714 0.98954401 0.97985288 0.51756091 0.52822085 0.97580576\n",
      " 0.86824442 0.93327967 0.83397867 0.68645008 0.94290144 0.01457855\n",
      " 0.90619026 0.08354411 0.77257633 0.64755509 0.02038367 0.27304282\n",
      " 0.34559207 0.04611311 0.65122293 0.99317173 0.92660892 0.23108656\n",
      " 0.80793923 0.01385266 0.05071578 0.09065828 0.95468229 0.89394689\n",
      " 0.45257425 0.93385162 0.38260051 0.16034823 0.84787724 0.96345403\n",
      " 0.78725069 0.99468982 0.06658835 0.83787721 0.99514034 0.06153564\n",
      " 0.06971967 0.76343486 0.06335891 0.07075854 0.77199832 0.76649589\n",
      " 0.39305381 0.52620153 0.99514251 0.63725833 0.17454965 0.65705456\n",
      " 0.02788347 0.75744146 0.95678373 0.25729394 0.79523745 0.98781045\n",
      " 0.19007639 0.07297907 0.64003129 0.68947628 0.35797538 0.90508261\n",
      " 0.27944155 0.46952083 0.44345224 0.23342447 0.58440409 0.16473712\n",
      " 0.562956   0.96009938 0.11640192 0.05066319 0.26771389 0.93644495\n",
      " 0.50628382 0.96800384 0.55864335 0.97537485 0.85553886 0.05104033\n",
      " 0.01596405 0.18377515 0.99338271 0.57153075 0.12842431 0.95968558\n",
      " 0.9883106  0.57542712 0.98695041 0.00923773 0.12696037 0.05043766\n",
      " 0.70867073 0.62829192 0.21501372 0.25833377 0.33356434 0.01025359\n",
      " 0.14419077 0.85244701 0.40645957 0.01355874 0.91894958 0.01165703\n",
      " 0.23791976 0.94354559 0.43624236 0.35446332 0.9923406  0.15392324\n",
      " 0.05608561 0.90713733 0.97820897 0.92242463 0.25693307 0.29447159\n",
      " 0.04820624 0.54108566 0.53370824 0.45334761 0.92224118 0.96275912\n",
      " 0.78522098 0.19428783 0.00887636 0.27805192 0.71201825 0.80472868\n",
      " 0.21905191 0.96310889 0.14225264 0.67941602 0.93515854 0.88391133\n",
      " 0.05579245 0.6423532  0.80588493 0.02967675 0.32081541 0.12518257\n",
      " 0.22019283 0.92089853 0.45755297 0.06968372 0.30544152 0.98231086\n",
      " 0.83582898 0.95872953 0.76853507 0.03626353 0.11633361 0.43947775\n",
      " 0.41057155 0.99794455 0.26798102 0.39059648 0.93363957 0.99295377\n",
      " 0.07418391 0.37329238 0.05445535 0.41626253 0.50701445 0.24225664\n",
      " 0.14208966 0.96214713 0.92680852 0.98077138 0.92225656 0.81620955\n",
      " 0.98643359 0.08163723 0.23170318 0.78787034 0.28313856 0.94104121\n",
      " 0.94231328 0.35222302 0.94104504 0.63180678 0.56882446 0.72754122\n",
      " 0.86327357 0.25870733 0.18417121 0.95263099 0.25500355 0.78089447\n",
      " 0.39458012 0.33609705 0.51226984 0.96771451 0.91559482 0.0988548\n",
      " 0.76765312 0.99613149 0.21114143 0.22880498 0.44662482 0.99131502\n",
      " 0.05386453 0.2078062  0.24642262 0.47290448 0.86831456 0.95939114\n",
      " 0.29583866 0.13015371 0.62530301 0.51130896 0.94350901 0.08599325\n",
      " 0.84408891 0.55750918 0.90816703 0.99529307 0.78313572 0.29089168\n",
      " 0.93258646 0.93426704 0.83109194 0.06961569 0.35894654 0.21761439\n",
      " 0.71828343 0.99660933 0.16506965 0.6948763  0.98690144 0.31305589\n",
      " 0.49336093 0.6140603  0.62558583 0.43371294 0.16218243 0.42581495\n",
      " 0.50477401 0.22250725 0.9194122  0.55274936 0.01540561 0.55900251\n",
      " 0.95527281 0.92934514 0.49777986 0.03340656 0.8294345  0.14374435\n",
      " 0.83905532 0.43114967]\n",
      "2024-02-18 08:22:13.780661\n",
      "Done\n",
      "CPU times: user 10min 50s, sys: 1min 15s, total: 12min 6s\n",
      "Wall time: 12h 1min 34s\n"
     ]
    }
   ],
   "source": [
    "%%time\n",
    "print(datetime.now())\n",
    "print(\"\\n*** LightGBM ***\")\n",
    "\n",
    "# LightGBM params\n",
    "lgb_param_dict = {\n",
    "    \"learning_rate\":[0.1, 0.05, 0.02, 0.01],\n",
    "    \"num_leaves\": range(10,36,5),\n",
    "    \"max_depth\" : [2,3,4,5,10,20,40,50],\n",
    "    \"min_child_samples\": range(1, 45, 2),\n",
    "    \"colsample_bytree\" : [i / 10 for i in range(2,11)],\n",
    "    \"metric\" : [\"binary_logloss\"],\n",
    "    \"n_jobs\":[1],\n",
    "    \"n_estimators\" : range(100,2500,100),\n",
    "    \"subsample\" :  [i / 10 for i in range(2, 11)],\n",
    "    \"subsample_freq\" : [0, 1, 2],\n",
    "    \"reg_alpha\" : [0, 0.001, 0.005, 0.01, 0.1],\n",
    "    \"reg_lambda\" : [0, 0.001, 0.005, 0.01, 0.1],\n",
    "    \"objective\":[\"binary\"],\n",
    "    \"random_state\":[SEED]\n",
    "}\n",
    "\n",
    "#Initiate model\n",
    "lgb_model = lgb.LGBMClassifier()\n",
    "#Adjust hyper-parameters with 5-fold cross validation\n",
    "print(datetime.now())\n",
    "print('RandomizedSearchCV')\n",
    "lgb_rscv = RandomizedSearchCV(lgb_model, lgb_param_dict, n_iter=1000,cv = 5,verbose = 0,\n",
    "                          scoring = \"roc_auc\",random_state=SEED,n_jobs = 30)\n",
    "\n",
    "print(datetime.now())\n",
    "print('fit')\n",
    "lgb_rscv.fit(x_train, y_train)\n",
    "\n",
    "#Evaluate best LightGBM model\n",
    "#Output path\n",
    "#path = os.path.join(output_dir,\"LightGBM\")\n",
    "#if not (os.path.exists(path)):\n",
    "#    os.mkdir(path)\n",
    "\n",
    "# Model performance(AUROC) on cross-validation dataset\n",
    "print(datetime.now())\n",
    "print('AUROC during CV')\n",
    "lgb_cv_perf = np.array([ lgb_rscv.cv_results_[\"split%s_test_score\"%str(i)] for i in range(5)])[:,lgb_rscv.best_index_]\n",
    "print(lgb_cv_perf)\n",
    "\n",
    "#Get best model with score [max(mean(auc(5 cross validation)))]\n",
    "print(datetime.now())\n",
    "print('Get model')\n",
    "lgb_best_model = lgb_rscv.best_estimator_\n",
    "\n",
    "#save model\n",
    "print(datetime.now())\n",
    "print('Save model')\n",
    "#joblib.dump(lgb_best_model,os.path.join(path,\"best_LightGBM_model.pkl\"))\n",
    "joblib.dump(lgb_best_model,MODEL_DIR+\"best_LightGBM_model.pkl\")\n",
    "#load model\n",
    "#lgb_best_model = joblib.load(os.path.join(path,\"best_LightGBM_model.pkl\"))\n",
    "\n",
    "print(datetime.now())\n",
    "print('Test model')\n",
    "#Get predict_class(y_pred) and predict_probality_for_case(y_prob) of TestSet\n",
    "y_pred = lgb_best_model.predict(x_test)\n",
    "y_prob = lgb_best_model.predict_proba(x_test)[:,1]\n",
    "\n",
    "print('y_pred')\n",
    "print(y_pred)\n",
    "print('y_prob')\n",
    "print(y_prob)\n",
    "\n",
    "#Get model performance\n",
    "#model_perf = evaluate_performance(y_test,y_pred,y_prob)\n",
    "\n",
    "#Output result of evaluation\n",
    "#eval_output(model_perf,path)\n",
    "#You can make bar plot consisted of accuracy,sensitivity,specificity,auroc,f1 score,MCC,precision,recall,auprc according to the \"Evaluate_Result_TestSet.txt\"\n",
    "# Plot AUROC\n",
    "#plot_AUROC(model_perf,path)\n",
    "\n",
    "print(datetime.now())\n",
    "print('Done')"
   ]
  },
  {
   "cell_type": "markdown",
   "metadata": {
    "id": "coHgOY0-knxW"
   },
   "source": [
    "***\n",
    "###   "
   ]
  },
  {
   "cell_type": "markdown",
   "metadata": {
    "id": "Nad-1Lm3knxX"
   },
   "source": [
    "***\n",
    "###   "
   ]
  },
  {
   "cell_type": "code",
   "execution_count": 2,
   "metadata": {
    "id": "eR5caiPkknxa"
   },
   "outputs": [
    {
     "name": "stdout",
     "output_type": "stream",
     "text": [
      "0.7461612540000001 0.009594034861186637\n"
     ]
    }
   ],
   "source": [
    "# Get mean after the run\n",
    "import numpy as np\n",
    "light_auroc = [0.7537774, 0.73314998, 0.74517208, 0.7596386,  0.73906821]\n",
    "print(np.mean(light_auroc), np.std(light_auroc))"
   ]
  },
  {
   "cell_type": "code",
   "execution_count": null,
   "metadata": {},
   "outputs": [],
   "source": []
  }
 ],
 "metadata": {
  "accelerator": "GPU",
  "colab": {
   "gpuType": "A100",
   "machine_shape": "hm",
   "provenance": []
  },
  "kernelspec": {
   "display_name": "Python 3 (ipykernel)",
   "language": "python",
   "name": "python3"
  },
  "language_info": {
   "codemirror_mode": {
    "name": "ipython",
    "version": 3
   },
   "file_extension": ".py",
   "mimetype": "text/x-python",
   "name": "python",
   "nbconvert_exporter": "python",
   "pygments_lexer": "ipython3",
   "version": "3.11.6"
  },
  "toc-autonumbering": false,
  "toc-showcode": true,
  "toc-showmarkdowntxt": true
 },
 "nbformat": 4,
 "nbformat_minor": 4
}
