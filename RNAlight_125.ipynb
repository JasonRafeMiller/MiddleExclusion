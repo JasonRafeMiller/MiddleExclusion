{
 "cells": [
  {
   "cell_type": "markdown",
   "id": "84383dfa-5a59-4721-a803-d279c5911b71",
   "metadata": {
    "id": "84383dfa-5a59-4721-a803-d279c5911b71"
   },
   "source": [
    "# LightGBM from pickle\n",
    "Pick up from RNAlight_122, which optimized LightGBM by RandomizedCV,\n",
    "then saved the model to a pickle file, all using RNAlight code.    \n",
    "Here, analyze and test the model."
   ]
  },
  {
   "cell_type": "code",
   "execution_count": 1,
   "id": "wnzwC7eag2m4",
   "metadata": {
    "colab": {
     "base_uri": "https://localhost:8080/"
    },
    "id": "wnzwC7eag2m4",
    "outputId": "64f1408b-d6f9-4f66-b90e-a2b5f57a9dda"
   },
   "outputs": [
    {
     "name": "stdout",
     "output_type": "stream",
     "text": [
      "2024-02-20 14:19:18.416983\n"
     ]
    }
   ],
   "source": [
    "import time\n",
    "from datetime import datetime\n",
    "print(datetime.now())"
   ]
  },
  {
   "cell_type": "code",
   "execution_count": 2,
   "id": "2e011e55-1e7c-44cb-a22b-908be4d5286b",
   "metadata": {
    "id": "2e011e55-1e7c-44cb-a22b-908be4d5286b"
   },
   "outputs": [],
   "source": [
    "# Python import\n",
    "import os\n",
    "import copy\n",
    "import random\n",
    "import collections\n",
    "import itertools\n",
    "import numpy as np\n",
    "import pandas as pd\n",
    "import lightgbm as lgb\n",
    "import warnings\n",
    "from sklearn import svm\n",
    "#from sklearn.externals import joblib\n",
    "import joblib\n",
    "from sklearn.ensemble import RandomForestClassifier\n",
    "from sklearn.model_selection import train_test_split,RandomizedSearchCV\n",
    "import sklearn.metrics as metrics\n",
    "from sklearn.linear_model import LogisticRegression\n",
    "import matplotlib.pyplot as plt"
   ]
  },
  {
   "cell_type": "code",
   "execution_count": 3,
   "id": "rVL3ONtcN-xP",
   "metadata": {
    "colab": {
     "base_uri": "https://localhost:8080/"
    },
    "id": "rVL3ONtcN-xP",
    "outputId": "bde4e61c-6124-45f2-d4d9-2ba2d3c4ad23"
   },
   "outputs": [
    {
     "name": "stdout",
     "output_type": "stream",
     "text": [
      "Running on CoLab\n",
      "Mounted at /content/drive/\n",
      "DATA DIR /content/drive/My Drive/data/Localization/RNAlight/\n"
     ]
    }
   ],
   "source": [
    "try:\n",
    "    from google.colab import drive\n",
    "    IN_COLAB = True\n",
    "    print('Running on CoLab')\n",
    "    PATH='/content/drive/'\n",
    "    drive.mount(PATH)\n",
    "    DATA_DIR=PATH+'My Drive/data/Localization/RNAlight/'  # must end in \"/\"\n",
    "    MODEL_DIR=PATH+'My Drive/data/Localization/RNAlight/'  # must end in \"/\"\n",
    "    output_dir=PATH+'My Drive/data/Localization/RNAlight/'\n",
    "except:\n",
    "    IN_COLAB = False\n",
    "    DATA_DIR = './'    # Mac\n",
    "    MODEL_DIR = './'    # Mac\n",
    "    output_dir = './'\n",
    "print('DATA DIR', DATA_DIR)"
   ]
  },
  {
   "cell_type": "markdown",
   "id": "08f75c01-683c-406a-a346-da807905a91d",
   "metadata": {
    "id": "08f75c01-683c-406a-a346-da807905a91d"
   },
   "source": [
    "## Miniature version on Mac\n",
    "The mac version was only optimized for 10 iterations of CV as a test.\n",
    "See RNAlight_01_ML_lncRNA.mac.ipynb"
   ]
  },
  {
   "cell_type": "code",
   "execution_count": 4,
   "id": "7925d483-cabe-435c-9bea-1365955cf2c3",
   "metadata": {
    "id": "7925d483-cabe-435c-9bea-1365955cf2c3"
   },
   "outputs": [],
   "source": [
    "if False:\n",
    "  mac = 'mac.best_LightGBM_model.pkl'\n",
    "  obj = joblib.load(mac)\n",
    "  print(obj)\n",
    "  vars(obj)"
   ]
  },
  {
   "cell_type": "markdown",
   "id": "BFwEkQQ1PlA1",
   "metadata": {
    "id": "BFwEkQQ1PlA1"
   },
   "source": [
    "{'boosting_type': 'gbdt',\n",
    " 'objective': 'binary',\n",
    " 'num_leaves': 20,\n",
    " 'max_depth': 40,\n",
    " 'learning_rate': 0.02,\n",
    " 'n_estimators': 400,\n",
    " 'subsample_for_bin': 200000,\n",
    " 'min_split_gain': 0.0,\n",
    " 'min_child_weight': 0.001,\n",
    " 'min_child_samples': 37,\n",
    " 'subsample': 0.8,\n",
    " 'subsample_freq': 1,\n",
    " 'colsample_bytree': 0.6,\n",
    " 'reg_alpha': 0.005,\n",
    " 'reg_lambda': 0.001,\n",
    " 'random_state': 100,\n",
    " 'n_jobs': 1,\n",
    " 'importance_type': 'split',\n",
    " '_Booster': <lightgbm.basic.Booster at 0x11a0d6250>,\n",
    " '_evals_result': {},\n",
    " '_best_score': defaultdict(collections.OrderedDict, {}),\n",
    " '_best_iteration': 0,\n",
    " '_other_params': {'subsample_freq': 1,\n",
    "  'subsample': 0.8,\n",
    "  'reg_lambda': 0.001,\n",
    "  'reg_alpha': 0.005,\n",
    "  'random_state': 100,\n",
    "  'objective': 'binary',\n",
    "  'num_leaves': 20,\n",
    "  'n_jobs': 1,\n",
    "  'n_estimators': 400,\n",
    "  'min_child_samples': 37,\n",
    "  'metric': 'binary_logloss',\n",
    "  'max_depth': 40,\n",
    "  'learning_rate': 0.02,\n",
    "  'colsample_bytree': 0.6},\n",
    " '_objective': 'binary',\n",
    " 'class_weight': None,\n",
    " '_class_weight': None,\n",
    " '_class_map': {0: 0, 1: 1},\n",
    " '_n_features': 1344,\n",
    " '_n_features_in': 1344,\n",
    " '_classes': array([0, 1]),\n",
    " '_n_classes': 2,\n",
    " 'metric': 'binary_logloss',\n",
    " '_le': LabelEncoder(),\n",
    " 'fitted_': True}"
   ]
  },
  {
   "cell_type": "markdown",
   "id": "3ad524f7-a4a1-4cbc-ac7c-236681bf9c71",
   "metadata": {
    "id": "3ad524f7-a4a1-4cbc-ac7c-236681bf9c71"
   },
   "source": [
    "## Full version on CoLab\n",
    "The colab version was optimized for the full 10000 iterations."
   ]
  },
  {
   "cell_type": "code",
   "execution_count": 5,
   "id": "d69498c7-b086-49b3-b1d3-c39b9a7af2ea",
   "metadata": {
    "colab": {
     "base_uri": "https://localhost:8080/"
    },
    "id": "d69498c7-b086-49b3-b1d3-c39b9a7af2ea",
    "outputId": "25906ffe-f1b4-461f-fd07-93dbebe5e3f2"
   },
   "outputs": [
    {
     "name": "stdout",
     "output_type": "stream",
     "text": [
      "LGBMClassifier(colsample_bytree=0.5, learning_rate=0.01, max_depth=40,\n",
      "               metric='binary_logloss', min_child_samples=9, n_estimators=2200,\n",
      "               n_jobs=1, num_leaves=35, objective='binary', random_state=100,\n",
      "               reg_alpha=0.005, reg_lambda=0, subsample=0.6, subsample_freq=1)\n"
     ]
    }
   ],
   "source": [
    "model_file = DATA_DIR+'best_LightGBM_model.pkl'\n",
    "lgb_best_model = joblib.load(model_file)\n",
    "print(lgb_best_model)"
   ]
  },
  {
   "cell_type": "code",
   "execution_count": 6,
   "id": "84b6da2f-e0e8-4648-8166-e9b1458fd42c",
   "metadata": {
    "id": "84b6da2f-e0e8-4648-8166-e9b1458fd42c"
   },
   "outputs": [],
   "source": [
    "# vars(obj)"
   ]
  },
  {
   "cell_type": "markdown",
   "id": "L0o1n_CrPvdZ",
   "metadata": {
    "id": "L0o1n_CrPvdZ"
   },
   "source": [
    "{'boosting_type': 'gbdt',\n",
    " 'objective': 'binary',\n",
    " 'num_leaves': 35,\n",
    " 'max_depth': 40,\n",
    " 'learning_rate': 0.01,\n",
    " 'n_estimators': 2200,\n",
    " 'subsample_for_bin': 200000,\n",
    " 'min_split_gain': 0.0,\n",
    " 'min_child_weight': 0.001,\n",
    " 'min_child_samples': 9,\n",
    " 'subsample': 0.6,\n",
    " 'subsample_freq': 1,\n",
    " 'colsample_bytree': 0.5,\n",
    " 'reg_alpha': 0.005,\n",
    " 'reg_lambda': 0,\n",
    " 'random_state': 100,\n",
    " 'n_jobs': 1,\n",
    " 'importance_type': 'split',\n",
    " '_Booster': <lightgbm.basic.Booster at 0x79978967b340>,\n",
    " '_evals_result': {},\n",
    " '_best_score': defaultdict(collections.OrderedDict, {}),\n",
    " '_best_iteration': 0,\n",
    " '_other_params': {'metric': 'binary_logloss'},\n",
    " '_objective': 'binary',\n",
    " 'class_weight': None,\n",
    " '_class_weight': None,\n",
    " '_class_map': {0: 0, 1: 1},\n",
    " '_n_features': 1344,\n",
    " '_n_features_in': 1344,\n",
    " '_classes': array([0, 1]),\n",
    " '_n_classes': 2,\n",
    " 'metric': 'binary_logloss',\n",
    " '_le': LabelEncoder(),\n",
    " 'fitted_': True}"
   ]
  },
  {
   "cell_type": "code",
   "execution_count": 7,
   "id": "w9nPBwWim2Io",
   "metadata": {
    "colab": {
     "base_uri": "https://localhost:8080/"
    },
    "id": "w9nPBwWim2Io",
    "outputId": "6d8434a6-141a-42eb-f558-e5aa07b2192b"
   },
   "outputs": [
    {
     "name": "stdout",
     "output_type": "stream",
     "text": [
      "{'boosting_type': 'gbdt', 'class_weight': None, 'colsample_bytree': 0.5, 'importance_type': 'split', 'learning_rate': 0.01, 'max_depth': 40, 'min_child_samples': 9, 'min_child_weight': 0.001, 'min_split_gain': 0.0, 'n_estimators': 2200, 'n_jobs': 1, 'num_leaves': 35, 'objective': 'binary', 'random_state': 100, 'reg_alpha': 0.005, 'reg_lambda': 0, 'subsample': 0.6, 'subsample_for_bin': 200000, 'subsample_freq': 1, 'metric': 'binary_logloss'}\n"
     ]
    }
   ],
   "source": [
    "hyperparams=lgb_best_model.get_params()\n",
    "print(hyperparams)"
   ]
  },
  {
   "cell_type": "markdown",
   "id": "328Ny8OXb81f",
   "metadata": {
    "id": "328Ny8OXb81f"
   },
   "source": [
    "## Cross-validation\n",
    "The grid search is performed during 5FCV.\n",
    "The best model is taken from the one fold with highest AUROC.\n",
    "That model is not retrained on the entire training set.\n",
    "Not possible for us to reproduce the 5FCV exactly because it relies on RandomizedSearchCV to make the train/valid splits.\n",
    "Also, the LGBM API train() method takes number of iterations \\(epochs\\), which we don't know."
   ]
  },
  {
   "cell_type": "code",
   "execution_count": 8,
   "id": "9cam_QUMb7_d",
   "metadata": {
    "id": "9cam_QUMb7_d"
   },
   "outputs": [],
   "source": [
    "#Evaluate performance of model\n",
    "def evaluate_performance(y_test, y_pred, y_prob):\n",
    "    # AUROC\n",
    "    auroc = metrics.roc_auc_score(y_test,y_prob)\n",
    "    auroc_curve = metrics.roc_curve(y_test, y_prob)\n",
    "    # AUPRC\n",
    "    auprc=metrics.average_precision_score(y_test, y_prob)\n",
    "    auprc_curve=metrics.precision_recall_curve(y_test, y_prob)\n",
    "    #Accuracy\n",
    "    accuracy=metrics.accuracy_score(y_test,y_pred)\n",
    "    #MCC\n",
    "    mcc=metrics.matthews_corrcoef(y_test,y_pred)\n",
    "\n",
    "    recall=metrics.recall_score(y_test, y_pred)\n",
    "    precision=metrics.precision_score(y_test, y_pred)\n",
    "    f1=metrics.f1_score(y_test, y_pred)\n",
    "    class_report=metrics.classification_report(y_test, y_pred,target_names = [\"control\",\"case\"])\n",
    "\n",
    "    model_perf = {\"auroc\":auroc,\"auroc_curve\":auroc_curve,\n",
    "                  \"auprc\":auprc,\"auprc_curve\":auprc_curve,\n",
    "                  \"accuracy\":accuracy, \"mcc\": mcc,\n",
    "                  \"recall\":recall,\"precision\":precision,\"f1\":f1,\n",
    "                  \"class_report\":class_report}\n",
    "\n",
    "    return model_perf"
   ]
  },
  {
   "cell_type": "code",
   "execution_count": 9,
   "id": "GQDQXrC3gbe3",
   "metadata": {
    "id": "GQDQXrC3gbe3"
   },
   "outputs": [],
   "source": [
    "# Count the frequency of k-mer in each RNA sequence\n",
    "# k-mer was normalized by total k-mer count of each RNA sequence\n",
    "def _count_kmer(Dataset,k): # k = 3,4,5\n",
    "\n",
    "    # copy dataset\n",
    "    dataset = copy.deepcopy(Dataset)\n",
    "    # alphbet of nucleotide\n",
    "    nucleotide = ['A','C','G','T']\n",
    "\n",
    "    # generate k-mers\n",
    "    #  k == 5:\n",
    "    five = list(itertools.product(nucleotide,repeat=5))\n",
    "    pentamer = []\n",
    "    for n in five:\n",
    "        pentamer.append(\"\".join(n))\n",
    "\n",
    "    #  k == 4:\n",
    "    four = list(itertools.product(nucleotide,repeat=4))\n",
    "    tetramer = []\n",
    "    for n in four:\n",
    "        tetramer.append(\"\".join(n))\n",
    "\n",
    "    # k == 3:\n",
    "    three = list(itertools.product(nucleotide,repeat=3))\n",
    "    threemer = []\n",
    "    for n in three:\n",
    "        threemer.append(\"\".join(n))\n",
    "\n",
    "    # input features can be combinations of diffrent k values\n",
    "    if k == 34:\n",
    "        table_kmer = dict.fromkeys(threemer,0)\n",
    "        table_kmer.update(dict.fromkeys(tetramer,0))\n",
    "    if k == 45:\n",
    "        table_kmer = dict.fromkeys(tetramer,0)\n",
    "        table_kmer.update(dict.fromkeys(pentamer,0))\n",
    "    if k == 345:\n",
    "        table_kmer = dict.fromkeys(threemer,0)\n",
    "        table_kmer.update(dict.fromkeys(tetramer,0))\n",
    "        table_kmer.update(dict.fromkeys(pentamer,0))\n",
    "\n",
    "    # count k-mer for each sequence\n",
    "    for mer in table_kmer.keys():\n",
    "        table_kmer[mer] = dataset[\"cdna\"].apply(lambda x : x.count(mer))\n",
    "\n",
    "    # for k-mer raw count without normalization, index: nuc:1 or cyto:0\n",
    "    rawcount_kmer_df = pd.DataFrame(table_kmer)\n",
    "    df1_rawcount = pd.concat([rawcount_kmer_df,dataset[\"ensembl_transcript_id\"]],axis = 1)\n",
    "    df1_rawcount.index = dataset[\"tag\"]\n",
    "\n",
    "    # for k-mer frequency with normalization , index: nuc:1 or cyto:0\n",
    "    freq_kmer_df = rawcount_kmer_df.apply(lambda x: x/x.sum(),axis=1)\n",
    "    df1 = pd.concat([freq_kmer_df,dataset[\"ensembl_transcript_id\"]],axis = 1)\n",
    "    df1.index = dataset[\"tag\"]\n",
    "\n",
    "    return df1,df1_rawcount"
   ]
  },
  {
   "cell_type": "code",
   "execution_count": 10,
   "id": "ofA_SRMogn59",
   "metadata": {
    "id": "ofA_SRMogn59"
   },
   "outputs": [],
   "source": [
    "SEED = 100"
   ]
  },
  {
   "cell_type": "code",
   "execution_count": 11,
   "id": "itXqut9of4nQ",
   "metadata": {
    "id": "itXqut9of4nQ"
   },
   "outputs": [],
   "source": [
    "# load data\n",
    "cyto_f = DATA_DIR+\"02_lncRNA_info_cyto_transcript.tsv\"\n",
    "nuc_f =  DATA_DIR+\"02_lncRNA_info_nuc_transcript.tsv\"\n",
    "\n",
    "dataset_cyto = pd.read_csv(cyto_f,sep='\\t',index_col = False)    #1806\n",
    "dataset_nuc = pd.read_csv(nuc_f,sep='\\t',index_col = False)    #1986\n",
    "# Set the tag of RCI(log2FC): nuclear 1 / cytosol 0\n",
    "dataset_nuc['tag'] = 1;dataset_cyto['tag'] = 0\n",
    "# merge the nuc and cyto dataset\n",
    "dataset = pd.concat([dataset_nuc,dataset_cyto]) # 3792\n",
    "# remove duplications(actually,each lncRNA is unique in its class)\n",
    "dataset.drop_duplicates(keep=\"first\",subset=[\"ensembl_transcript_id\",\"name\",\"cdna\"],inplace=True) # 3792\n",
    "\n",
    "# k = 3,4,5 count the normalized and raw count of kmer\n",
    "df_kmer_345,df_kmer_345_rawcount = _count_kmer(dataset,345)\n",
    "df_kmer_345.to_csv(os.path.join(output_dir,\"df_kmer345_freq.tsv\"),sep='\\t')\n",
    "df_kmer_345_rawcount.to_csv(os.path.join(output_dir,\"df_kmer345_rawcount.tsv\"),sep='\\t')\n",
    "# load kmer file\n",
    "# df_kmer_345 = pd.read_csv(os.path.join(output_dir,\"df_kmer345_freq.tsv\"),sep='\\t',index_col= 0)\n",
    "\n",
    "# convert to x:kmer-freq , y:label\n",
    "del df_kmer_345['ensembl_transcript_id']\n",
    "x_kmer = df_kmer_345.values\n",
    "y_kmer = y_kmer = np.array(df_kmer_345.index)\n",
    "# split into training and test sets (9:1)\n",
    "x_train, x_test, y_train, y_test = train_test_split(x_kmer, y_kmer, test_size = 0.1, random_state = SEED)\n"
   ]
  },
  {
   "cell_type": "code",
   "execution_count": 15,
   "id": "F1_YnSfk5pu8",
   "metadata": {
    "colab": {
     "base_uri": "https://localhost:8080/"
    },
    "id": "F1_YnSfk5pu8",
    "outputId": "a0505024-1976-4a44-a05d-b04f2fece455"
   },
   "outputs": [
    {
     "name": "stdout",
     "output_type": "stream",
     "text": [
      "Train set balance:\n",
      "[0 1]\n",
      "[1622 1790]\n",
      "Test set balance:\n",
      "[0 1]\n",
      "[184 196]\n"
     ]
    }
   ],
   "source": [
    "print('Train set balance:')\n",
    "unique,counts = np.unique(y_train, return_counts=True)\n",
    "print(unique)\n",
    "print(counts)\n",
    "print('Test set balance:')\n",
    "unique,counts = np.unique(y_test, return_counts=True)\n",
    "print(unique)\n",
    "print(counts)"
   ]
  },
  {
   "cell_type": "markdown",
   "id": "9Gi0j3-ehv2W",
   "metadata": {
    "id": "9Gi0j3-ehv2W"
   },
   "source": [
    "## Test set performance"
   ]
  },
  {
   "cell_type": "code",
   "execution_count": 16,
   "id": "KQkXsO-yfvAi",
   "metadata": {
    "colab": {
     "base_uri": "https://localhost:8080/"
    },
    "id": "KQkXsO-yfvAi",
    "outputId": "0c1a369e-5d8b-424c-fb88-2cbf695e0547"
   },
   "outputs": [
    {
     "name": "stdout",
     "output_type": "stream",
     "text": [
      "2024-02-20 14:25:52.254964\n",
      "Test model\n",
      "Predictions balance:\n",
      "[0 1]\n",
      "[176 204]\n",
      "Done\n"
     ]
    }
   ],
   "source": [
    "print(datetime.now())\n",
    "print('Test model')\n",
    "#Get predict_class(y_pred) and predict_probality_for_case(y_prob) of TestSet\n",
    "y_pred = lgb_best_model.predict(x_test)\n",
    "y_prob = lgb_best_model.predict_proba(x_test)[:,1]\n",
    "print('Predictions balance:')\n",
    "unique,counts = np.unique(y_pred, return_counts=True)\n",
    "print(unique)\n",
    "print(counts)\n",
    "print('Done')"
   ]
  },
  {
   "cell_type": "code",
   "execution_count": 13,
   "id": "O38vvcwuhBiV",
   "metadata": {
    "colab": {
     "base_uri": "https://localhost:8080/"
    },
    "id": "O38vvcwuhBiV",
    "outputId": "1885723b-0e54-48ea-b8c1-b41d01cf3918"
   },
   "outputs": [
    {
     "name": "stdout",
     "output_type": "stream",
     "text": [
      "auroc 0.7765361579414375\n",
      "auprc 0.7733995967254652\n",
      "accuracy 0.7052631578947368\n",
      "mcc 0.40951635220331667\n",
      "recall 0.7346938775510204\n",
      "precision 0.7058823529411765\n",
      "f1 0.7200000000000001\n",
      "class_report               precision    recall  f1-score   support\n",
      "\n",
      "     control       0.70      0.67      0.69       184\n",
      "        case       0.71      0.73      0.72       196\n",
      "\n",
      "    accuracy                           0.71       380\n",
      "   macro avg       0.71      0.70      0.70       380\n",
      "weighted avg       0.71      0.71      0.70       380\n",
      "\n"
     ]
    }
   ],
   "source": [
    "print('RNAlight statistics code')\n",
    "model_perf = evaluate_performance(y_test,y_pred,y_prob)\n",
    "for k,v in model_perf.items():\n",
    "    if not k.endswith('_curve'):\n",
    "        print(k, v)"
   ]
  },
  {
   "cell_type": "code",
   "execution_count": 17,
   "id": "PbMV2rp16tHs",
   "metadata": {
    "colab": {
     "base_uri": "https://localhost:8080/"
    },
    "id": "PbMV2rp16tHs",
    "outputId": "187b1df8-ce7c-4896-a0d5-0f00248346a4"
   },
   "outputs": [
    {
     "name": "stdout",
     "output_type": "stream",
     "text": [
      "sklearn statistics code\n"
     ]
    }
   ],
   "source": [
    "print('sklearn statistics code')\n",
    "from sklearn.metrics import accuracy_score\n",
    "from sklearn.metrics import precision_score\n",
    "from sklearn.metrics import recall_score\n",
    "from sklearn.metrics import f1_score\n",
    "from sklearn.metrics import precision_recall_curve\n",
    "from sklearn.metrics import roc_curve\n",
    "from sklearn.metrics import roc_auc_score\n",
    "from sklearn.metrics import auc\n",
    "from sklearn.metrics import matthews_corrcoef\n",
    "from sklearn.metrics import confusion_matrix\n"
   ]
  },
  {
   "cell_type": "code",
   "execution_count": 26,
   "id": "cp-XPh8t62NB",
   "metadata": {
    "id": "cp-XPh8t62NB"
   },
   "outputs": [],
   "source": [
    "def show_perf(y_test,y_pred,y_prob):\n",
    "    accuracy = accuracy_score(y_test, y_pred)*100.\n",
    "    precision = precision_score(y_test, y_pred)*100.\n",
    "    recall = recall_score(y_test, y_pred)*100.\n",
    "    f1 = f1_score(y_test, y_pred)*100.\n",
    "    mcc = matthews_corrcoef(y_test, y_pred)\n",
    "    prc_Y, prc_X, prc_bins = precision_recall_curve(y_test, y_prob)\n",
    "    auprc = auc(prc_X,prc_Y)*100.\n",
    "    auroc = roc_auc_score(y_test, y_prob)*100.\n",
    "    correct_ones = 0; correct_zeros = 0\n",
    "    total_ones = 0; total_zeros = 0\n",
    "    for i in range(len(y_pred)):\n",
    "        if y_test[i]==1:\n",
    "            total_ones += 1\n",
    "            if y_pred[i]==1:\n",
    "              correct_ones += 1\n",
    "        if y_test[i]==0:\n",
    "            total_zeros += 1\n",
    "            if y_pred[i]==0:\n",
    "                correct_zeros += 1\n",
    "    sensitivity = (correct_ones/total_ones)*100.\n",
    "    specificity = (correct_zeros/total_zeros)*100.\n",
    "\n",
    "    print('accuracy:',accuracy,'\\nprecision:',precision,'\\nrecall:',recall,\\\n",
    "      '\\nsensitivity:',sensitivity,'\\nspecificity:',specificity,\\\n",
    "    '\\nF1:',f1,'\\nMCC:',mcc,'\\nAUPRC:',auprc,'\\nAUROC:',auroc)"
   ]
  },
  {
   "cell_type": "code",
   "execution_count": 27,
   "id": "Bc92a8G47Y0b",
   "metadata": {
    "colab": {
     "base_uri": "https://localhost:8080/"
    },
    "id": "Bc92a8G47Y0b",
    "outputId": "96f13399-4c37-42ac-bfe1-eae8ad530798"
   },
   "outputs": [
    {
     "name": "stdout",
     "output_type": "stream",
     "text": [
      "accuracy: 70.52631578947368 \n",
      "precision: 70.58823529411765 \n",
      "recall: 73.46938775510205 \n",
      "sensitivity: 73.46938775510205 \n",
      "specificity: 67.3913043478261 \n",
      "F1: 72.00000000000001 \n",
      "MCC: 0.40951635220331667 \n",
      "AUPRC: 77.2127857379498 \n",
      "AUROC: 77.65361579414375\n"
     ]
    }
   ],
   "source": [
    "show_perf(y_test,y_pred,y_prob)"
   ]
  },
  {
   "cell_type": "markdown",
   "id": "hjuykQdk-ur4",
   "metadata": {
    "id": "hjuykQdk-ur4"
   },
   "source": [
    "## Compare to RNAlight test\n",
    "We used the RNAlight_01_ML_lncRNA notebook from the RNAlight repository.   \n",
    "We modified it to print these values.   \n",
    "Here, we confirm that predictions from our optimized model match those of the published optimized model."
   ]
  },
  {
   "cell_type": "code",
   "execution_count": 34,
   "id": "ZrTowJz0-xiD",
   "metadata": {
    "colab": {
     "base_uri": "https://localhost:8080/"
    },
    "id": "ZrTowJz0-xiD",
    "outputId": "8f6cf31f-769f-4285-f811-fde8f0a7e6f3"
   },
   "outputs": [
    {
     "name": "stdout",
     "output_type": "stream",
     "text": [
      "Same!\n"
     ]
    }
   ],
   "source": [
    "y_pred_rep=[0,0,1,1,1,1,1,1,1,1,1,1,0,0,1,1,0,1,1,1,1,0,0,0,0,0,0,0,1,0,0,1,0,1,0,0,1,1,0,0,0,1,0,1,0,1,0,1,0,1,1,1,0,0,0,1,1,0,0,1,1,1,1,1,1,0,0,0,0,1,0,1,0,1,1,1,0,0,0,0,1,0,0,1,1,0,1,1,1,1,0,0,1,0,1,1,0,0,1,1,1,0,1,1,1,1,1,0,1,0,0,1,0,1,1,1,0,0,1,1,0,1,0,0,1,0,1,1,1,1,1,1,1,1,1,1,1,0,1,0,1,1,0,0,0,0,1,1,1,0,1,0,0,0,1,1,0,1,0,0,1,1,1,1,0,1,1,0,0,1,0,0,1,1,0,1,1,1,0,1,0,1,1,0,1,1,0,0,1,1,0,1,0,0,0,0,1,0,1,1,0,0,0,1,1,1,1,1,1,0,0,0,1,1,0,1,1,1,1,0,0,0,1,1,0,0,0,0,0,1,0,0,1,0,0,1,0,0,1,0,0,1,1,1,0,0,0,1,1,0,1,1,1,0,0,0,1,1,0,1,0,1,1,1,0,1,1,0,0,0,0,1,0,0,0,1,1,1,1,0,0,0,0,1,0,0,1,1,0,0,0,0,1,0,0,1,1,1,1,1,1,0,0,1,0,1,1,0,1,1,1,1,1,0,0,1,0,1,0,0,1,1,1,0,1,1,0,0,0,1,0,0,0,0,1,1,0,0,1,1,1,0,1,1,1,1,1,0,1,1,1,0,0,0,1,1,0,1,1,0,0,1,1,0,0,0,1,0,1,1,0,1,1,1,0,0,1,0,1,0]\n",
    "\n",
    "if (y_pred == y_pred_rep).all():\n",
    "    print('Same!')\n"
   ]
  }
 ],
 "metadata": {
  "colab": {
   "provenance": []
  },
  "kernelspec": {
   "display_name": "Python 3 (ipykernel)",
   "language": "python",
   "name": "python3"
  },
  "language_info": {
   "codemirror_mode": {
    "name": "ipython",
    "version": 3
   },
   "file_extension": ".py",
   "mimetype": "text/x-python",
   "name": "python",
   "nbconvert_exporter": "python",
   "pygments_lexer": "ipython3",
   "version": "3.11.6"
  }
 },
 "nbformat": 4,
 "nbformat_minor": 5
}
