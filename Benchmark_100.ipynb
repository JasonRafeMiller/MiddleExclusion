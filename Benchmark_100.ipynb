{
 "cells": [
  {
   "cell_type": "markdown",
   "id": "acf74c17-ffe3-438e-9d43-392640c164d8",
   "metadata": {},
   "source": [
    "# Benchmark\n",
    "Adopt the RNAlight approach, mostly.\n",
    "\n",
    "Input files: one for cytoplasmic lncRNA, the other for nuclear lncRNA.   \n",
    "Input file format: tab-delimited lines of 3 fields: transcipt ID, gene name, RNA sequence.    \n",
    "Header line: ensembl_transcript_id name cdna \n",
    "Data lines: ENST00000371086\tDLEU2L\tGAAAGTTTTCACTGCATCT... \n",
    "Each lncRNA is placed in either file, depending on mean CNRCI over 14 cell lines from lncATLAS.   \n",
    "The threshold is zero; positive CNRCI values are cytoplasmic and others are nuclear.    \n",
    "Use the Ensembl transcript ID (prefix ENST) without any version number suffix.\n",
    "Use the canonical RNA sequence from GenCode to represent each gene in lncATLAS.\n",
    "Evaluate the model by cross-validation on the entire dataset (no test subset withheld)."
   ]
  },
  {
   "cell_type": "markdown",
   "id": "dc09ff79-ea75-45a4-9add-a90715d18d47",
   "metadata": {},
   "source": [
    "From GenCode, download these two files and unzip them:\n",
    "* annotation = gencode.v45.long_noncoding_RNAs.gff3\n",
    "* sequence = gencode.v45.lncRNA_transcripts.fa\n",
    "\n",
    "From lncATLAS, download this file and unzip it:\n",
    "* lncATLAS_all_data_RCI.csv\n",
    "\n",
    "Make sure all three files, or links to them, are in the current directory."
   ]
  },
  {
   "cell_type": "code",
   "execution_count": 1,
   "id": "c969cb87-8b83-4a0c-b620-da11b1970ac1",
   "metadata": {},
   "outputs": [],
   "source": [
    "import traceback\n",
    "import numpy as np"
   ]
  },
  {
   "cell_type": "code",
   "execution_count": 2,
   "id": "13cb76e6-aa5e-466a-8508-69152f163bb4",
   "metadata": {},
   "outputs": [],
   "source": [
    "ATLAS='lncATLAS_all_data_RCI.csv'\n",
    "GFF_FILE='gencode.v45.long_noncoding_RNAs.gff3'\n",
    "FASTA_FILE='gencode.v45.lncRNA_transcripts.fa'"
   ]
  },
  {
   "cell_type": "code",
   "execution_count": 3,
   "id": "7767020b-0f3c-4f17-8d12-bd9ec604e826",
   "metadata": {},
   "outputs": [],
   "source": [
    "def get_canonical_ids(gff_file):\n",
    "    ids = set()\n",
    "    with open(gff_file,'r') as fin:\n",
    "        for line in fin:\n",
    "            if line.startswith('#'):\n",
    "                continue\n",
    "            fields = line.strip().split('\\t')\n",
    "            if fields[2] != 'transcript':\n",
    "                continue\n",
    "            if 'Ensembl_canonical' not in fields[8]:\n",
    "                continue\n",
    "            tag_value_pairs = fields[8].split(';')\n",
    "            for pair in tag_value_pairs:\n",
    "                if pair.startswith('ID='):\n",
    "                    ID_plus_ver = pair[3:]\n",
    "                    just_ID = ID_plus_ver.split('.')[0]\n",
    "                    ids.add(just_ID)\n",
    "                    break\n",
    "    return ids"
   ]
  },
  {
   "cell_type": "code",
   "execution_count": 4,
   "id": "4d1f5b01-3cd6-4d1f-8756-9bd02201d1f6",
   "metadata": {},
   "outputs": [
    {
     "name": "stdout",
     "output_type": "stream",
     "text": [
      "20424 canonical lncRNA IDs\n"
     ]
    }
   ],
   "source": [
    "canon_ids = get_canonical_ids(GFF_FILE)\n",
    "print( len(canon_ids), 'canonical lncRNA IDs')"
   ]
  },
  {
   "cell_type": "code",
   "execution_count": 5,
   "id": "3b10706b-a0d0-47cc-a887-87dbc90903e8",
   "metadata": {},
   "outputs": [],
   "source": [
    "def load_mean_rci(filename,exclude=None):\n",
    "    cnrci_lists = dict()  # key=ENSG_ID, value=list of CN-RCI\n",
    "    with open (filename, 'r') as fin:\n",
    "        header = None\n",
    "        for line in fin:\n",
    "            try:\n",
    "                fields = line.strip().split(',')\n",
    "                if header is None:\n",
    "                    header = fields\n",
    "                    continue\n",
    "                gid = fields[0]\n",
    "                cell_type = fields[1]\n",
    "                rci_type = fields[2]\n",
    "                rci_value = fields[3]\n",
    "                gene_type = fields[6]\n",
    "                if exclude is None or cell_type==exclude:\n",
    "                    if gene_type=='nc' and\\\n",
    "                        rci_type=='CNRCI' and\\\n",
    "                        rci_value!='NA':\n",
    "                        rci_value=float(rci_value)\n",
    "                        if gid not in cnrci_lists.keys():\n",
    "                            cnrci_lists[gid] = []\n",
    "                        cnrci_lists[gid].append(rci_value)\n",
    "            except Exception as e:\n",
    "                print(line)\n",
    "                traceback.print_exc()\n",
    "                raise(e)\n",
    "    cnrci_means = dict()\n",
    "    # Compute the log2 of the mean ratio.\n",
    "    # Avoid using the mean of the log2 ratios.\n",
    "    for gene,values in cnrci_lists.items():\n",
    "        if len(values)<=0:\n",
    "            print('Should not have loaded a gene with no CNRCI values.')\n",
    "            raise Exception\n",
    "        antilogs = [2**x for x in values]\n",
    "        big_mean = np.mean(antilogs)\n",
    "        if np.isclose(big_mean,0):\n",
    "            log_mean = -1000000 # neg infinity\n",
    "        else:\n",
    "            log_mean = np.log2(big_mean) \n",
    "        cnrci_means[gene] = log_mean\n",
    "    return cnrci_means"
   ]
  },
  {
   "cell_type": "code",
   "execution_count": 6,
   "id": "7878b057-2247-4f8b-95a1-35940abc9adc",
   "metadata": {},
   "outputs": [
    {
     "name": "stdout",
     "output_type": "stream",
     "text": [
      "4923 genes with a mean CN-RCI value\n"
     ]
    }
   ],
   "source": [
    "mean_rcis = load_mean_rci(ATLAS,exclude='H1.hESC')\n",
    "print( len(mean_rcis.keys()), 'genes with a mean CN-RCI value')"
   ]
  },
  {
   "cell_type": "code",
   "execution_count": 7,
   "id": "c9bd221d-8ba6-4f64-af40-694af97c05ef",
   "metadata": {},
   "outputs": [],
   "source": [
    "def load_transcripts(seq_file,good_gids,good_tids):\n",
    "    sequences = list()  # list of tuple\n",
    "    seq = ''\n",
    "    with open (seq_file,'r') as fin:\n",
    "        loading_sequence = False\n",
    "        for line in fin:\n",
    "            line = line.strip()\n",
    "            if line.startswith('>'):\n",
    "                # Save the previous sequence\n",
    "                if loading_sequence:\n",
    "                    tup = (tid,gid,seq)\n",
    "                    sequences.append(tup)\n",
    "                    loading_sequence = False\n",
    "                # Parse the defline like\n",
    "                # >ENST00000456328.2|ENSG00000290825.1|-|OTTHUMT00000362751.1|DDX11L2-202|DDX11L2|1657|\n",
    "                fields = line[1:].split('|')\n",
    "                tid = fields[0].split('.')[0]\n",
    "                gid = fields[1].split('.')[0]\n",
    "                seq = ''\n",
    "                if tid in good_tids and gid in good_gids:\n",
    "                    loading_sequence = True\n",
    "            elif loading_sequence:\n",
    "                # Continuation of multi-line sequence\n",
    "                seq += line\n",
    "    if loading_sequence:\n",
    "        # Save the last sequence\n",
    "        tup = (tid,gid,seq)\n",
    "        sequences.append(tup)    \n",
    "    return sequences        "
   ]
  },
  {
   "cell_type": "code",
   "execution_count": 8,
   "id": "50bf18d9-e361-4fde-a6f3-aec01041cf1a",
   "metadata": {},
   "outputs": [
    {
     "name": "stdout",
     "output_type": "stream",
     "text": [
      "Loading RNA sequence for canonical transcripts of genes with CN-RCI values...\n",
      "4536 sequences loaded\n"
     ]
    }
   ],
   "source": [
    "gene_ids = set(mean_rcis.keys())\n",
    "print('Loading RNA sequence for canonical transcripts of genes with CN-RCI values...')\n",
    "sequences = load_transcripts(FASTA_FILE,gene_ids,canon_ids)\n",
    "print( len(sequences), 'sequences loaded')"
   ]
  },
  {
   "cell_type": "code",
   "execution_count": 9,
   "id": "f84140cb-bf47-4a70-9d8a-7842005198ac",
   "metadata": {},
   "outputs": [],
   "source": [
    "DATAPATH = './'\n",
    "cyt_file  = DATAPATH+'mean_RCI_positive.canonical.tsv'   \n",
    "nuc_file  = DATAPATH+'mean_RCI_negative.canonical.tsv'"
   ]
  },
  {
   "cell_type": "code",
   "execution_count": 10,
   "id": "cc67c5e2-087c-4cf5-9911-bdb41994f6fe",
   "metadata": {},
   "outputs": [],
   "source": [
    "THRESHOLD = 0\n",
    "def print_fasta_files(nuc_fn, cyt_fn, seqtups, mean_rcis):\n",
    "    header = 'ensembl_transcript_id\\tname\\tcdna\\n'\n",
    "    nuc_handle = open(nuc_fn, 'w')\n",
    "    nuc_handle.write(header)\n",
    "    cyt_handle = open(cyt_fn, 'w') \n",
    "    cyt_handle.write(header)\n",
    "    for tup in seqtups:\n",
    "        tid,gid,seq = tup\n",
    "        cnrci = mean_rcis[gid]\n",
    "        string = tid+'\\t'+gid+'\\t'+seq+'\\n'\n",
    "        if cnrci > THRESHOLD:\n",
    "            cyt_handle.write(string)\n",
    "        else:\n",
    "            nuc_handle.write(string)\n",
    "    nuc_handle.close()\n",
    "    cyt_handle.close()"
   ]
  },
  {
   "cell_type": "code",
   "execution_count": 11,
   "id": "27a74942-07eb-42a1-86e9-b4c29dea0298",
   "metadata": {},
   "outputs": [
    {
     "name": "stdout",
     "output_type": "stream",
     "text": [
      "Done\n"
     ]
    }
   ],
   "source": [
    "print_fasta_files(nuc_file, cyt_file, sequences, mean_rcis)\n",
    "print('Done')"
   ]
  },
  {
   "cell_type": "code",
   "execution_count": null,
   "id": "80bfbf45-d788-4c81-bf0e-a6596818e680",
   "metadata": {},
   "outputs": [],
   "source": []
  },
  {
   "cell_type": "markdown",
   "id": "269c11d0-07f2-46ad-a25d-fe0f1500bee8",
   "metadata": {},
   "source": [
    "# "
   ]
  }
 ],
 "metadata": {
  "kernelspec": {
   "display_name": "Python 3 (ipykernel)",
   "language": "python",
   "name": "python3"
  },
  "language_info": {
   "codemirror_mode": {
    "name": "ipython",
    "version": 3
   },
   "file_extension": ".py",
   "mimetype": "text/x-python",
   "name": "python",
   "nbconvert_exporter": "python",
   "pygments_lexer": "ipython3",
   "version": "3.11.6"
  }
 },
 "nbformat": 4,
 "nbformat_minor": 5
}
