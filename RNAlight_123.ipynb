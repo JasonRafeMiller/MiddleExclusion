{
 "cells": [
  {
   "cell_type": "markdown",
   "id": "acf74c17-ffe3-438e-9d43-392640c164d8",
   "metadata": {},
   "source": [
    "# RNAlight data prep\n",
    "Prepare data files for LightGBM experiments.   \n",
    "Generate sequence in the style of RNAlight inputs like 02_lncRNA_info_cyto_transcript.tsv:\n",
    "\n",
    "    ENST00000296270\tIGF2BP2-AS1\tGTTATTGCGACTTTGATCTAAA...\n"
   ]
  },
  {
   "cell_type": "code",
   "execution_count": 1,
   "id": "c969cb87-8b83-4a0c-b620-da11b1970ac1",
   "metadata": {},
   "outputs": [],
   "source": [
    "import traceback\n",
    "import numpy as np"
   ]
  },
  {
   "cell_type": "markdown",
   "id": "dc09ff79-ea75-45a4-9add-a90715d18d47",
   "metadata": {},
   "source": [
    "From GenCode, download these two files:\n",
    "* annotation = gencode.v44.long_noncoding_RNAs.gff3\n",
    "* sequence = gencode.v44.lncRNA_transcripts.fa"
   ]
  },
  {
   "cell_type": "code",
   "execution_count": 2,
   "id": "13cb76e6-aa5e-466a-8508-69152f163bb4",
   "metadata": {},
   "outputs": [],
   "source": [
    "ATLAS='lncATLAS_all_data_RCI.csv'\n",
    "GFF_FILE='gencode.v44.long_noncoding_RNAs.gff3'\n",
    "FASTA_FILE='gencode.v44.lncRNA_transcripts.fa'"
   ]
  },
  {
   "cell_type": "code",
   "execution_count": 3,
   "id": "7767020b-0f3c-4f17-8d12-bd9ec604e826",
   "metadata": {},
   "outputs": [],
   "source": [
    "def get_canonical_ids(gff_file):\n",
    "    ids = set()\n",
    "    with open(gff_file,'r') as fin:\n",
    "        for line in fin:\n",
    "            if line.startswith('#'):\n",
    "                continue\n",
    "            fields = line.strip().split('\\t')\n",
    "            if fields[2] != 'transcript':\n",
    "                continue\n",
    "            if 'Ensembl_canonical' not in fields[8]:\n",
    "                continue\n",
    "            tag_value_pairs = fields[8].split(';')\n",
    "            for pair in tag_value_pairs:\n",
    "                if pair.startswith('ID='):\n",
    "                    ID_plus_ver = pair[3:]\n",
    "                    just_ID = ID_plus_ver.split('.')[0]\n",
    "                    ids.add(just_ID)\n",
    "                    break\n",
    "    return ids"
   ]
  },
  {
   "cell_type": "code",
   "execution_count": 4,
   "id": "4d1f5b01-3cd6-4d1f-8756-9bd02201d1f6",
   "metadata": {},
   "outputs": [
    {
     "name": "stdout",
     "output_type": "stream",
     "text": [
      "19922 canonical lncRNA IDs\n"
     ]
    }
   ],
   "source": [
    "canon_ids = get_canonical_ids(GFF_FILE)\n",
    "print( len(canon_ids), 'canonical lncRNA IDs')"
   ]
  },
  {
   "cell_type": "code",
   "execution_count": 5,
   "id": "3b10706b-a0d0-47cc-a887-87dbc90903e8",
   "metadata": {},
   "outputs": [],
   "source": [
    "def load_mean_rci(filename,exclude=None):\n",
    "    cnrci_lists = dict()  # key=ENSG_ID, value=list of CN-RCI\n",
    "    with open (filename, 'r') as fin:\n",
    "        header = None\n",
    "        for line in fin:\n",
    "            try:\n",
    "                fields = line.strip().split(',')\n",
    "                if header is None:\n",
    "                    header = fields\n",
    "                    continue\n",
    "                gid = fields[0]\n",
    "                cell_type = fields[1]\n",
    "                rci_type = fields[2]\n",
    "                rci_value = fields[3]\n",
    "                gene_type = fields[6]\n",
    "                if exclude is None or cell_type==exclude:\n",
    "                    if gene_type=='nc' and\\\n",
    "                        rci_type=='CNRCI' and\\\n",
    "                        rci_value!='NA':\n",
    "                        rci_value=float(rci_value)\n",
    "                        if gid not in cnrci_lists.keys():\n",
    "                            cnrci_lists[gid] = []\n",
    "                        cnrci_lists[gid].append(rci_value)\n",
    "            except Exception as e:\n",
    "                print(line)\n",
    "                traceback.print_exc()\n",
    "                raise(e)\n",
    "    cnrci_means = dict()\n",
    "    for k,v in cnrci_lists.items():\n",
    "        mean = np.mean(v)\n",
    "        cnrci_means[k] = mean\n",
    "    return cnrci_means"
   ]
  },
  {
   "cell_type": "code",
   "execution_count": 6,
   "id": "7878b057-2247-4f8b-95a1-35940abc9adc",
   "metadata": {},
   "outputs": [
    {
     "name": "stdout",
     "output_type": "stream",
     "text": [
      "4923 genes with a mean CN-RCI value\n"
     ]
    }
   ],
   "source": [
    "mean_rcis = load_mean_rci(ATLAS,exclude='H1.hESC')\n",
    "print( len(mean_rcis.keys()), 'genes with a mean CN-RCI value')"
   ]
  },
  {
   "cell_type": "code",
   "execution_count": 7,
   "id": "c9bd221d-8ba6-4f64-af40-694af97c05ef",
   "metadata": {},
   "outputs": [],
   "source": [
    "def load_transcripts(seq_file,good_gids,good_tids):\n",
    "    sequences = list()  # list of tuple\n",
    "    seq = ''\n",
    "    with open (seq_file,'r') as fin:\n",
    "        loading_sequence = False\n",
    "        for line in fin:\n",
    "            line = line.strip()\n",
    "            if line.startswith('>'):\n",
    "                # Save the previous sequence\n",
    "                if loading_sequence:\n",
    "                    tup = (tid,gid,seq)\n",
    "                    sequences.append(tup)\n",
    "                    loading_sequence = False\n",
    "                # Parse the defline like\n",
    "                # >ENST00000456328.2|ENSG00000290825.1|-|OTTHUMT00000362751.1|DDX11L2-202|DDX11L2|1657|\n",
    "                fields = line[1:].split('|')\n",
    "                tid = fields[0].split('.')[0]\n",
    "                gid = fields[1].split('.')[0]\n",
    "                seq = ''\n",
    "                if tid in good_tids and gid in good_gids:\n",
    "                    loading_sequence = True\n",
    "            elif loading_sequence:\n",
    "                # Continuation of multi-line sequence\n",
    "                seq += line\n",
    "    if loading_sequence:\n",
    "        # Save the last sequence\n",
    "        tup = (tid,gid,seq)\n",
    "        sequences.append(tup)    \n",
    "    return sequences        "
   ]
  },
  {
   "cell_type": "code",
   "execution_count": 8,
   "id": "50bf18d9-e361-4fde-a6f3-aec01041cf1a",
   "metadata": {},
   "outputs": [
    {
     "name": "stdout",
     "output_type": "stream",
     "text": [
      "Loading RNA sequence for canonical transcripts of genes with CN-RCI values...\n",
      "4541 sequences loaded\n"
     ]
    }
   ],
   "source": [
    "gene_ids = set(mean_rcis.keys())\n",
    "print('Loading RNA sequence for canonical transcripts of genes with CN-RCI values...')\n",
    "sequences = load_transcripts(FASTA_FILE,gene_ids,canon_ids)\n",
    "print( len(sequences), 'sequences loaded')"
   ]
  },
  {
   "cell_type": "code",
   "execution_count": 9,
   "id": "f84140cb-bf47-4a70-9d8a-7842005198ac",
   "metadata": {},
   "outputs": [],
   "source": [
    "DATAPATH = './'\n",
    "# Middle defined as -2 to 0.\n",
    "# no middle exclusion\n",
    "cyt_no_me  = DATAPATH+'ForRNAlight.lncRNA_RCIgt-1.canonical.tsv'   \n",
    "nuc_no_me  = DATAPATH+'ForRNAlight.lncRNA_RCIlt-1.canonical.tsv'\n",
    "# yes middle exclusion\n",
    "cyt_yes_me  = DATAPATH+'ForRNAlight.lncRNA_RCIgt0.canonical.tsv'    \n",
    "nuc_yes_me  = DATAPATH+'ForRNAlight.lncRNA_RCIlt-2.canonical.tsv'\n",
    "# just the middle\n",
    "cyt_middle  = DATAPATH+'ForRNAlight.lncRNA_RCI-1to0.canonical.tsv'\n",
    "nuc_middle  = DATAPATH+'ForRNAlight.lncRNA_RCI-2to-1.canonical.tsv'    \n",
    "# Middle defined as -1 to +1.\n",
    "cyt_zero_me = DATAPATH+'ForRNAlight.lncRNA_RCIgt1.canonical.tsv'\n",
    "nuc_zero_me = DATAPATH+'ForRNAlight.lncRNA_RCIlt-1.canonical.tsv'"
   ]
  },
  {
   "cell_type": "code",
   "execution_count": 10,
   "id": "cc67c5e2-087c-4cf5-9911-bdb41994f6fe",
   "metadata": {},
   "outputs": [],
   "source": [
    "def print_fasta_files(nuc_fn, nuc_threshold, cyt_fn, cyt_threshold, seqtups, mean_rcis, just_middle=False):\n",
    "    header = 'ensembl_transcript_id\\tname\\tcdna\\n'\n",
    "    nuc_handle = open(nuc_fn, 'w')\n",
    "    nuc_handle.write(header)\n",
    "    cyt_handle = open(cyt_fn, 'w') \n",
    "    cyt_handle.write(header)\n",
    "    mid_value = (nuc_threshold+cyt_threshold)/2 # expect (-2+0)/2=-1\n",
    "    for tup in seqtups:\n",
    "        tid,gid,seq = tup\n",
    "        cnrci = mean_rcis[gid]\n",
    "        string = tid+'\\t'+gid+'\\t'+seq+'\\n'\n",
    "        if just_middle:\n",
    "            if cnrci >= nuc_threshold and cnrci <= cyt_threshold:\n",
    "                if cnrci > mid_value:\n",
    "                    cyt_handle.write(string)\n",
    "                else:\n",
    "                    nuc_handle.write(string)\n",
    "        else:\n",
    "            if cnrci > cyt_threshold:\n",
    "                cyt_handle.write(string)\n",
    "            if cnrci < nuc_threshold:\n",
    "                nuc_handle.write(string)\n",
    "    nuc_handle.close()\n",
    "    cyt_handle.close()"
   ]
  },
  {
   "cell_type": "code",
   "execution_count": 11,
   "id": "27a74942-07eb-42a1-86e9-b4c29dea0298",
   "metadata": {},
   "outputs": [
    {
     "name": "stdout",
     "output_type": "stream",
     "text": [
      "Done\n"
     ]
    }
   ],
   "source": [
    "# no middle exclusion\n",
    "print_fasta_files(nuc_no_me, -1, cyt_no_me, -1, sequences, mean_rcis)\n",
    "print('Done')"
   ]
  },
  {
   "cell_type": "code",
   "execution_count": 12,
   "id": "5eb12de3-dfaa-43b0-864e-9fac7edc9a4e",
   "metadata": {},
   "outputs": [
    {
     "name": "stdout",
     "output_type": "stream",
     "text": [
      "Done\n"
     ]
    }
   ],
   "source": [
    "# yes middle exclusion\n",
    "print_fasta_files(nuc_yes_me, -2, cyt_yes_me, 0, sequences, mean_rcis)\n",
    "print('Done')"
   ]
  },
  {
   "cell_type": "code",
   "execution_count": 13,
   "id": "369df425-afdc-43a2-918c-619b96cc3ea6",
   "metadata": {},
   "outputs": [
    {
     "name": "stdout",
     "output_type": "stream",
     "text": [
      "Done\n"
     ]
    }
   ],
   "source": [
    "# just the middle\n",
    "print_fasta_files(nuc_middle, -2, cyt_middle, 0, sequences, mean_rcis, just_middle=True)\n",
    "print('Done')"
   ]
  },
  {
   "cell_type": "code",
   "execution_count": 14,
   "id": "ad5dbb88-4ce3-4f2d-909c-46b1e925249a",
   "metadata": {},
   "outputs": [
    {
     "name": "stdout",
     "output_type": "stream",
     "text": [
      "Done\n"
     ]
    }
   ],
   "source": [
    "# Exclude -1 to +1\n",
    "print_fasta_files(nuc_zero_me, -1, cyt_zero_me, +1, sequences, mean_rcis)\n",
    "print('Done')"
   ]
  },
  {
   "cell_type": "markdown",
   "id": "94ee3377-637a-4758-bbda-93cb703d1022",
   "metadata": {},
   "source": [
    "## Number of transcripts\n",
    "middle exclusion\n",
    "\n",
    "      1704 ForRNAlight.lncRNA_RCIgt0.canonical.tsv\n",
    "       761 ForRNAlight.lncRNA_RCIlt-2.canonical.tsv\n",
    "\n",
    "no middle exclusion\n",
    "\n",
    "      2888 ForRNAlight.lncRNA_RCIgt-1.canonical.tsv\n",
    "      1655 ForRNAlight.lncRNA_RCIlt-1.canonical.tsv"
   ]
  },
  {
   "cell_type": "code",
   "execution_count": 15,
   "id": "5d75f65a-b144-4f9f-bc86-87b07f01c858",
   "metadata": {},
   "outputs": [
    {
     "name": "stdout",
     "output_type": "stream",
     "text": [
      "Canonical transcripts in the mean-14-lines lncATLAS data:\n",
      "total 4543 genes\n",
      "Using -1 as the cyto/nuc threshold...\n",
      "cytoplasmic 2888 genes, 63.57% of total\n",
      "nuclear 1655 genes, 36.43% of total\n"
     ]
    }
   ],
   "source": [
    "lncRNA_gt_Neg1 = 2888 \n",
    "lncRNA_lt_Neg1 = 1655\n",
    "grand_total = lncRNA_gt_Neg1 + lncRNA_lt_Neg1\n",
    "print('Canonical transcripts in the mean-14-lines lncATLAS data:')\n",
    "print('total %d genes' % grand_total)\n",
    "print('Using -1 as the cyto/nuc threshold...')\n",
    "print('cytoplasmic %d genes, %5.2f%% of total' % (lncRNA_gt_Neg1,100*lncRNA_gt_Neg1/grand_total))\n",
    "print('nuclear %d genes, %5.2f%% of total' %     (lncRNA_lt_Neg1,100*lncRNA_lt_Neg1/grand_total))"
   ]
  },
  {
   "cell_type": "code",
   "execution_count": 16,
   "id": "2b042305-8d94-4b28-a1a7-717c63dbe8bf",
   "metadata": {},
   "outputs": [
    {
     "name": "stdout",
     "output_type": "stream",
     "text": [
      "Using -2 and 0 as the cyto/nuc threshold...\n",
      "extreme cytoplasmic 1704 genes\n",
      "extreme nuclear 761 genes\n",
      "middle cytoplasmic 1184 genes excluded\n",
      "middle nuclear 894 genes excluded\n"
     ]
    }
   ],
   "source": [
    "lncRNA_gt_Zero = 1704 \n",
    "lncRNA_lt_Neg2 = 761 \n",
    "print('Using -2 and 0 as the cyto/nuc threshold...')\n",
    "print('extreme cytoplasmic %d genes' % lncRNA_gt_Zero)\n",
    "print('extreme nuclear %d genes' % lncRNA_lt_Neg2)\n",
    "lncRNA_Neg1_to_Zero = lncRNA_gt_Neg1 - lncRNA_gt_Zero\n",
    "lncRNA_Neg2_to_Neg1 = lncRNA_lt_Neg1 - lncRNA_lt_Neg2\n",
    "print('middle cytoplasmic %d genes excluded' % lncRNA_Neg1_to_Zero)\n",
    "print('middle nuclear %d genes excluded' % lncRNA_Neg2_to_Neg1)"
   ]
  },
  {
   "cell_type": "code",
   "execution_count": 17,
   "id": "c77d419f-14c6-487f-b593-b6758c355a7e",
   "metadata": {},
   "outputs": [
    {
     "name": "stdout",
     "output_type": "stream",
     "text": [
      "For extreme cyto count C, add back C * 0.695 genes\n",
      "For example, 1704 * 0.695 = 1184\n"
     ]
    }
   ],
   "source": [
    "cyto_multiplier = (lncRNA_Neg1_to_Zero/lncRNA_gt_Zero)\n",
    "print('For extreme cyto count C, add back C * %5.3f genes' % cyto_multiplier)\n",
    "print('For example, %d * %5.3f = %d' % (lncRNA_gt_Zero, cyto_multiplier, int(lncRNA_gt_Zero * cyto_multiplier)))"
   ]
  },
  {
   "cell_type": "code",
   "execution_count": 18,
   "id": "e7d916c2-2589-4d96-be6b-603c8c3f647b",
   "metadata": {},
   "outputs": [
    {
     "name": "stdout",
     "output_type": "stream",
     "text": [
      "For extreme nuc count N, add back N * 1.175 genes\n",
      "For example, 761 * 1.175 = 894\n"
     ]
    }
   ],
   "source": [
    "nuc_multiplier = (lncRNA_Neg2_to_Neg1/lncRNA_lt_Neg2)\n",
    "print('For extreme nuc count N, add back N * %5.3f genes' % nuc_multiplier)\n",
    "print('For example, %d * %5.3f = %d' % (lncRNA_lt_Neg2, nuc_multiplier, int(lncRNA_lt_Neg2 * nuc_multiplier)))"
   ]
  },
  {
   "cell_type": "code",
   "execution_count": null,
   "id": "80bfbf45-d788-4c81-bf0e-a6596818e680",
   "metadata": {},
   "outputs": [],
   "source": []
  }
 ],
 "metadata": {
  "kernelspec": {
   "display_name": "Python 3 (ipykernel)",
   "language": "python",
   "name": "python3"
  },
  "language_info": {
   "codemirror_mode": {
    "name": "ipython",
    "version": 3
   },
   "file_extension": ".py",
   "mimetype": "text/x-python",
   "name": "python",
   "nbconvert_exporter": "python",
   "pygments_lexer": "ipython3",
   "version": "3.11.6"
  }
 },
 "nbformat": 4,
 "nbformat_minor": 5
}
